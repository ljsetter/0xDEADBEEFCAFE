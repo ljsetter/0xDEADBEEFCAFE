{
 "cells": [
  {
   "cell_type": "code",
   "execution_count": 10,
   "metadata": {},
   "outputs": [
    {
     "data": {
      "text/plain": [
       "'C:\\\\Users\\\\pstanfel_a\\\\Documents\\\\CSCI 575\\\\Applied Project\\\\code\\\\0xDEADBEEFCAFE\\\\python\\\\pneumonia'"
      ]
     },
     "execution_count": 10,
     "metadata": {},
     "output_type": "execute_result"
    }
   ],
   "source": [
    "os.path.dirname(os.getcwd())"
   ]
  },
  {
   "cell_type": "code",
   "execution_count": 3,
   "metadata": {},
   "outputs": [],
   "source": [
    "import keras\n",
    "from keras.preprocessing.image import ImageDataGenerator, load_img\n",
    "import numpy as np\n",
    "import os\n",
    "from utils.dice import dice_coef\n",
    "import matplotlib.pyplot as plt\n",
    "import matplotlib.cm as cm"
   ]
  },
  {
   "cell_type": "code",
   "execution_count": 4,
   "metadata": {},
   "outputs": [],
   "source": [
    "def dice_error(y_true, y_pred):\n",
    "    return 1-dice_coef(y_true, y_pred)"
   ]
  },
  {
   "cell_type": "code",
   "execution_count": 6,
   "metadata": {},
   "outputs": [],
   "source": [
    "model = keras.models.load_model('unet_model_16_filters_kernel2x2.h5',custom_objects={'dice_coef':dice_coef,'dice_error':dice_error})"
   ]
  },
  {
   "cell_type": "code",
   "execution_count": 20,
   "metadata": {},
   "outputs": [],
   "source": [
    "import glob\n",
    "from keras.preprocessing.image import image, load_img, save_img\n",
    "\n",
    "def mask_image(model, input_glob, output_path, label_header):\n",
    "    \"\"\"\n",
    "    Mask an image using the UNet model.\n",
    "    \"\"\"\n",
    "    crx_images = input_glob\n",
    "    \n",
    "    i = 0\n",
    "    \n",
    "    for crx_image in crx_images:\n",
    "        img = load_img(crx_image, color_mode='grayscale', target_size=(128,128))\n",
    "        img = image.img_to_array(img)\n",
    "        img = img * (1. / 255)\n",
    "        img = np.expand_dims(img, axis=0)\n",
    "\n",
    "        sgm = model.predict(img).argmax(axis=3)[0]\n",
    "        img_mask = sgm > 0\n",
    "        img_mask = np.where(img_mask, img[...,0][0], 0)\n",
    "        img_mask = np.reshape(img_mask, (128,128,1))\n",
    "\n",
    "        path = output_path\n",
    "        img_path = label_header + str(i) + '.jpg'\n",
    "        path = path + img_path\n",
    "        save_img(path, img_mask)\n",
    "        i += 1"
   ]
  },
  {
   "cell_type": "code",
   "execution_count": 21,
   "metadata": {},
   "outputs": [],
   "source": [
    "parent_path = os.path.dirname( os.getcwd() )\n",
    "\n",
    "file_paths = ['\\\\train\\\\NORMAL\\\\', '\\\\train\\\\PNEUMONIA\\\\', \\\n",
    "              '\\\\test\\\\NORMAL\\\\', '\\\\test\\\\PNEUMONIA\\\\', \\\n",
    "              '\\\\val\\\\NORMAL\\\\', '\\\\val\\\\PNEUMONIA\\\\']\n",
    "\n",
    "for i,file_path in enumerate(file_paths):\n",
    "    input_path = glob.glob(parent_path + '\\\\data' + file_path + '*')\n",
    "    output_path = parent_path + '\\\\lung_mask_data' + file_path\n",
    "\n",
    "    if i % 2 == 0:\n",
    "        header = \"normal_crx\"\n",
    "    else:\n",
    "        header = \"pneumonia_crx\"\n",
    "        \n",
    "    mask_image(model, input_path, output_path, header)\n",
    "    "
   ]
  },
  {
   "cell_type": "code",
   "execution_count": null,
   "metadata": {},
   "outputs": [],
   "source": []
  }
 ],
 "metadata": {
  "file_extension": ".py",
  "kernelspec": {
   "display_name": "Python 3",
   "language": "python",
   "name": "python3"
  },
  "language_info": {
   "codemirror_mode": {
    "name": "ipython",
    "version": 3
   },
   "file_extension": ".py",
   "mimetype": "text/x-python",
   "name": "python",
   "nbconvert_exporter": "python",
   "pygments_lexer": "ipython3",
   "version": "3.7.5"
  },
  "mimetype": "text/x-python",
  "name": "python",
  "npconvert_exporter": "python",
  "pygments_lexer": "ipython3",
  "version": 3
 },
 "nbformat": 4,
 "nbformat_minor": 2
}
