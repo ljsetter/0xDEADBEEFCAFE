{
 "nbformat": 4,
 "nbformat_minor": 2,
 "metadata": {
  "language_info": {
   "name": "python",
   "codemirror_mode": {
    "name": "ipython",
    "version": 3
   }
  },
  "orig_nbformat": 2,
  "file_extension": ".py",
  "mimetype": "text/x-python",
  "name": "python",
  "npconvert_exporter": "python",
  "pygments_lexer": "ipython3",
  "version": 3
 },
 "cells": [
  {
   "cell_type": "code",
   "execution_count": 9,
   "metadata": {},
   "outputs": [],
   "source": [
    "from keras.models import Sequential\n",
    "from keras.layers import Conv2D, MaxPooling2D, Flatten, Dense, Dropout\n",
    "from keras.preprocessing.image import ImageDataGenerator, load_img\n",
    "import optuna\n",
    "import math\n",
    "import os\n",
    "import time"
   ]
  },
  {
   "cell_type": "code",
   "execution_count": 10,
   "metadata": {},
   "outputs": [],
   "source": [
    "path = '/home/mason/Documents/school/machine_learning/projects/applied_project/0xDEADBEEFCAFE/python/pneumonia/creating_models_optuna'\n",
    "data_path = path + \"/../data\"\n",
    "test_data_filepath = data_path + \"/test\"\n",
    "train_data_filepath = data_path + \"/train\"\n",
    "val_data_filepath = data_path + \"/val\"\n",
    "\n",
    "BATCH_SIZE = 50\n",
    "NUM_EPOCHS = 20\n",
    "NUM_TRAIN_SAMPLES = 1341 + 3875 # Normal + Pneumonia\n",
    "NUM_VAL_SAMPLES = 8 + 8 # Normal + Pneumonia\n",
    "\n",
    "INPUT_SHAPE = (255, 255, 3)"
   ]
  },
  {
   "cell_type": "code",
   "execution_count": 11,
   "metadata": {},
   "outputs": [],
   "source": [
    "def objective(trial):\n",
    "    train_gen = ImageDataGenerator( rescale=1./255,\n",
    "                                    shear_range= 0.2,\n",
    "                                    zoom_range=0.2,\n",
    "                                    horizontal_flip=True)\n",
    "\n",
    "    val_gen = ImageDataGenerator(rescale=1. / 255)\n",
    "\n",
    "    train_set = train_gen.flow_from_directory(  train_data_filepath,\n",
    "                                                target_size=(INPUT_SHAPE[0], INPUT_SHAPE[1]),\n",
    "                                                batch_size=BATCH_SIZE,\n",
    "                                                class_mode='binary')\n",
    "\n",
    "    val_set = val_gen.flow_from_directory(  val_data_filepath,\n",
    "                                            target_size=(INPUT_SHAPE[0], INPUT_SHAPE[1]),\n",
    "                                            batch_size=BATCH_SIZE,\n",
    "                                            class_mode='binary')\n",
    "\n",
    "    test_gen = ImageDataGenerator(rescale= 1./255)\n",
    "    test_set = test_gen.flow_from_directory(  test_data_filepath,\n",
    "                                                target_size=(INPUT_SHAPE[0], INPUT_SHAPE[1]),\n",
    "                                                batch_size=BATCH_SIZE,\n",
    "                                                class_mode='binary')\n",
    "\n",
    "    model = Sequential()\n",
    "    \n",
    "    # First Convolutional Layer\n",
    "    model.add(\n",
    "        Conv2D( filters=trial.suggest_categorical('filters_1', [16, 32, 64, 128]),\n",
    "                kernel_size=trial.suggest_categorical('kernel_size_1', [2, 3, 4]),\n",
    "                input_shape=INPUT_SHAPE,\n",
    "                activation='relu'))\n",
    "    model.add(MaxPooling2D(pool_size=(2, 2)))\n",
    "    model.add(Dropout(trial.suggest_uniform('dropout_1', 0.0, 1.0)))\n",
    "\n",
    "    # Second Convolutional Layer\n",
    "    model.add(\n",
    "        Conv2D( filters=trial.suggest_categorical('filters_2', [16, 32, 64, 128]),\n",
    "                kernel_size=trial.suggest_categorical('kernel_size_2', [2, 3, 4]),\n",
    "                activation='relu'))\n",
    "    model.add(MaxPooling2D(pool_size=(2, 2)))\n",
    "    model.add(Dropout(trial.suggest_uniform('dropout_2', 0.0, 1.0)))\n",
    "\n",
    "    # Third Convolutional Layer\n",
    "    model.add(\n",
    "        Conv2D( filters=trial.suggest_categorical('filters_3', [16, 32, 64, 128]),\n",
    "                kernel_size=trial.suggest_categorical('kernel_size_3', [2, 3, 4]),\n",
    "                activation='relu'))\n",
    "    model.add(MaxPooling2D(pool_size=(2, 2)))\n",
    "    model.add(Dropout(trial.suggest_uniform('dropout_3', 0.0, 1.0)))\n",
    "\n",
    "    # Fourth Convolutional Layer\n",
    "    if trial.suggest_categorical('Fourth Layer', [True, False]):\n",
    "        model.add(\n",
    "            Conv2D( filters=trial.suggest_categorical('filters_4', [16, 32, 64, 128]),\n",
    "                    kernel_size=trial.suggest_categorical('kernel_size_4', [2, 3, 4]),\n",
    "                    activation='relu'))\n",
    "        model.add(MaxPooling2D(pool_size=(2, 2)))\n",
    "        model.add(Dropout(trial.suggest_uniform('dropout_4', 0.0, 1.0)))\n",
    "\n",
    "    # Feed forward network ----------\n",
    "    model.add(Flatten())\n",
    "    model.add(Dense(trial.suggest_categorical('dense_layer_nodes_1', [16, 32, 64]), activation='relu'))\n",
    "\n",
    "    # Output Layer\n",
    "    model.add(Dense(1, activation='sigmoid'))\n",
    "\n",
    "    model.compile(optimizer = 'adam', loss = 'binary_crossentropy', metrics = ['accuracy'])\n",
    "\n",
    "    model.fit_generator(train_set,\n",
    "                        steps_per_epoch=int(NUM_TRAIN_SAMPLES/BATCH_SIZE),\n",
    "                        nb_epoch=NUM_EPOCHS,\n",
    "                        validation_data=val_set,\n",
    "                        validation_steps=math.ceil(NUM_VAL_SAMPLES / BATCH_SIZE))\n",
    "  \n",
    "    accuracy = model.evaluate_generator(test_set)[1]\n",
    "    \n",
    "    model.save(path + '/' + 'models/model_' + str(int(accuracy * 100 * 100)) + '_' + str(int(math.ceil(time.time()))) + '.h5')\n",
    "\n",
    "    return -accuracy"
   ]
  },
  {
   "cell_type": "code",
   "execution_count": 12,
   "metadata": {},
   "outputs": [
    {
     "name": "stdout",
     "output_type": "stream",
     "text": "Found 5216 images belonging to 2 classes.\nFound 16 images belonging to 2 classes.\nFound 624 images belonging to 2 classes.\n/home/mason/.local/lib/python3.6/site-packages/ipykernel_launcher.py:74: UserWarning:\n\nThe semantics of the Keras 2 argument `steps_per_epoch` is not the same as the Keras 1 argument `samples_per_epoch`. `steps_per_epoch` is the number of batches to draw from the generator at each epoch. Basically steps_per_epoch = samples_per_epoch/batch_size. Similarly `nb_val_samples`->`validation_steps` and `val_samples`->`steps` arguments have changed. Update your method calls accordingly.\n\n/home/mason/.local/lib/python3.6/site-packages/ipykernel_launcher.py:74: UserWarning:\n\nUpdate your `fit_generator` call to the Keras 2 API: `fit_generator(<keras.pre..., steps_per_epoch=1, validation_data=<keras.pre..., validation_steps=1, epochs=2)`\n\nEpoch 1/2\n1/1 [==============================] - 1s 736ms/step - loss: 1.6477 - accuracy: 0.0000e+00 - val_loss: 0.7177 - val_accuracy: 0.0000e+00\nEpoch 2/2\n1/1 [==============================] - 0s 211ms/step - loss: 0.3427 - accuracy: 1.0000 - val_loss: 0.6943 - val_accuracy: 0.5000\n\u001b[32m[I 2019-11-16 15:08:25,758]\u001b[0m Finished trial#0 resulted in value: -0.3798076808452606. Current best value is -0.3798076808452606 with parameters: {'filters_1': 64, 'kernel_size_1': 3, 'dropout_1': 0.7573462327074572, 'filters_2': 32, 'kernel_size_2': 3, 'dropout_2': 0.2777156317392936, 'filters_3': 64, 'kernel_size_3': 3, 'dropout_3': 0.4319286909453611, 'Fourth Layer': True, 'filters_4': 16, 'kernel_size_4': 2, 'dropout_4': 0.9252534962135638, 'dense_layer_nodes_1': 64}.\u001b[0m\nFound 5216 images belonging to 2 classes.\nFound 16 images belonging to 2 classes.\nFound 624 images belonging to 2 classes.\n/home/mason/.local/lib/python3.6/site-packages/ipykernel_launcher.py:74: UserWarning:\n\nThe semantics of the Keras 2 argument `steps_per_epoch` is not the same as the Keras 1 argument `samples_per_epoch`. `steps_per_epoch` is the number of batches to draw from the generator at each epoch. Basically steps_per_epoch = samples_per_epoch/batch_size. Similarly `nb_val_samples`->`validation_steps` and `val_samples`->`steps` arguments have changed. Update your method calls accordingly.\n\n/home/mason/.local/lib/python3.6/site-packages/ipykernel_launcher.py:74: UserWarning:\n\nUpdate your `fit_generator` call to the Keras 2 API: `fit_generator(<keras.pre..., steps_per_epoch=1, validation_data=<keras.pre..., validation_steps=1, epochs=2)`\n\nEpoch 1/2\n1/1 [==============================] - 1s 1s/step - loss: 1.7138 - accuracy: 0.0000e+00 - val_loss: 0.6951 - val_accuracy: 0.5000\nEpoch 2/2\n1/1 [==============================] - 1s 650ms/step - loss: 0.7986 - accuracy: 0.0000e+00 - val_loss: 0.1671 - val_accuracy: 1.0000\n\u001b[32m[I 2019-11-16 15:09:01,879]\u001b[0m Finished trial#1 resulted in value: -0.625. Current best value is -0.625 with parameters: {'filters_1': 128, 'kernel_size_1': 4, 'dropout_1': 0.9292811142151904, 'filters_2': 32, 'kernel_size_2': 4, 'dropout_2': 0.4934688038730549, 'filters_3': 128, 'kernel_size_3': 2, 'dropout_3': 0.8373025398621657, 'Fourth Layer': False, 'dense_layer_nodes_1': 64}.\u001b[0m\n\u001b[33m[W 2019-11-16 15:09:04,025]\u001b[0m Param dense_layer_nodes_1 unique value length is less than 2.\u001b[0m\n\u001b[33m[W 2019-11-16 15:09:04,257]\u001b[0m Param dropout_4 unique value length is less than 2.\u001b[0m\n\u001b[33m[W 2019-11-16 15:09:04,371]\u001b[0m Param filters_2 unique value length is less than 2.\u001b[0m\n\u001b[33m[W 2019-11-16 15:09:04,484]\u001b[0m Param filters_4 unique value length is less than 2.\u001b[0m\n\u001b[33m[W 2019-11-16 15:09:04,710]\u001b[0m Param kernel_size_4 unique value length is less than 2.\u001b[0m\n\u001b[33m[W 2019-11-16 15:09:04,796]\u001b[0m Param dense_layer_nodes_1 unique value length is less than 2.\u001b[0m\n\u001b[33m[W 2019-11-16 15:09:04,865]\u001b[0m Param dense_layer_nodes_1 unique value length is less than 2.\u001b[0m\n\u001b[33m[W 2019-11-16 15:09:04,907]\u001b[0m Param dense_layer_nodes_1 unique value length is less than 2.\u001b[0m\n\u001b[33m[W 2019-11-16 15:09:04,944]\u001b[0m Param dense_layer_nodes_1 unique value length is less than 2.\u001b[0m\n\u001b[33m[W 2019-11-16 15:09:04,992]\u001b[0m Param dense_layer_nodes_1 unique value length is less than 2.\u001b[0m\n\u001b[33m[W 2019-11-16 15:09:05,056]\u001b[0m Param dense_layer_nodes_1 unique value length is less than 2.\u001b[0m\n\u001b[33m[W 2019-11-16 15:09:05,099]\u001b[0m Param dense_layer_nodes_1 unique value length is less than 2.\u001b[0m\n\u001b[33m[W 2019-11-16 15:09:05,134]\u001b[0m Param dense_layer_nodes_1 unique value length is less than 2.\u001b[0m\n\u001b[33m[W 2019-11-16 15:09:05,169]\u001b[0m Param dense_layer_nodes_1 unique value length is less than 2.\u001b[0m\n\u001b[33m[W 2019-11-16 15:09:05,209]\u001b[0m Param dense_layer_nodes_1 unique value length is less than 2.\u001b[0m\n\u001b[33m[W 2019-11-16 15:09:05,255]\u001b[0m Param dense_layer_nodes_1 unique value length is less than 2.\u001b[0m\n\u001b[33m[W 2019-11-16 15:09:05,294]\u001b[0m Param dense_layer_nodes_1 unique value length is less than 2.\u001b[0m\n\u001b[33m[W 2019-11-16 15:09:05,325]\u001b[0m Param dense_layer_nodes_1 unique value length is less than 2.\u001b[0m\n\u001b[33m[W 2019-11-16 15:09:05,410]\u001b[0m Param dense_layer_nodes_1 unique value length is less than 2.\u001b[0m\n\u001b[33m[W 2019-11-16 15:09:05,543]\u001b[0m Param dropout_4 unique value length is less than 2.\u001b[0m\n\u001b[33m[W 2019-11-16 15:09:05,615]\u001b[0m Param filters_2 unique value length is less than 2.\u001b[0m\n\u001b[33m[W 2019-11-16 15:09:05,713]\u001b[0m Param filters_4 unique value length is less than 2.\u001b[0m\n\u001b[33m[W 2019-11-16 15:09:05,872]\u001b[0m Param kernel_size_4 unique value length is less than 2.\u001b[0m\n\u001b[33m[W 2019-11-16 15:09:05,961]\u001b[0m Param dense_layer_nodes_1 unique value length is less than 2.\u001b[0m\n\u001b[33m[W 2019-11-16 15:09:06,102]\u001b[0m Param dropout_4 unique value length is less than 2.\u001b[0m\n\u001b[33m[W 2019-11-16 15:09:06,175]\u001b[0m Param filters_2 unique value length is less than 2.\u001b[0m\n\u001b[33m[W 2019-11-16 15:09:06,322]\u001b[0m Param filters_4 unique value length is less than 2.\u001b[0m\n\u001b[33m[W 2019-11-16 15:09:06,545]\u001b[0m Param kernel_size_4 unique value length is less than 2.\u001b[0m\n\u001b[33m[W 2019-11-16 15:09:06,641]\u001b[0m Param dense_layer_nodes_1 unique value length is less than 2.\u001b[0m\n\u001b[33m[W 2019-11-16 15:09:06,804]\u001b[0m Param dropout_4 unique value length is less than 2.\u001b[0m\n\u001b[33m[W 2019-11-16 15:09:06,888]\u001b[0m Param filters_2 unique value length is less than 2.\u001b[0m\n\u001b[33m[W 2019-11-16 15:09:06,991]\u001b[0m Param filters_4 unique value length is less than 2.\u001b[0m\n\u001b[33m[W 2019-11-16 15:09:07,184]\u001b[0m Param kernel_size_4 unique value length is less than 2.\u001b[0m\n\u001b[33m[W 2019-11-16 15:09:07,240]\u001b[0m Param dropout_4 unique value length is less than 2.\u001b[0m\n\u001b[33m[W 2019-11-16 15:09:07,281]\u001b[0m Param dropout_4 unique value length is less than 2.\u001b[0m\n\u001b[33m[W 2019-11-16 15:09:07,324]\u001b[0m Param dropout_4 unique value length is less than 2.\u001b[0m\n\u001b[33m[W 2019-11-16 15:09:07,370]\u001b[0m Param dropout_4 unique value length is less than 2.\u001b[0m\n\u001b[33m[W 2019-11-16 15:09:07,415]\u001b[0m Param dropout_4 unique value length is less than 2.\u001b[0m\n\u001b[33m[W 2019-11-16 15:09:07,494]\u001b[0m Param dropout_4 unique value length is less than 2.\u001b[0m\n\u001b[33m[W 2019-11-16 15:09:07,534]\u001b[0m Param dropout_4 unique value length is less than 2.\u001b[0m\n\u001b[33m[W 2019-11-16 15:09:07,574]\u001b[0m Param dropout_4 unique value length is less than 2.\u001b[0m\n\u001b[33m[W 2019-11-16 15:09:07,613]\u001b[0m Param dropout_4 unique value length is less than 2.\u001b[0m\n\u001b[33m[W 2019-11-16 15:09:07,676]\u001b[0m Param dropout_4 unique value length is less than 2.\u001b[0m\n\u001b[33m[W 2019-11-16 15:09:07,739]\u001b[0m Param dropout_4 unique value length is less than 2.\u001b[0m\n\u001b[33m[W 2019-11-16 15:09:07,783]\u001b[0m Param dropout_4 unique value length is less than 2.\u001b[0m\n\u001b[33m[W 2019-11-16 15:09:07,836]\u001b[0m Param dropout_4 unique value length is less than 2.\u001b[0m\n\u001b[33m[W 2019-11-16 15:09:07,951]\u001b[0m Param dense_layer_nodes_1 unique value length is less than 2.\u001b[0m\n\u001b[33m[W 2019-11-16 15:09:08,106]\u001b[0m Param dropout_4 unique value length is less than 2.\u001b[0m\n\u001b[33m[W 2019-11-16 15:09:08,190]\u001b[0m Param filters_2 unique value length is less than 2.\u001b[0m\n\u001b[33m[W 2019-11-16 15:09:08,276]\u001b[0m Param filters_4 unique value length is less than 2.\u001b[0m\n\u001b[33m[W 2019-11-16 15:09:08,488]\u001b[0m Param kernel_size_4 unique value length is less than 2.\u001b[0m\n\u001b[33m[W 2019-11-16 15:09:08,547]\u001b[0m Param filters_2 unique value length is less than 2.\u001b[0m\n\u001b[33m[W 2019-11-16 15:09:08,604]\u001b[0m Param filters_2 unique value length is less than 2.\u001b[0m\n\u001b[33m[W 2019-11-16 15:09:08,650]\u001b[0m Param filters_2 unique value length is less than 2.\u001b[0m\n\u001b[33m[W 2019-11-16 15:09:08,709]\u001b[0m Param filters_2 unique value length is less than 2.\u001b[0m\n\u001b[33m[W 2019-11-16 15:09:08,756]\u001b[0m Param filters_2 unique value length is less than 2.\u001b[0m\n\u001b[33m[W 2019-11-16 15:09:08,804]\u001b[0m Param filters_2 unique value length is less than 2.\u001b[0m\n\u001b[33m[W 2019-11-16 15:09:08,849]\u001b[0m Param filters_2 unique value length is less than 2.\u001b[0m\n\u001b[33m[W 2019-11-16 15:09:08,926]\u001b[0m Param filters_2 unique value length is less than 2.\u001b[0m\n\u001b[33m[W 2019-11-16 15:09:08,971]\u001b[0m Param filters_2 unique value length is less than 2.\u001b[0m\n\u001b[33m[W 2019-11-16 15:09:09,022]\u001b[0m Param filters_2 unique value length is less than 2.\u001b[0m\n\u001b[33m[W 2019-11-16 15:09:09,064]\u001b[0m Param filters_2 unique value length is less than 2.\u001b[0m\n\u001b[33m[W 2019-11-16 15:09:09,106]\u001b[0m Param filters_2 unique value length is less than 2.\u001b[0m\n\u001b[33m[W 2019-11-16 15:09:09,150]\u001b[0m Param filters_2 unique value length is less than 2.\u001b[0m\n\u001b[33m[W 2019-11-16 15:09:09,278]\u001b[0m Param dense_layer_nodes_1 unique value length is less than 2.\u001b[0m\n\u001b[33m[W 2019-11-16 15:09:09,582]\u001b[0m Param dropout_4 unique value length is less than 2.\u001b[0m\n\u001b[33m[W 2019-11-16 15:09:09,674]\u001b[0m Param filters_2 unique value length is less than 2.\u001b[0m\n\u001b[33m[W 2019-11-16 15:09:09,781]\u001b[0m Param filters_4 unique value length is less than 2.\u001b[0m\n\u001b[33m[W 2019-11-16 15:09:09,995]\u001b[0m Param kernel_size_4 unique value length is less than 2.\u001b[0m\n\u001b[33m[W 2019-11-16 15:09:10,045]\u001b[0m Param filters_4 unique value length is less than 2.\u001b[0m\n\u001b[33m[W 2019-11-16 15:09:10,088]\u001b[0m Param filters_4 unique value length is less than 2.\u001b[0m\n\u001b[33m[W 2019-11-16 15:09:10,140]\u001b[0m Param filters_4 unique value length is less than 2.\u001b[0m\n\u001b[33m[W 2019-11-16 15:09:10,470]\u001b[0m Param filters_4 unique value length is less than 2.\u001b[0m\n\u001b[33m[W 2019-11-16 15:09:10,515]\u001b[0m Param filters_4 unique value length is less than 2.\u001b[0m\n\u001b[33m[W 2019-11-16 15:09:10,566]\u001b[0m Param filters_4 unique value length is less than 2.\u001b[0m\n\u001b[33m[W 2019-11-16 15:09:10,628]\u001b[0m Param filters_4 unique value length is less than 2.\u001b[0m\n\u001b[33m[W 2019-11-16 15:09:10,674]\u001b[0m Param filters_4 unique value length is less than 2.\u001b[0m\n\u001b[33m[W 2019-11-16 15:09:10,722]\u001b[0m Param filters_4 unique value length is less than 2.\u001b[0m\n\u001b[33m[W 2019-11-16 15:09:10,801]\u001b[0m Param filters_4 unique value length is less than 2.\u001b[0m\n\u001b[33m[W 2019-11-16 15:09:10,848]\u001b[0m Param filters_4 unique value length is less than 2.\u001b[0m\n\u001b[33m[W 2019-11-16 15:09:10,889]\u001b[0m Param filters_4 unique value length is less than 2.\u001b[0m\n\u001b[33m[W 2019-11-16 15:09:10,940]\u001b[0m Param filters_4 unique value length is less than 2.\u001b[0m\n\u001b[33m[W 2019-11-16 15:09:11,054]\u001b[0m Param dense_layer_nodes_1 unique value length is less than 2.\u001b[0m\n\u001b[33m[W 2019-11-16 15:09:11,250]\u001b[0m Param dropout_4 unique value length is less than 2.\u001b[0m\n\u001b[33m[W 2019-11-16 15:09:11,355]\u001b[0m Param filters_2 unique value length is less than 2.\u001b[0m\n\u001b[33m[W 2019-11-16 15:09:11,492]\u001b[0m Param filters_4 unique value length is less than 2.\u001b[0m\n\u001b[33m[W 2019-11-16 15:09:11,668]\u001b[0m Param kernel_size_4 unique value length is less than 2.\u001b[0m\n\u001b[33m[W 2019-11-16 15:09:11,778]\u001b[0m Param dense_layer_nodes_1 unique value length is less than 2.\u001b[0m\n\u001b[33m[W 2019-11-16 15:09:11,959]\u001b[0m Param dropout_4 unique value length is less than 2.\u001b[0m\n\u001b[33m[W 2019-11-16 15:09:12,040]\u001b[0m Param filters_2 unique value length is less than 2.\u001b[0m\n\u001b[33m[W 2019-11-16 15:09:12,120]\u001b[0m Param filters_4 unique value length is less than 2.\u001b[0m\n\u001b[33m[W 2019-11-16 15:09:12,281]\u001b[0m Param kernel_size_4 unique value length is less than 2.\u001b[0m\n\u001b[33m[W 2019-11-16 15:09:12,374]\u001b[0m Param dense_layer_nodes_1 unique value length is less than 2.\u001b[0m\n\u001b[33m[W 2019-11-16 15:09:12,559]\u001b[0m Param dropout_4 unique value length is less than 2.\u001b[0m\n\u001b[33m[W 2019-11-16 15:09:12,677]\u001b[0m Param filters_2 unique value length is less than 2.\u001b[0m\n\u001b[33m[W 2019-11-16 15:09:12,766]\u001b[0m Param filters_4 unique value length is less than 2.\u001b[0m\n\u001b[33m[W 2019-11-16 15:09:12,925]\u001b[0m Param kernel_size_4 unique value length is less than 2.\u001b[0m\n\u001b[33m[W 2019-11-16 15:09:12,981]\u001b[0m Param kernel_size_4 unique value length is less than 2.\u001b[0m\n\u001b[33m[W 2019-11-16 15:09:13,024]\u001b[0m Param kernel_size_4 unique value length is less than 2.\u001b[0m\n\u001b[33m[W 2019-11-16 15:09:13,068]\u001b[0m Param kernel_size_4 unique value length is less than 2.\u001b[0m\n\u001b[33m[W 2019-11-16 15:09:13,120]\u001b[0m Param kernel_size_4 unique value length is less than 2.\u001b[0m\n\u001b[33m[W 2019-11-16 15:09:13,170]\u001b[0m Param kernel_size_4 unique value length is less than 2.\u001b[0m\n\u001b[33m[W 2019-11-16 15:09:13,211]\u001b[0m Param kernel_size_4 unique value length is less than 2.\u001b[0m\n\u001b[33m[W 2019-11-16 15:09:13,256]\u001b[0m Param kernel_size_4 unique value length is less than 2.\u001b[0m\n\u001b[33m[W 2019-11-16 15:09:13,300]\u001b[0m Param kernel_size_4 unique value length is less than 2.\u001b[0m\n\u001b[33m[W 2019-11-16 15:09:13,354]\u001b[0m Param kernel_size_4 unique value length is less than 2.\u001b[0m\n\u001b[33m[W 2019-11-16 15:09:13,403]\u001b[0m Param kernel_size_4 unique value length is less than 2.\u001b[0m\n\u001b[33m[W 2019-11-16 15:09:13,445]\u001b[0m Param kernel_size_4 unique value length is less than 2.\u001b[0m\n\u001b[33m[W 2019-11-16 15:09:13,494]\u001b[0m Param kernel_size_4 unique value length is less than 2.\u001b[0m\n\u001b[33m[W 2019-11-16 15:09:13,552]\u001b[0m Param kernel_size_4 unique value length is less than 2.\u001b[0m\n"
    },
    {
     "data": {
      "application/vnd.plotly.v1+json": {
       "config": {
        "plotlyServerURL": "https://plot.ly"
       },
       "data": [
        {
         "mode": "markers",
         "name": "Objective Value",
         "type": "scatter",
         "x": [
          0,
          1
         ],
         "y": [
          -0.3798076808452606,
          -0.625
         ]
        },
        {
         "name": "Best Value",
         "type": "scatter",
         "x": [
          0,
          1
         ],
         "y": [
          -0.3798076808452606,
          -0.625
         ]
        }
       ],
       "layout": {
        "template": {
         "data": {
          "bar": [
           {
            "error_x": {
             "color": "#2a3f5f"
            },
            "error_y": {
             "color": "#2a3f5f"
            },
            "marker": {
             "line": {
              "color": "#E5ECF6",
              "width": 0.5
             }
            },
            "type": "bar"
           }
          ],
          "barpolar": [
           {
            "marker": {
             "line": {
              "color": "#E5ECF6",
              "width": 0.5
             }
            },
            "type": "barpolar"
           }
          ],
          "carpet": [
           {
            "aaxis": {
             "endlinecolor": "#2a3f5f",
             "gridcolor": "white",
             "linecolor": "white",
             "minorgridcolor": "white",
             "startlinecolor": "#2a3f5f"
            },
            "baxis": {
             "endlinecolor": "#2a3f5f",
             "gridcolor": "white",
             "linecolor": "white",
             "minorgridcolor": "white",
             "startlinecolor": "#2a3f5f"
            },
            "type": "carpet"
           }
          ],
          "choropleth": [
           {
            "colorbar": {
             "outlinewidth": 0,
             "ticks": ""
            },
            "type": "choropleth"
           }
          ],
          "contour": [
           {
            "colorbar": {
             "outlinewidth": 0,
             "ticks": ""
            },
            "colorscale": [
             [
              0,
              "#0d0887"
             ],
             [
              0.1111111111111111,
              "#46039f"
             ],
             [
              0.2222222222222222,
              "#7201a8"
             ],
             [
              0.3333333333333333,
              "#9c179e"
             ],
             [
              0.4444444444444444,
              "#bd3786"
             ],
             [
              0.5555555555555556,
              "#d8576b"
             ],
             [
              0.6666666666666666,
              "#ed7953"
             ],
             [
              0.7777777777777778,
              "#fb9f3a"
             ],
             [
              0.8888888888888888,
              "#fdca26"
             ],
             [
              1,
              "#f0f921"
             ]
            ],
            "type": "contour"
           }
          ],
          "contourcarpet": [
           {
            "colorbar": {
             "outlinewidth": 0,
             "ticks": ""
            },
            "type": "contourcarpet"
           }
          ],
          "heatmap": [
           {
            "colorbar": {
             "outlinewidth": 0,
             "ticks": ""
            },
            "colorscale": [
             [
              0,
              "#0d0887"
             ],
             [
              0.1111111111111111,
              "#46039f"
             ],
             [
              0.2222222222222222,
              "#7201a8"
             ],
             [
              0.3333333333333333,
              "#9c179e"
             ],
             [
              0.4444444444444444,
              "#bd3786"
             ],
             [
              0.5555555555555556,
              "#d8576b"
             ],
             [
              0.6666666666666666,
              "#ed7953"
             ],
             [
              0.7777777777777778,
              "#fb9f3a"
             ],
             [
              0.8888888888888888,
              "#fdca26"
             ],
             [
              1,
              "#f0f921"
             ]
            ],
            "type": "heatmap"
           }
          ],
          "heatmapgl": [
           {
            "colorbar": {
             "outlinewidth": 0,
             "ticks": ""
            },
            "colorscale": [
             [
              0,
              "#0d0887"
             ],
             [
              0.1111111111111111,
              "#46039f"
             ],
             [
              0.2222222222222222,
              "#7201a8"
             ],
             [
              0.3333333333333333,
              "#9c179e"
             ],
             [
              0.4444444444444444,
              "#bd3786"
             ],
             [
              0.5555555555555556,
              "#d8576b"
             ],
             [
              0.6666666666666666,
              "#ed7953"
             ],
             [
              0.7777777777777778,
              "#fb9f3a"
             ],
             [
              0.8888888888888888,
              "#fdca26"
             ],
             [
              1,
              "#f0f921"
             ]
            ],
            "type": "heatmapgl"
           }
          ],
          "histogram": [
           {
            "marker": {
             "colorbar": {
              "outlinewidth": 0,
              "ticks": ""
             }
            },
            "type": "histogram"
           }
          ],
          "histogram2d": [
           {
            "colorbar": {
             "outlinewidth": 0,
             "ticks": ""
            },
            "colorscale": [
             [
              0,
              "#0d0887"
             ],
             [
              0.1111111111111111,
              "#46039f"
             ],
             [
              0.2222222222222222,
              "#7201a8"
             ],
             [
              0.3333333333333333,
              "#9c179e"
             ],
             [
              0.4444444444444444,
              "#bd3786"
             ],
             [
              0.5555555555555556,
              "#d8576b"
             ],
             [
              0.6666666666666666,
              "#ed7953"
             ],
             [
              0.7777777777777778,
              "#fb9f3a"
             ],
             [
              0.8888888888888888,
              "#fdca26"
             ],
             [
              1,
              "#f0f921"
             ]
            ],
            "type": "histogram2d"
           }
          ],
          "histogram2dcontour": [
           {
            "colorbar": {
             "outlinewidth": 0,
             "ticks": ""
            },
            "colorscale": [
             [
              0,
              "#0d0887"
             ],
             [
              0.1111111111111111,
              "#46039f"
             ],
             [
              0.2222222222222222,
              "#7201a8"
             ],
             [
              0.3333333333333333,
              "#9c179e"
             ],
             [
              0.4444444444444444,
              "#bd3786"
             ],
             [
              0.5555555555555556,
              "#d8576b"
             ],
             [
              0.6666666666666666,
              "#ed7953"
             ],
             [
              0.7777777777777778,
              "#fb9f3a"
             ],
             [
              0.8888888888888888,
              "#fdca26"
             ],
             [
              1,
              "#f0f921"
             ]
            ],
            "type": "histogram2dcontour"
           }
          ],
          "mesh3d": [
           {
            "colorbar": {
             "outlinewidth": 0,
             "ticks": ""
            },
            "type": "mesh3d"
           }
          ],
          "parcoords": [
           {
            "line": {
             "colorbar": {
              "outlinewidth": 0,
              "ticks": ""
             }
            },
            "type": "parcoords"
           }
          ],
          "pie": [
           {
            "automargin": true,
            "type": "pie"
           }
          ],
          "scatter": [
           {
            "marker": {
             "colorbar": {
              "outlinewidth": 0,
              "ticks": ""
             }
            },
            "type": "scatter"
           }
          ],
          "scatter3d": [
           {
            "line": {
             "colorbar": {
              "outlinewidth": 0,
              "ticks": ""
             }
            },
            "marker": {
             "colorbar": {
              "outlinewidth": 0,
              "ticks": ""
             }
            },
            "type": "scatter3d"
           }
          ],
          "scattercarpet": [
           {
            "marker": {
             "colorbar": {
              "outlinewidth": 0,
              "ticks": ""
             }
            },
            "type": "scattercarpet"
           }
          ],
          "scattergeo": [
           {
            "marker": {
             "colorbar": {
              "outlinewidth": 0,
              "ticks": ""
             }
            },
            "type": "scattergeo"
           }
          ],
          "scattergl": [
           {
            "marker": {
             "colorbar": {
              "outlinewidth": 0,
              "ticks": ""
             }
            },
            "type": "scattergl"
           }
          ],
          "scattermapbox": [
           {
            "marker": {
             "colorbar": {
              "outlinewidth": 0,
              "ticks": ""
             }
            },
            "type": "scattermapbox"
           }
          ],
          "scatterpolar": [
           {
            "marker": {
             "colorbar": {
              "outlinewidth": 0,
              "ticks": ""
             }
            },
            "type": "scatterpolar"
           }
          ],
          "scatterpolargl": [
           {
            "marker": {
             "colorbar": {
              "outlinewidth": 0,
              "ticks": ""
             }
            },
            "type": "scatterpolargl"
           }
          ],
          "scatterternary": [
           {
            "marker": {
             "colorbar": {
              "outlinewidth": 0,
              "ticks": ""
             }
            },
            "type": "scatterternary"
           }
          ],
          "surface": [
           {
            "colorbar": {
             "outlinewidth": 0,
             "ticks": ""
            },
            "colorscale": [
             [
              0,
              "#0d0887"
             ],
             [
              0.1111111111111111,
              "#46039f"
             ],
             [
              0.2222222222222222,
              "#7201a8"
             ],
             [
              0.3333333333333333,
              "#9c179e"
             ],
             [
              0.4444444444444444,
              "#bd3786"
             ],
             [
              0.5555555555555556,
              "#d8576b"
             ],
             [
              0.6666666666666666,
              "#ed7953"
             ],
             [
              0.7777777777777778,
              "#fb9f3a"
             ],
             [
              0.8888888888888888,
              "#fdca26"
             ],
             [
              1,
              "#f0f921"
             ]
            ],
            "type": "surface"
           }
          ],
          "table": [
           {
            "cells": {
             "fill": {
              "color": "#EBF0F8"
             },
             "line": {
              "color": "white"
             }
            },
            "header": {
             "fill": {
              "color": "#C8D4E3"
             },
             "line": {
              "color": "white"
             }
            },
            "type": "table"
           }
          ]
         },
         "layout": {
          "annotationdefaults": {
           "arrowcolor": "#2a3f5f",
           "arrowhead": 0,
           "arrowwidth": 1
          },
          "coloraxis": {
           "colorbar": {
            "outlinewidth": 0,
            "ticks": ""
           }
          },
          "colorscale": {
           "diverging": [
            [
             0,
             "#8e0152"
            ],
            [
             0.1,
             "#c51b7d"
            ],
            [
             0.2,
             "#de77ae"
            ],
            [
             0.3,
             "#f1b6da"
            ],
            [
             0.4,
             "#fde0ef"
            ],
            [
             0.5,
             "#f7f7f7"
            ],
            [
             0.6,
             "#e6f5d0"
            ],
            [
             0.7,
             "#b8e186"
            ],
            [
             0.8,
             "#7fbc41"
            ],
            [
             0.9,
             "#4d9221"
            ],
            [
             1,
             "#276419"
            ]
           ],
           "sequential": [
            [
             0,
             "#0d0887"
            ],
            [
             0.1111111111111111,
             "#46039f"
            ],
            [
             0.2222222222222222,
             "#7201a8"
            ],
            [
             0.3333333333333333,
             "#9c179e"
            ],
            [
             0.4444444444444444,
             "#bd3786"
            ],
            [
             0.5555555555555556,
             "#d8576b"
            ],
            [
             0.6666666666666666,
             "#ed7953"
            ],
            [
             0.7777777777777778,
             "#fb9f3a"
            ],
            [
             0.8888888888888888,
             "#fdca26"
            ],
            [
             1,
             "#f0f921"
            ]
           ],
           "sequentialminus": [
            [
             0,
             "#0d0887"
            ],
            [
             0.1111111111111111,
             "#46039f"
            ],
            [
             0.2222222222222222,
             "#7201a8"
            ],
            [
             0.3333333333333333,
             "#9c179e"
            ],
            [
             0.4444444444444444,
             "#bd3786"
            ],
            [
             0.5555555555555556,
             "#d8576b"
            ],
            [
             0.6666666666666666,
             "#ed7953"
            ],
            [
             0.7777777777777778,
             "#fb9f3a"
            ],
            [
             0.8888888888888888,
             "#fdca26"
            ],
            [
             1,
             "#f0f921"
            ]
           ]
          },
          "colorway": [
           "#636efa",
           "#EF553B",
           "#00cc96",
           "#ab63fa",
           "#FFA15A",
           "#19d3f3",
           "#FF6692",
           "#B6E880",
           "#FF97FF",
           "#FECB52"
          ],
          "font": {
           "color": "#2a3f5f"
          },
          "geo": {
           "bgcolor": "white",
           "lakecolor": "white",
           "landcolor": "#E5ECF6",
           "showlakes": true,
           "showland": true,
           "subunitcolor": "white"
          },
          "hoverlabel": {
           "align": "left"
          },
          "hovermode": "closest",
          "mapbox": {
           "style": "light"
          },
          "paper_bgcolor": "white",
          "plot_bgcolor": "#E5ECF6",
          "polar": {
           "angularaxis": {
            "gridcolor": "white",
            "linecolor": "white",
            "ticks": ""
           },
           "bgcolor": "#E5ECF6",
           "radialaxis": {
            "gridcolor": "white",
            "linecolor": "white",
            "ticks": ""
           }
          },
          "scene": {
           "xaxis": {
            "backgroundcolor": "#E5ECF6",
            "gridcolor": "white",
            "gridwidth": 2,
            "linecolor": "white",
            "showbackground": true,
            "ticks": "",
            "zerolinecolor": "white"
           },
           "yaxis": {
            "backgroundcolor": "#E5ECF6",
            "gridcolor": "white",
            "gridwidth": 2,
            "linecolor": "white",
            "showbackground": true,
            "ticks": "",
            "zerolinecolor": "white"
           },
           "zaxis": {
            "backgroundcolor": "#E5ECF6",
            "gridcolor": "white",
            "gridwidth": 2,
            "linecolor": "white",
            "showbackground": true,
            "ticks": "",
            "zerolinecolor": "white"
           }
          },
          "shapedefaults": {
           "line": {
            "color": "#2a3f5f"
           }
          },
          "ternary": {
           "aaxis": {
            "gridcolor": "white",
            "linecolor": "white",
            "ticks": ""
           },
           "baxis": {
            "gridcolor": "white",
            "linecolor": "white",
            "ticks": ""
           },
           "bgcolor": "#E5ECF6",
           "caxis": {
            "gridcolor": "white",
            "linecolor": "white",
            "ticks": ""
           }
          },
          "title": {
           "x": 0.05
          },
          "xaxis": {
           "automargin": true,
           "gridcolor": "white",
           "linecolor": "white",
           "ticks": "",
           "title": {
            "standoff": 15
           },
           "zerolinecolor": "white",
           "zerolinewidth": 2
          },
          "yaxis": {
           "automargin": true,
           "gridcolor": "white",
           "linecolor": "white",
           "ticks": "",
           "title": {
            "standoff": 15
           },
           "zerolinecolor": "white",
           "zerolinewidth": 2
          }
         }
        },
        "title": {
         "text": "Optimization History Plot"
        },
        "xaxis": {
         "title": {
          "text": "#Trials"
         }
        },
        "yaxis": {
         "title": {
          "text": "Objective Value"
         }
        }
       }
      }
     },
     "metadata": {},
     "output_type": "display_data"
    },
    {
     "data": {
      "application/vnd.plotly.v1+json": {
       "config": {
        "plotlyServerURL": "https://plot.ly"
       },
       "data": [
        {
         "type": "scatter",
         "xaxis": "x",
         "yaxis": "y"
        },
        {
         "showscale": true,
         "type": "contour",
         "xaxis": "x15",
         "yaxis": "y15"
        },
        {
         "type": "scatter",
         "xaxis": "x15",
         "yaxis": "y15"
        },
        {
         "colorbar": {
          "title": {
           "text": "Objective Value"
          }
         },
         "colorscale": [
          [
           0,
           "rgb(220,220,220)"
          ],
          [
           0.30000000000000004,
           "rgb(106,137,247)"
          ],
          [
           0.4,
           "rgb(90,120,245)"
          ],
          [
           0.5,
           "rgb(70,100,245)"
          ],
          [
           0.65,
           "rgb(40,60,190)"
          ],
          [
           1,
           "rgb(5,10,172)"
          ]
         ],
         "connectgaps": true,
         "contours": {
          "coloring": "heatmap"
         },
         "hoverinfo": "none",
         "line": {
          "smoothing": 1.3
         },
         "showscale": false,
         "type": "contour",
         "x": [
          false,
          true
         ],
         "xaxis": "x29",
         "y": [
          0.7573462327074572,
          0.9292811142151904
         ],
         "yaxis": "y29",
         "z": [
          [
           null,
           -0.3798076808452606
          ],
          [
           -0.625,
           null
          ]
         ]
        },
        {
         "marker": {
          "color": "black"
         },
         "mode": "markers",
         "showlegend": false,
         "type": "scatter",
         "x": [
          true,
          false
         ],
         "xaxis": "x29",
         "y": [
          0.7573462327074572,
          0.9292811142151904
         ],
         "yaxis": "y29"
        },
        {
         "colorbar": {
          "title": {
           "text": "Objective Value"
          }
         },
         "colorscale": [
          [
           0,
           "rgb(220,220,220)"
          ],
          [
           0.30000000000000004,
           "rgb(106,137,247)"
          ],
          [
           0.4,
           "rgb(90,120,245)"
          ],
          [
           0.5,
           "rgb(70,100,245)"
          ],
          [
           0.65,
           "rgb(40,60,190)"
          ],
          [
           1,
           "rgb(5,10,172)"
          ]
         ],
         "connectgaps": true,
         "contours": {
          "coloring": "heatmap"
         },
         "hoverinfo": "none",
         "line": {
          "smoothing": 1.3
         },
         "showscale": false,
         "type": "contour",
         "x": [
          false,
          true
         ],
         "xaxis": "x43",
         "y": [
          0.2777156317392936,
          0.4934688038730549
         ],
         "yaxis": "y43",
         "z": [
          [
           null,
           -0.3798076808452606
          ],
          [
           -0.625,
           null
          ]
         ]
        },
        {
         "marker": {
          "color": "black"
         },
         "mode": "markers",
         "showlegend": false,
         "type": "scatter",
         "x": [
          true,
          false
         ],
         "xaxis": "x43",
         "y": [
          0.2777156317392936,
          0.4934688038730549
         ],
         "yaxis": "y43"
        },
        {
         "colorbar": {
          "title": {
           "text": "Objective Value"
          }
         },
         "colorscale": [
          [
           0,
           "rgb(220,220,220)"
          ],
          [
           0.30000000000000004,
           "rgb(106,137,247)"
          ],
          [
           0.4,
           "rgb(90,120,245)"
          ],
          [
           0.5,
           "rgb(70,100,245)"
          ],
          [
           0.65,
           "rgb(40,60,190)"
          ],
          [
           1,
           "rgb(5,10,172)"
          ]
         ],
         "connectgaps": true,
         "contours": {
          "coloring": "heatmap"
         },
         "hoverinfo": "none",
         "line": {
          "smoothing": 1.3
         },
         "showscale": false,
         "type": "contour",
         "x": [
          false,
          true
         ],
         "xaxis": "x57",
         "y": [
          0.4319286909453611,
          0.8373025398621657
         ],
         "yaxis": "y57",
         "z": [
          [
           null,
           -0.3798076808452606
          ],
          [
           -0.625,
           null
          ]
         ]
        },
        {
         "marker": {
          "color": "black"
         },
         "mode": "markers",
         "showlegend": false,
         "type": "scatter",
         "x": [
          true,
          false
         ],
         "xaxis": "x57",
         "y": [
          0.4319286909453611,
          0.8373025398621657
         ],
         "yaxis": "y57"
        },
        {
         "showscale": false,
         "type": "contour",
         "xaxis": "x71",
         "yaxis": "y71"
        },
        {
         "type": "scatter",
         "xaxis": "x71",
         "yaxis": "y71"
        },
        {
         "colorbar": {
          "title": {
           "text": "Objective Value"
          }
         },
         "colorscale": [
          [
           0,
           "rgb(220,220,220)"
          ],
          [
           0.30000000000000004,
           "rgb(106,137,247)"
          ],
          [
           0.4,
           "rgb(90,120,245)"
          ],
          [
           0.5,
           "rgb(70,100,245)"
          ],
          [
           0.65,
           "rgb(40,60,190)"
          ],
          [
           1,
           "rgb(5,10,172)"
          ]
         ],
         "connectgaps": true,
         "contours": {
          "coloring": "heatmap"
         },
         "hoverinfo": "none",
         "line": {
          "smoothing": 1.3
         },
         "showscale": false,
         "type": "contour",
         "x": [
          false,
          true
         ],
         "xaxis": "x85",
         "y": [
          64,
          128
         ],
         "yaxis": "y85",
         "z": [
          [
           null,
           -0.3798076808452606
          ],
          [
           -0.625,
           null
          ]
         ]
        },
        {
         "marker": {
          "color": "black"
         },
         "mode": "markers",
         "showlegend": false,
         "type": "scatter",
         "x": [
          true,
          false
         ],
         "xaxis": "x85",
         "y": [
          64,
          128
         ],
         "yaxis": "y85"
        },
        {
         "showscale": false,
         "type": "contour",
         "xaxis": "x99",
         "yaxis": "y99"
        },
        {
         "type": "scatter",
         "xaxis": "x99",
         "yaxis": "y99"
        },
        {
         "colorbar": {
          "title": {
           "text": "Objective Value"
          }
         },
         "colorscale": [
          [
           0,
           "rgb(220,220,220)"
          ],
          [
           0.30000000000000004,
           "rgb(106,137,247)"
          ],
          [
           0.4,
           "rgb(90,120,245)"
          ],
          [
           0.5,
           "rgb(70,100,245)"
          ],
          [
           0.65,
           "rgb(40,60,190)"
          ],
          [
           1,
           "rgb(5,10,172)"
          ]
         ],
         "connectgaps": true,
         "contours": {
          "coloring": "heatmap"
         },
         "hoverinfo": "none",
         "line": {
          "smoothing": 1.3
         },
         "showscale": false,
         "type": "contour",
         "x": [
          false,
          true
         ],
         "xaxis": "x113",
         "y": [
          64,
          128
         ],
         "yaxis": "y113",
         "z": [
          [
           null,
           -0.3798076808452606
          ],
          [
           -0.625,
           null
          ]
         ]
        },
        {
         "marker": {
          "color": "black"
         },
         "mode": "markers",
         "showlegend": false,
         "type": "scatter",
         "x": [
          true,
          false
         ],
         "xaxis": "x113",
         "y": [
          64,
          128
         ],
         "yaxis": "y113"
        },
        {
         "showscale": false,
         "type": "contour",
         "xaxis": "x127",
         "yaxis": "y127"
        },
        {
         "type": "scatter",
         "xaxis": "x127",
         "yaxis": "y127"
        },
        {
         "colorbar": {
          "title": {
           "text": "Objective Value"
          }
         },
         "colorscale": [
          [
           0,
           "rgb(220,220,220)"
          ],
          [
           0.30000000000000004,
           "rgb(106,137,247)"
          ],
          [
           0.4,
           "rgb(90,120,245)"
          ],
          [
           0.5,
           "rgb(70,100,245)"
          ],
          [
           0.65,
           "rgb(40,60,190)"
          ],
          [
           1,
           "rgb(5,10,172)"
          ]
         ],
         "connectgaps": true,
         "contours": {
          "coloring": "heatmap"
         },
         "hoverinfo": "none",
         "line": {
          "smoothing": 1.3
         },
         "showscale": false,
         "type": "contour",
         "x": [
          false,
          true
         ],
         "xaxis": "x141",
         "y": [
          3,
          4
         ],
         "yaxis": "y141",
         "z": [
          [
           null,
           -0.3798076808452606
          ],
          [
           -0.625,
           null
          ]
         ]
        },
        {
         "marker": {
          "color": "black"
         },
         "mode": "markers",
         "showlegend": false,
         "type": "scatter",
         "x": [
          true,
          false
         ],
         "xaxis": "x141",
         "y": [
          3,
          4
         ],
         "yaxis": "y141"
        },
        {
         "colorbar": {
          "title": {
           "text": "Objective Value"
          }
         },
         "colorscale": [
          [
           0,
           "rgb(220,220,220)"
          ],
          [
           0.30000000000000004,
           "rgb(106,137,247)"
          ],
          [
           0.4,
           "rgb(90,120,245)"
          ],
          [
           0.5,
           "rgb(70,100,245)"
          ],
          [
           0.65,
           "rgb(40,60,190)"
          ],
          [
           1,
           "rgb(5,10,172)"
          ]
         ],
         "connectgaps": true,
         "contours": {
          "coloring": "heatmap"
         },
         "hoverinfo": "none",
         "line": {
          "smoothing": 1.3
         },
         "showscale": false,
         "type": "contour",
         "x": [
          false,
          true
         ],
         "xaxis": "x155",
         "y": [
          3,
          4
         ],
         "yaxis": "y155",
         "z": [
          [
           null,
           -0.3798076808452606
          ],
          [
           -0.625,
           null
          ]
         ]
        },
        {
         "marker": {
          "color": "black"
         },
         "mode": "markers",
         "showlegend": false,
         "type": "scatter",
         "x": [
          true,
          false
         ],
         "xaxis": "x155",
         "y": [
          3,
          4
         ],
         "yaxis": "y155"
        },
        {
         "colorbar": {
          "title": {
           "text": "Objective Value"
          }
         },
         "colorscale": [
          [
           0,
           "rgb(220,220,220)"
          ],
          [
           0.30000000000000004,
           "rgb(106,137,247)"
          ],
          [
           0.4,
           "rgb(90,120,245)"
          ],
          [
           0.5,
           "rgb(70,100,245)"
          ],
          [
           0.65,
           "rgb(40,60,190)"
          ],
          [
           1,
           "rgb(5,10,172)"
          ]
         ],
         "connectgaps": true,
         "contours": {
          "coloring": "heatmap"
         },
         "hoverinfo": "none",
         "line": {
          "smoothing": 1.3
         },
         "showscale": false,
         "type": "contour",
         "x": [
          false,
          true
         ],
         "xaxis": "x169",
         "y": [
          2,
          3
         ],
         "yaxis": "y169",
         "z": [
          [
           -0.625,
           null
          ],
          [
           null,
           -0.3798076808452606
          ]
         ]
        },
        {
         "marker": {
          "color": "black"
         },
         "mode": "markers",
         "showlegend": false,
         "type": "scatter",
         "x": [
          true,
          false
         ],
         "xaxis": "x169",
         "y": [
          3,
          2
         ],
         "yaxis": "y169"
        },
        {
         "showscale": false,
         "type": "contour",
         "xaxis": "x183",
         "yaxis": "y183"
        },
        {
         "type": "scatter",
         "xaxis": "x183",
         "yaxis": "y183"
        },
        {
         "showscale": false,
         "type": "contour",
         "xaxis": "x2",
         "yaxis": "y2"
        },
        {
         "type": "scatter",
         "xaxis": "x2",
         "yaxis": "y2"
        },
        {
         "type": "scatter",
         "xaxis": "x16",
         "yaxis": "y16"
        },
        {
         "showscale": false,
         "type": "contour",
         "xaxis": "x30",
         "yaxis": "y30"
        },
        {
         "type": "scatter",
         "xaxis": "x30",
         "yaxis": "y30"
        },
        {
         "showscale": false,
         "type": "contour",
         "xaxis": "x44",
         "yaxis": "y44"
        },
        {
         "type": "scatter",
         "xaxis": "x44",
         "yaxis": "y44"
        },
        {
         "showscale": false,
         "type": "contour",
         "xaxis": "x58",
         "yaxis": "y58"
        },
        {
         "type": "scatter",
         "xaxis": "x58",
         "yaxis": "y58"
        },
        {
         "showscale": false,
         "type": "contour",
         "xaxis": "x72",
         "yaxis": "y72"
        },
        {
         "type": "scatter",
         "xaxis": "x72",
         "yaxis": "y72"
        },
        {
         "showscale": false,
         "type": "contour",
         "xaxis": "x86",
         "yaxis": "y86"
        },
        {
         "type": "scatter",
         "xaxis": "x86",
         "yaxis": "y86"
        },
        {
         "showscale": false,
         "type": "contour",
         "xaxis": "x100",
         "yaxis": "y100"
        },
        {
         "type": "scatter",
         "xaxis": "x100",
         "yaxis": "y100"
        },
        {
         "showscale": false,
         "type": "contour",
         "xaxis": "x114",
         "yaxis": "y114"
        },
        {
         "type": "scatter",
         "xaxis": "x114",
         "yaxis": "y114"
        },
        {
         "showscale": false,
         "type": "contour",
         "xaxis": "x128",
         "yaxis": "y128"
        },
        {
         "type": "scatter",
         "xaxis": "x128",
         "yaxis": "y128"
        },
        {
         "showscale": false,
         "type": "contour",
         "xaxis": "x142",
         "yaxis": "y142"
        },
        {
         "type": "scatter",
         "xaxis": "x142",
         "yaxis": "y142"
        },
        {
         "showscale": false,
         "type": "contour",
         "xaxis": "x156",
         "yaxis": "y156"
        },
        {
         "type": "scatter",
         "xaxis": "x156",
         "yaxis": "y156"
        },
        {
         "showscale": false,
         "type": "contour",
         "xaxis": "x170",
         "yaxis": "y170"
        },
        {
         "type": "scatter",
         "xaxis": "x170",
         "yaxis": "y170"
        },
        {
         "showscale": false,
         "type": "contour",
         "xaxis": "x184",
         "yaxis": "y184"
        },
        {
         "type": "scatter",
         "xaxis": "x184",
         "yaxis": "y184"
        },
        {
         "colorbar": {
          "title": {
           "text": "Objective Value"
          }
         },
         "colorscale": [
          [
           0,
           "rgb(220,220,220)"
          ],
          [
           0.30000000000000004,
           "rgb(106,137,247)"
          ],
          [
           0.4,
           "rgb(90,120,245)"
          ],
          [
           0.5,
           "rgb(70,100,245)"
          ],
          [
           0.65,
           "rgb(40,60,190)"
          ],
          [
           1,
           "rgb(5,10,172)"
          ]
         ],
         "connectgaps": true,
         "contours": {
          "coloring": "heatmap"
         },
         "hoverinfo": "none",
         "line": {
          "smoothing": 1.3
         },
         "showscale": false,
         "type": "contour",
         "x": [
          0.7573462327074572,
          0.9292811142151904
         ],
         "xaxis": "x3",
         "y": [
          false,
          true
         ],
         "yaxis": "y3",
         "z": [
          [
           null,
           -0.625
          ],
          [
           -0.3798076808452606,
           null
          ]
         ]
        },
        {
         "marker": {
          "color": "black"
         },
         "mode": "markers",
         "showlegend": false,
         "type": "scatter",
         "x": [
          0.7573462327074572,
          0.9292811142151904
         ],
         "xaxis": "x3",
         "y": [
          true,
          false
         ],
         "yaxis": "y3"
        },
        {
         "showscale": false,
         "type": "contour",
         "xaxis": "x17",
         "yaxis": "y17"
        },
        {
         "type": "scatter",
         "xaxis": "x17",
         "yaxis": "y17"
        },
        {
         "type": "scatter",
         "xaxis": "x31",
         "yaxis": "y31"
        },
        {
         "colorbar": {
          "title": {
           "text": "Objective Value"
          }
         },
         "colorscale": [
          [
           0,
           "rgb(220,220,220)"
          ],
          [
           0.30000000000000004,
           "rgb(106,137,247)"
          ],
          [
           0.4,
           "rgb(90,120,245)"
          ],
          [
           0.5,
           "rgb(70,100,245)"
          ],
          [
           0.65,
           "rgb(40,60,190)"
          ],
          [
           1,
           "rgb(5,10,172)"
          ]
         ],
         "connectgaps": true,
         "contours": {
          "coloring": "heatmap"
         },
         "hoverinfo": "none",
         "line": {
          "smoothing": 1.3
         },
         "showscale": false,
         "type": "contour",
         "x": [
          0.7573462327074572,
          0.9292811142151904
         ],
         "xaxis": "x45",
         "y": [
          0.2777156317392936,
          0.4934688038730549
         ],
         "yaxis": "y45",
         "z": [
          [
           -0.3798076808452606,
           null
          ],
          [
           null,
           -0.625
          ]
         ]
        },
        {
         "marker": {
          "color": "black"
         },
         "mode": "markers",
         "showlegend": false,
         "type": "scatter",
         "x": [
          0.7573462327074572,
          0.9292811142151904
         ],
         "xaxis": "x45",
         "y": [
          0.2777156317392936,
          0.4934688038730549
         ],
         "yaxis": "y45"
        },
        {
         "colorbar": {
          "title": {
           "text": "Objective Value"
          }
         },
         "colorscale": [
          [
           0,
           "rgb(220,220,220)"
          ],
          [
           0.30000000000000004,
           "rgb(106,137,247)"
          ],
          [
           0.4,
           "rgb(90,120,245)"
          ],
          [
           0.5,
           "rgb(70,100,245)"
          ],
          [
           0.65,
           "rgb(40,60,190)"
          ],
          [
           1,
           "rgb(5,10,172)"
          ]
         ],
         "connectgaps": true,
         "contours": {
          "coloring": "heatmap"
         },
         "hoverinfo": "none",
         "line": {
          "smoothing": 1.3
         },
         "showscale": false,
         "type": "contour",
         "x": [
          0.7573462327074572,
          0.9292811142151904
         ],
         "xaxis": "x59",
         "y": [
          0.4319286909453611,
          0.8373025398621657
         ],
         "yaxis": "y59",
         "z": [
          [
           -0.3798076808452606,
           null
          ],
          [
           null,
           -0.625
          ]
         ]
        },
        {
         "marker": {
          "color": "black"
         },
         "mode": "markers",
         "showlegend": false,
         "type": "scatter",
         "x": [
          0.7573462327074572,
          0.9292811142151904
         ],
         "xaxis": "x59",
         "y": [
          0.4319286909453611,
          0.8373025398621657
         ],
         "yaxis": "y59"
        },
        {
         "showscale": false,
         "type": "contour",
         "xaxis": "x73",
         "yaxis": "y73"
        },
        {
         "type": "scatter",
         "xaxis": "x73",
         "yaxis": "y73"
        },
        {
         "colorbar": {
          "title": {
           "text": "Objective Value"
          }
         },
         "colorscale": [
          [
           0,
           "rgb(220,220,220)"
          ],
          [
           0.30000000000000004,
           "rgb(106,137,247)"
          ],
          [
           0.4,
           "rgb(90,120,245)"
          ],
          [
           0.5,
           "rgb(70,100,245)"
          ],
          [
           0.65,
           "rgb(40,60,190)"
          ],
          [
           1,
           "rgb(5,10,172)"
          ]
         ],
         "connectgaps": true,
         "contours": {
          "coloring": "heatmap"
         },
         "hoverinfo": "none",
         "line": {
          "smoothing": 1.3
         },
         "showscale": false,
         "type": "contour",
         "x": [
          0.7573462327074572,
          0.9292811142151904
         ],
         "xaxis": "x87",
         "y": [
          64,
          128
         ],
         "yaxis": "y87",
         "z": [
          [
           -0.3798076808452606,
           null
          ],
          [
           null,
           -0.625
          ]
         ]
        },
        {
         "marker": {
          "color": "black"
         },
         "mode": "markers",
         "showlegend": false,
         "type": "scatter",
         "x": [
          0.7573462327074572,
          0.9292811142151904
         ],
         "xaxis": "x87",
         "y": [
          64,
          128
         ],
         "yaxis": "y87"
        },
        {
         "showscale": false,
         "type": "contour",
         "xaxis": "x101",
         "yaxis": "y101"
        },
        {
         "type": "scatter",
         "xaxis": "x101",
         "yaxis": "y101"
        },
        {
         "colorbar": {
          "title": {
           "text": "Objective Value"
          }
         },
         "colorscale": [
          [
           0,
           "rgb(220,220,220)"
          ],
          [
           0.30000000000000004,
           "rgb(106,137,247)"
          ],
          [
           0.4,
           "rgb(90,120,245)"
          ],
          [
           0.5,
           "rgb(70,100,245)"
          ],
          [
           0.65,
           "rgb(40,60,190)"
          ],
          [
           1,
           "rgb(5,10,172)"
          ]
         ],
         "connectgaps": true,
         "contours": {
          "coloring": "heatmap"
         },
         "hoverinfo": "none",
         "line": {
          "smoothing": 1.3
         },
         "showscale": false,
         "type": "contour",
         "x": [
          0.7573462327074572,
          0.9292811142151904
         ],
         "xaxis": "x115",
         "y": [
          64,
          128
         ],
         "yaxis": "y115",
         "z": [
          [
           -0.3798076808452606,
           null
          ],
          [
           null,
           -0.625
          ]
         ]
        },
        {
         "marker": {
          "color": "black"
         },
         "mode": "markers",
         "showlegend": false,
         "type": "scatter",
         "x": [
          0.7573462327074572,
          0.9292811142151904
         ],
         "xaxis": "x115",
         "y": [
          64,
          128
         ],
         "yaxis": "y115"
        },
        {
         "showscale": false,
         "type": "contour",
         "xaxis": "x129",
         "yaxis": "y129"
        },
        {
         "type": "scatter",
         "xaxis": "x129",
         "yaxis": "y129"
        },
        {
         "colorbar": {
          "title": {
           "text": "Objective Value"
          }
         },
         "colorscale": [
          [
           0,
           "rgb(220,220,220)"
          ],
          [
           0.30000000000000004,
           "rgb(106,137,247)"
          ],
          [
           0.4,
           "rgb(90,120,245)"
          ],
          [
           0.5,
           "rgb(70,100,245)"
          ],
          [
           0.65,
           "rgb(40,60,190)"
          ],
          [
           1,
           "rgb(5,10,172)"
          ]
         ],
         "connectgaps": true,
         "contours": {
          "coloring": "heatmap"
         },
         "hoverinfo": "none",
         "line": {
          "smoothing": 1.3
         },
         "showscale": false,
         "type": "contour",
         "x": [
          0.7573462327074572,
          0.9292811142151904
         ],
         "xaxis": "x143",
         "y": [
          3,
          4
         ],
         "yaxis": "y143",
         "z": [
          [
           -0.3798076808452606,
           null
          ],
          [
           null,
           -0.625
          ]
         ]
        },
        {
         "marker": {
          "color": "black"
         },
         "mode": "markers",
         "showlegend": false,
         "type": "scatter",
         "x": [
          0.7573462327074572,
          0.9292811142151904
         ],
         "xaxis": "x143",
         "y": [
          3,
          4
         ],
         "yaxis": "y143"
        },
        {
         "colorbar": {
          "title": {
           "text": "Objective Value"
          }
         },
         "colorscale": [
          [
           0,
           "rgb(220,220,220)"
          ],
          [
           0.30000000000000004,
           "rgb(106,137,247)"
          ],
          [
           0.4,
           "rgb(90,120,245)"
          ],
          [
           0.5,
           "rgb(70,100,245)"
          ],
          [
           0.65,
           "rgb(40,60,190)"
          ],
          [
           1,
           "rgb(5,10,172)"
          ]
         ],
         "connectgaps": true,
         "contours": {
          "coloring": "heatmap"
         },
         "hoverinfo": "none",
         "line": {
          "smoothing": 1.3
         },
         "showscale": false,
         "type": "contour",
         "x": [
          0.7573462327074572,
          0.9292811142151904
         ],
         "xaxis": "x157",
         "y": [
          3,
          4
         ],
         "yaxis": "y157",
         "z": [
          [
           -0.3798076808452606,
           null
          ],
          [
           null,
           -0.625
          ]
         ]
        },
        {
         "marker": {
          "color": "black"
         },
         "mode": "markers",
         "showlegend": false,
         "type": "scatter",
         "x": [
          0.7573462327074572,
          0.9292811142151904
         ],
         "xaxis": "x157",
         "y": [
          3,
          4
         ],
         "yaxis": "y157"
        },
        {
         "colorbar": {
          "title": {
           "text": "Objective Value"
          }
         },
         "colorscale": [
          [
           0,
           "rgb(220,220,220)"
          ],
          [
           0.30000000000000004,
           "rgb(106,137,247)"
          ],
          [
           0.4,
           "rgb(90,120,245)"
          ],
          [
           0.5,
           "rgb(70,100,245)"
          ],
          [
           0.65,
           "rgb(40,60,190)"
          ],
          [
           1,
           "rgb(5,10,172)"
          ]
         ],
         "connectgaps": true,
         "contours": {
          "coloring": "heatmap"
         },
         "hoverinfo": "none",
         "line": {
          "smoothing": 1.3
         },
         "showscale": false,
         "type": "contour",
         "x": [
          0.7573462327074572,
          0.9292811142151904
         ],
         "xaxis": "x171",
         "y": [
          2,
          3
         ],
         "yaxis": "y171",
         "z": [
          [
           null,
           -0.625
          ],
          [
           -0.3798076808452606,
           null
          ]
         ]
        },
        {
         "marker": {
          "color": "black"
         },
         "mode": "markers",
         "showlegend": false,
         "type": "scatter",
         "x": [
          0.7573462327074572,
          0.9292811142151904
         ],
         "xaxis": "x171",
         "y": [
          3,
          2
         ],
         "yaxis": "y171"
        },
        {
         "showscale": false,
         "type": "contour",
         "xaxis": "x185",
         "yaxis": "y185"
        },
        {
         "type": "scatter",
         "xaxis": "x185",
         "yaxis": "y185"
        },
        {
         "colorbar": {
          "title": {
           "text": "Objective Value"
          }
         },
         "colorscale": [
          [
           0,
           "rgb(220,220,220)"
          ],
          [
           0.30000000000000004,
           "rgb(106,137,247)"
          ],
          [
           0.4,
           "rgb(90,120,245)"
          ],
          [
           0.5,
           "rgb(70,100,245)"
          ],
          [
           0.65,
           "rgb(40,60,190)"
          ],
          [
           1,
           "rgb(5,10,172)"
          ]
         ],
         "connectgaps": true,
         "contours": {
          "coloring": "heatmap"
         },
         "hoverinfo": "none",
         "line": {
          "smoothing": 1.3
         },
         "showscale": false,
         "type": "contour",
         "x": [
          0.2777156317392936,
          0.4934688038730549
         ],
         "xaxis": "x4",
         "y": [
          false,
          true
         ],
         "yaxis": "y4",
         "z": [
          [
           null,
           -0.625
          ],
          [
           -0.3798076808452606,
           null
          ]
         ]
        },
        {
         "marker": {
          "color": "black"
         },
         "mode": "markers",
         "showlegend": false,
         "type": "scatter",
         "x": [
          0.2777156317392936,
          0.4934688038730549
         ],
         "xaxis": "x4",
         "y": [
          true,
          false
         ],
         "yaxis": "y4"
        },
        {
         "showscale": false,
         "type": "contour",
         "xaxis": "x18",
         "yaxis": "y18"
        },
        {
         "type": "scatter",
         "xaxis": "x18",
         "yaxis": "y18"
        },
        {
         "colorbar": {
          "title": {
           "text": "Objective Value"
          }
         },
         "colorscale": [
          [
           0,
           "rgb(220,220,220)"
          ],
          [
           0.30000000000000004,
           "rgb(106,137,247)"
          ],
          [
           0.4,
           "rgb(90,120,245)"
          ],
          [
           0.5,
           "rgb(70,100,245)"
          ],
          [
           0.65,
           "rgb(40,60,190)"
          ],
          [
           1,
           "rgb(5,10,172)"
          ]
         ],
         "connectgaps": true,
         "contours": {
          "coloring": "heatmap"
         },
         "hoverinfo": "none",
         "line": {
          "smoothing": 1.3
         },
         "showscale": false,
         "type": "contour",
         "x": [
          0.2777156317392936,
          0.4934688038730549
         ],
         "xaxis": "x32",
         "y": [
          0.7573462327074572,
          0.9292811142151904
         ],
         "yaxis": "y32",
         "z": [
          [
           -0.3798076808452606,
           null
          ],
          [
           null,
           -0.625
          ]
         ]
        },
        {
         "marker": {
          "color": "black"
         },
         "mode": "markers",
         "showlegend": false,
         "type": "scatter",
         "x": [
          0.2777156317392936,
          0.4934688038730549
         ],
         "xaxis": "x32",
         "y": [
          0.7573462327074572,
          0.9292811142151904
         ],
         "yaxis": "y32"
        },
        {
         "type": "scatter",
         "xaxis": "x46",
         "yaxis": "y46"
        },
        {
         "colorbar": {
          "title": {
           "text": "Objective Value"
          }
         },
         "colorscale": [
          [
           0,
           "rgb(220,220,220)"
          ],
          [
           0.30000000000000004,
           "rgb(106,137,247)"
          ],
          [
           0.4,
           "rgb(90,120,245)"
          ],
          [
           0.5,
           "rgb(70,100,245)"
          ],
          [
           0.65,
           "rgb(40,60,190)"
          ],
          [
           1,
           "rgb(5,10,172)"
          ]
         ],
         "connectgaps": true,
         "contours": {
          "coloring": "heatmap"
         },
         "hoverinfo": "none",
         "line": {
          "smoothing": 1.3
         },
         "showscale": false,
         "type": "contour",
         "x": [
          0.2777156317392936,
          0.4934688038730549
         ],
         "xaxis": "x60",
         "y": [
          0.4319286909453611,
          0.8373025398621657
         ],
         "yaxis": "y60",
         "z": [
          [
           -0.3798076808452606,
           null
          ],
          [
           null,
           -0.625
          ]
         ]
        },
        {
         "marker": {
          "color": "black"
         },
         "mode": "markers",
         "showlegend": false,
         "type": "scatter",
         "x": [
          0.2777156317392936,
          0.4934688038730549
         ],
         "xaxis": "x60",
         "y": [
          0.4319286909453611,
          0.8373025398621657
         ],
         "yaxis": "y60"
        },
        {
         "showscale": false,
         "type": "contour",
         "xaxis": "x74",
         "yaxis": "y74"
        },
        {
         "type": "scatter",
         "xaxis": "x74",
         "yaxis": "y74"
        },
        {
         "colorbar": {
          "title": {
           "text": "Objective Value"
          }
         },
         "colorscale": [
          [
           0,
           "rgb(220,220,220)"
          ],
          [
           0.30000000000000004,
           "rgb(106,137,247)"
          ],
          [
           0.4,
           "rgb(90,120,245)"
          ],
          [
           0.5,
           "rgb(70,100,245)"
          ],
          [
           0.65,
           "rgb(40,60,190)"
          ],
          [
           1,
           "rgb(5,10,172)"
          ]
         ],
         "connectgaps": true,
         "contours": {
          "coloring": "heatmap"
         },
         "hoverinfo": "none",
         "line": {
          "smoothing": 1.3
         },
         "showscale": false,
         "type": "contour",
         "x": [
          0.2777156317392936,
          0.4934688038730549
         ],
         "xaxis": "x88",
         "y": [
          64,
          128
         ],
         "yaxis": "y88",
         "z": [
          [
           -0.3798076808452606,
           null
          ],
          [
           null,
           -0.625
          ]
         ]
        },
        {
         "marker": {
          "color": "black"
         },
         "mode": "markers",
         "showlegend": false,
         "type": "scatter",
         "x": [
          0.2777156317392936,
          0.4934688038730549
         ],
         "xaxis": "x88",
         "y": [
          64,
          128
         ],
         "yaxis": "y88"
        },
        {
         "showscale": false,
         "type": "contour",
         "xaxis": "x102",
         "yaxis": "y102"
        },
        {
         "type": "scatter",
         "xaxis": "x102",
         "yaxis": "y102"
        },
        {
         "colorbar": {
          "title": {
           "text": "Objective Value"
          }
         },
         "colorscale": [
          [
           0,
           "rgb(220,220,220)"
          ],
          [
           0.30000000000000004,
           "rgb(106,137,247)"
          ],
          [
           0.4,
           "rgb(90,120,245)"
          ],
          [
           0.5,
           "rgb(70,100,245)"
          ],
          [
           0.65,
           "rgb(40,60,190)"
          ],
          [
           1,
           "rgb(5,10,172)"
          ]
         ],
         "connectgaps": true,
         "contours": {
          "coloring": "heatmap"
         },
         "hoverinfo": "none",
         "line": {
          "smoothing": 1.3
         },
         "showscale": false,
         "type": "contour",
         "x": [
          0.2777156317392936,
          0.4934688038730549
         ],
         "xaxis": "x116",
         "y": [
          64,
          128
         ],
         "yaxis": "y116",
         "z": [
          [
           -0.3798076808452606,
           null
          ],
          [
           null,
           -0.625
          ]
         ]
        },
        {
         "marker": {
          "color": "black"
         },
         "mode": "markers",
         "showlegend": false,
         "type": "scatter",
         "x": [
          0.2777156317392936,
          0.4934688038730549
         ],
         "xaxis": "x116",
         "y": [
          64,
          128
         ],
         "yaxis": "y116"
        },
        {
         "showscale": false,
         "type": "contour",
         "xaxis": "x130",
         "yaxis": "y130"
        },
        {
         "type": "scatter",
         "xaxis": "x130",
         "yaxis": "y130"
        },
        {
         "colorbar": {
          "title": {
           "text": "Objective Value"
          }
         },
         "colorscale": [
          [
           0,
           "rgb(220,220,220)"
          ],
          [
           0.30000000000000004,
           "rgb(106,137,247)"
          ],
          [
           0.4,
           "rgb(90,120,245)"
          ],
          [
           0.5,
           "rgb(70,100,245)"
          ],
          [
           0.65,
           "rgb(40,60,190)"
          ],
          [
           1,
           "rgb(5,10,172)"
          ]
         ],
         "connectgaps": true,
         "contours": {
          "coloring": "heatmap"
         },
         "hoverinfo": "none",
         "line": {
          "smoothing": 1.3
         },
         "showscale": false,
         "type": "contour",
         "x": [
          0.2777156317392936,
          0.4934688038730549
         ],
         "xaxis": "x144",
         "y": [
          3,
          4
         ],
         "yaxis": "y144",
         "z": [
          [
           -0.3798076808452606,
           null
          ],
          [
           null,
           -0.625
          ]
         ]
        },
        {
         "marker": {
          "color": "black"
         },
         "mode": "markers",
         "showlegend": false,
         "type": "scatter",
         "x": [
          0.2777156317392936,
          0.4934688038730549
         ],
         "xaxis": "x144",
         "y": [
          3,
          4
         ],
         "yaxis": "y144"
        },
        {
         "colorbar": {
          "title": {
           "text": "Objective Value"
          }
         },
         "colorscale": [
          [
           0,
           "rgb(220,220,220)"
          ],
          [
           0.30000000000000004,
           "rgb(106,137,247)"
          ],
          [
           0.4,
           "rgb(90,120,245)"
          ],
          [
           0.5,
           "rgb(70,100,245)"
          ],
          [
           0.65,
           "rgb(40,60,190)"
          ],
          [
           1,
           "rgb(5,10,172)"
          ]
         ],
         "connectgaps": true,
         "contours": {
          "coloring": "heatmap"
         },
         "hoverinfo": "none",
         "line": {
          "smoothing": 1.3
         },
         "showscale": false,
         "type": "contour",
         "x": [
          0.2777156317392936,
          0.4934688038730549
         ],
         "xaxis": "x158",
         "y": [
          3,
          4
         ],
         "yaxis": "y158",
         "z": [
          [
           -0.3798076808452606,
           null
          ],
          [
           null,
           -0.625
          ]
         ]
        },
        {
         "marker": {
          "color": "black"
         },
         "mode": "markers",
         "showlegend": false,
         "type": "scatter",
         "x": [
          0.2777156317392936,
          0.4934688038730549
         ],
         "xaxis": "x158",
         "y": [
          3,
          4
         ],
         "yaxis": "y158"
        },
        {
         "colorbar": {
          "title": {
           "text": "Objective Value"
          }
         },
         "colorscale": [
          [
           0,
           "rgb(220,220,220)"
          ],
          [
           0.30000000000000004,
           "rgb(106,137,247)"
          ],
          [
           0.4,
           "rgb(90,120,245)"
          ],
          [
           0.5,
           "rgb(70,100,245)"
          ],
          [
           0.65,
           "rgb(40,60,190)"
          ],
          [
           1,
           "rgb(5,10,172)"
          ]
         ],
         "connectgaps": true,
         "contours": {
          "coloring": "heatmap"
         },
         "hoverinfo": "none",
         "line": {
          "smoothing": 1.3
         },
         "showscale": false,
         "type": "contour",
         "x": [
          0.2777156317392936,
          0.4934688038730549
         ],
         "xaxis": "x172",
         "y": [
          2,
          3
         ],
         "yaxis": "y172",
         "z": [
          [
           null,
           -0.625
          ],
          [
           -0.3798076808452606,
           null
          ]
         ]
        },
        {
         "marker": {
          "color": "black"
         },
         "mode": "markers",
         "showlegend": false,
         "type": "scatter",
         "x": [
          0.2777156317392936,
          0.4934688038730549
         ],
         "xaxis": "x172",
         "y": [
          3,
          2
         ],
         "yaxis": "y172"
        },
        {
         "showscale": false,
         "type": "contour",
         "xaxis": "x186",
         "yaxis": "y186"
        },
        {
         "type": "scatter",
         "xaxis": "x186",
         "yaxis": "y186"
        },
        {
         "colorbar": {
          "title": {
           "text": "Objective Value"
          }
         },
         "colorscale": [
          [
           0,
           "rgb(220,220,220)"
          ],
          [
           0.30000000000000004,
           "rgb(106,137,247)"
          ],
          [
           0.4,
           "rgb(90,120,245)"
          ],
          [
           0.5,
           "rgb(70,100,245)"
          ],
          [
           0.65,
           "rgb(40,60,190)"
          ],
          [
           1,
           "rgb(5,10,172)"
          ]
         ],
         "connectgaps": true,
         "contours": {
          "coloring": "heatmap"
         },
         "hoverinfo": "none",
         "line": {
          "smoothing": 1.3
         },
         "showscale": false,
         "type": "contour",
         "x": [
          0.4319286909453611,
          0.8373025398621657
         ],
         "xaxis": "x5",
         "y": [
          false,
          true
         ],
         "yaxis": "y5",
         "z": [
          [
           null,
           -0.625
          ],
          [
           -0.3798076808452606,
           null
          ]
         ]
        },
        {
         "marker": {
          "color": "black"
         },
         "mode": "markers",
         "showlegend": false,
         "type": "scatter",
         "x": [
          0.4319286909453611,
          0.8373025398621657
         ],
         "xaxis": "x5",
         "y": [
          true,
          false
         ],
         "yaxis": "y5"
        },
        {
         "showscale": false,
         "type": "contour",
         "xaxis": "x19",
         "yaxis": "y19"
        },
        {
         "type": "scatter",
         "xaxis": "x19",
         "yaxis": "y19"
        },
        {
         "colorbar": {
          "title": {
           "text": "Objective Value"
          }
         },
         "colorscale": [
          [
           0,
           "rgb(220,220,220)"
          ],
          [
           0.30000000000000004,
           "rgb(106,137,247)"
          ],
          [
           0.4,
           "rgb(90,120,245)"
          ],
          [
           0.5,
           "rgb(70,100,245)"
          ],
          [
           0.65,
           "rgb(40,60,190)"
          ],
          [
           1,
           "rgb(5,10,172)"
          ]
         ],
         "connectgaps": true,
         "contours": {
          "coloring": "heatmap"
         },
         "hoverinfo": "none",
         "line": {
          "smoothing": 1.3
         },
         "showscale": false,
         "type": "contour",
         "x": [
          0.4319286909453611,
          0.8373025398621657
         ],
         "xaxis": "x33",
         "y": [
          0.7573462327074572,
          0.9292811142151904
         ],
         "yaxis": "y33",
         "z": [
          [
           -0.3798076808452606,
           null
          ],
          [
           null,
           -0.625
          ]
         ]
        },
        {
         "marker": {
          "color": "black"
         },
         "mode": "markers",
         "showlegend": false,
         "type": "scatter",
         "x": [
          0.4319286909453611,
          0.8373025398621657
         ],
         "xaxis": "x33",
         "y": [
          0.7573462327074572,
          0.9292811142151904
         ],
         "yaxis": "y33"
        },
        {
         "colorbar": {
          "title": {
           "text": "Objective Value"
          }
         },
         "colorscale": [
          [
           0,
           "rgb(220,220,220)"
          ],
          [
           0.30000000000000004,
           "rgb(106,137,247)"
          ],
          [
           0.4,
           "rgb(90,120,245)"
          ],
          [
           0.5,
           "rgb(70,100,245)"
          ],
          [
           0.65,
           "rgb(40,60,190)"
          ],
          [
           1,
           "rgb(5,10,172)"
          ]
         ],
         "connectgaps": true,
         "contours": {
          "coloring": "heatmap"
         },
         "hoverinfo": "none",
         "line": {
          "smoothing": 1.3
         },
         "showscale": false,
         "type": "contour",
         "x": [
          0.4319286909453611,
          0.8373025398621657
         ],
         "xaxis": "x47",
         "y": [
          0.2777156317392936,
          0.4934688038730549
         ],
         "yaxis": "y47",
         "z": [
          [
           -0.3798076808452606,
           null
          ],
          [
           null,
           -0.625
          ]
         ]
        },
        {
         "marker": {
          "color": "black"
         },
         "mode": "markers",
         "showlegend": false,
         "type": "scatter",
         "x": [
          0.4319286909453611,
          0.8373025398621657
         ],
         "xaxis": "x47",
         "y": [
          0.2777156317392936,
          0.4934688038730549
         ],
         "yaxis": "y47"
        },
        {
         "type": "scatter",
         "xaxis": "x61",
         "yaxis": "y61"
        },
        {
         "showscale": false,
         "type": "contour",
         "xaxis": "x75",
         "yaxis": "y75"
        },
        {
         "type": "scatter",
         "xaxis": "x75",
         "yaxis": "y75"
        },
        {
         "colorbar": {
          "title": {
           "text": "Objective Value"
          }
         },
         "colorscale": [
          [
           0,
           "rgb(220,220,220)"
          ],
          [
           0.30000000000000004,
           "rgb(106,137,247)"
          ],
          [
           0.4,
           "rgb(90,120,245)"
          ],
          [
           0.5,
           "rgb(70,100,245)"
          ],
          [
           0.65,
           "rgb(40,60,190)"
          ],
          [
           1,
           "rgb(5,10,172)"
          ]
         ],
         "connectgaps": true,
         "contours": {
          "coloring": "heatmap"
         },
         "hoverinfo": "none",
         "line": {
          "smoothing": 1.3
         },
         "showscale": false,
         "type": "contour",
         "x": [
          0.4319286909453611,
          0.8373025398621657
         ],
         "xaxis": "x89",
         "y": [
          64,
          128
         ],
         "yaxis": "y89",
         "z": [
          [
           -0.3798076808452606,
           null
          ],
          [
           null,
           -0.625
          ]
         ]
        },
        {
         "marker": {
          "color": "black"
         },
         "mode": "markers",
         "showlegend": false,
         "type": "scatter",
         "x": [
          0.4319286909453611,
          0.8373025398621657
         ],
         "xaxis": "x89",
         "y": [
          64,
          128
         ],
         "yaxis": "y89"
        },
        {
         "showscale": false,
         "type": "contour",
         "xaxis": "x103",
         "yaxis": "y103"
        },
        {
         "type": "scatter",
         "xaxis": "x103",
         "yaxis": "y103"
        },
        {
         "colorbar": {
          "title": {
           "text": "Objective Value"
          }
         },
         "colorscale": [
          [
           0,
           "rgb(220,220,220)"
          ],
          [
           0.30000000000000004,
           "rgb(106,137,247)"
          ],
          [
           0.4,
           "rgb(90,120,245)"
          ],
          [
           0.5,
           "rgb(70,100,245)"
          ],
          [
           0.65,
           "rgb(40,60,190)"
          ],
          [
           1,
           "rgb(5,10,172)"
          ]
         ],
         "connectgaps": true,
         "contours": {
          "coloring": "heatmap"
         },
         "hoverinfo": "none",
         "line": {
          "smoothing": 1.3
         },
         "showscale": false,
         "type": "contour",
         "x": [
          0.4319286909453611,
          0.8373025398621657
         ],
         "xaxis": "x117",
         "y": [
          64,
          128
         ],
         "yaxis": "y117",
         "z": [
          [
           -0.3798076808452606,
           null
          ],
          [
           null,
           -0.625
          ]
         ]
        },
        {
         "marker": {
          "color": "black"
         },
         "mode": "markers",
         "showlegend": false,
         "type": "scatter",
         "x": [
          0.4319286909453611,
          0.8373025398621657
         ],
         "xaxis": "x117",
         "y": [
          64,
          128
         ],
         "yaxis": "y117"
        },
        {
         "showscale": false,
         "type": "contour",
         "xaxis": "x131",
         "yaxis": "y131"
        },
        {
         "type": "scatter",
         "xaxis": "x131",
         "yaxis": "y131"
        },
        {
         "colorbar": {
          "title": {
           "text": "Objective Value"
          }
         },
         "colorscale": [
          [
           0,
           "rgb(220,220,220)"
          ],
          [
           0.30000000000000004,
           "rgb(106,137,247)"
          ],
          [
           0.4,
           "rgb(90,120,245)"
          ],
          [
           0.5,
           "rgb(70,100,245)"
          ],
          [
           0.65,
           "rgb(40,60,190)"
          ],
          [
           1,
           "rgb(5,10,172)"
          ]
         ],
         "connectgaps": true,
         "contours": {
          "coloring": "heatmap"
         },
         "hoverinfo": "none",
         "line": {
          "smoothing": 1.3
         },
         "showscale": false,
         "type": "contour",
         "x": [
          0.4319286909453611,
          0.8373025398621657
         ],
         "xaxis": "x145",
         "y": [
          3,
          4
         ],
         "yaxis": "y145",
         "z": [
          [
           -0.3798076808452606,
           null
          ],
          [
           null,
           -0.625
          ]
         ]
        },
        {
         "marker": {
          "color": "black"
         },
         "mode": "markers",
         "showlegend": false,
         "type": "scatter",
         "x": [
          0.4319286909453611,
          0.8373025398621657
         ],
         "xaxis": "x145",
         "y": [
          3,
          4
         ],
         "yaxis": "y145"
        },
        {
         "colorbar": {
          "title": {
           "text": "Objective Value"
          }
         },
         "colorscale": [
          [
           0,
           "rgb(220,220,220)"
          ],
          [
           0.30000000000000004,
           "rgb(106,137,247)"
          ],
          [
           0.4,
           "rgb(90,120,245)"
          ],
          [
           0.5,
           "rgb(70,100,245)"
          ],
          [
           0.65,
           "rgb(40,60,190)"
          ],
          [
           1,
           "rgb(5,10,172)"
          ]
         ],
         "connectgaps": true,
         "contours": {
          "coloring": "heatmap"
         },
         "hoverinfo": "none",
         "line": {
          "smoothing": 1.3
         },
         "showscale": false,
         "type": "contour",
         "x": [
          0.4319286909453611,
          0.8373025398621657
         ],
         "xaxis": "x159",
         "y": [
          3,
          4
         ],
         "yaxis": "y159",
         "z": [
          [
           -0.3798076808452606,
           null
          ],
          [
           null,
           -0.625
          ]
         ]
        },
        {
         "marker": {
          "color": "black"
         },
         "mode": "markers",
         "showlegend": false,
         "type": "scatter",
         "x": [
          0.4319286909453611,
          0.8373025398621657
         ],
         "xaxis": "x159",
         "y": [
          3,
          4
         ],
         "yaxis": "y159"
        },
        {
         "colorbar": {
          "title": {
           "text": "Objective Value"
          }
         },
         "colorscale": [
          [
           0,
           "rgb(220,220,220)"
          ],
          [
           0.30000000000000004,
           "rgb(106,137,247)"
          ],
          [
           0.4,
           "rgb(90,120,245)"
          ],
          [
           0.5,
           "rgb(70,100,245)"
          ],
          [
           0.65,
           "rgb(40,60,190)"
          ],
          [
           1,
           "rgb(5,10,172)"
          ]
         ],
         "connectgaps": true,
         "contours": {
          "coloring": "heatmap"
         },
         "hoverinfo": "none",
         "line": {
          "smoothing": 1.3
         },
         "showscale": false,
         "type": "contour",
         "x": [
          0.4319286909453611,
          0.8373025398621657
         ],
         "xaxis": "x173",
         "y": [
          2,
          3
         ],
         "yaxis": "y173",
         "z": [
          [
           null,
           -0.625
          ],
          [
           -0.3798076808452606,
           null
          ]
         ]
        },
        {
         "marker": {
          "color": "black"
         },
         "mode": "markers",
         "showlegend": false,
         "type": "scatter",
         "x": [
          0.4319286909453611,
          0.8373025398621657
         ],
         "xaxis": "x173",
         "y": [
          3,
          2
         ],
         "yaxis": "y173"
        },
        {
         "showscale": false,
         "type": "contour",
         "xaxis": "x187",
         "yaxis": "y187"
        },
        {
         "type": "scatter",
         "xaxis": "x187",
         "yaxis": "y187"
        },
        {
         "showscale": false,
         "type": "contour",
         "xaxis": "x6",
         "yaxis": "y6"
        },
        {
         "type": "scatter",
         "xaxis": "x6",
         "yaxis": "y6"
        },
        {
         "showscale": false,
         "type": "contour",
         "xaxis": "x20",
         "yaxis": "y20"
        },
        {
         "type": "scatter",
         "xaxis": "x20",
         "yaxis": "y20"
        },
        {
         "showscale": false,
         "type": "contour",
         "xaxis": "x34",
         "yaxis": "y34"
        },
        {
         "type": "scatter",
         "xaxis": "x34",
         "yaxis": "y34"
        },
        {
         "showscale": false,
         "type": "contour",
         "xaxis": "x48",
         "yaxis": "y48"
        },
        {
         "type": "scatter",
         "xaxis": "x48",
         "yaxis": "y48"
        },
        {
         "showscale": false,
         "type": "contour",
         "xaxis": "x62",
         "yaxis": "y62"
        },
        {
         "type": "scatter",
         "xaxis": "x62",
         "yaxis": "y62"
        },
        {
         "type": "scatter",
         "xaxis": "x76",
         "yaxis": "y76"
        },
        {
         "showscale": false,
         "type": "contour",
         "xaxis": "x90",
         "yaxis": "y90"
        },
        {
         "type": "scatter",
         "xaxis": "x90",
         "yaxis": "y90"
        },
        {
         "showscale": false,
         "type": "contour",
         "xaxis": "x104",
         "yaxis": "y104"
        },
        {
         "type": "scatter",
         "xaxis": "x104",
         "yaxis": "y104"
        },
        {
         "showscale": false,
         "type": "contour",
         "xaxis": "x118",
         "yaxis": "y118"
        },
        {
         "type": "scatter",
         "xaxis": "x118",
         "yaxis": "y118"
        },
        {
         "showscale": false,
         "type": "contour",
         "xaxis": "x132",
         "yaxis": "y132"
        },
        {
         "type": "scatter",
         "xaxis": "x132",
         "yaxis": "y132"
        },
        {
         "showscale": false,
         "type": "contour",
         "xaxis": "x146",
         "yaxis": "y146"
        },
        {
         "type": "scatter",
         "xaxis": "x146",
         "yaxis": "y146"
        },
        {
         "showscale": false,
         "type": "contour",
         "xaxis": "x160",
         "yaxis": "y160"
        },
        {
         "type": "scatter",
         "xaxis": "x160",
         "yaxis": "y160"
        },
        {
         "showscale": false,
         "type": "contour",
         "xaxis": "x174",
         "yaxis": "y174"
        },
        {
         "type": "scatter",
         "xaxis": "x174",
         "yaxis": "y174"
        },
        {
         "showscale": false,
         "type": "contour",
         "xaxis": "x188",
         "yaxis": "y188"
        },
        {
         "type": "scatter",
         "xaxis": "x188",
         "yaxis": "y188"
        },
        {
         "colorbar": {
          "title": {
           "text": "Objective Value"
          }
         },
         "colorscale": [
          [
           0,
           "rgb(220,220,220)"
          ],
          [
           0.30000000000000004,
           "rgb(106,137,247)"
          ],
          [
           0.4,
           "rgb(90,120,245)"
          ],
          [
           0.5,
           "rgb(70,100,245)"
          ],
          [
           0.65,
           "rgb(40,60,190)"
          ],
          [
           1,
           "rgb(5,10,172)"
          ]
         ],
         "connectgaps": true,
         "contours": {
          "coloring": "heatmap"
         },
         "hoverinfo": "none",
         "line": {
          "smoothing": 1.3
         },
         "showscale": false,
         "type": "contour",
         "x": [
          64,
          128
         ],
         "xaxis": "x7",
         "y": [
          false,
          true
         ],
         "yaxis": "y7",
         "z": [
          [
           null,
           -0.625
          ],
          [
           -0.3798076808452606,
           null
          ]
         ]
        },
        {
         "marker": {
          "color": "black"
         },
         "mode": "markers",
         "showlegend": false,
         "type": "scatter",
         "x": [
          64,
          128
         ],
         "xaxis": "x7",
         "y": [
          true,
          false
         ],
         "yaxis": "y7"
        },
        {
         "showscale": false,
         "type": "contour",
         "xaxis": "x21",
         "yaxis": "y21"
        },
        {
         "type": "scatter",
         "xaxis": "x21",
         "yaxis": "y21"
        },
        {
         "colorbar": {
          "title": {
           "text": "Objective Value"
          }
         },
         "colorscale": [
          [
           0,
           "rgb(220,220,220)"
          ],
          [
           0.30000000000000004,
           "rgb(106,137,247)"
          ],
          [
           0.4,
           "rgb(90,120,245)"
          ],
          [
           0.5,
           "rgb(70,100,245)"
          ],
          [
           0.65,
           "rgb(40,60,190)"
          ],
          [
           1,
           "rgb(5,10,172)"
          ]
         ],
         "connectgaps": true,
         "contours": {
          "coloring": "heatmap"
         },
         "hoverinfo": "none",
         "line": {
          "smoothing": 1.3
         },
         "showscale": false,
         "type": "contour",
         "x": [
          64,
          128
         ],
         "xaxis": "x35",
         "y": [
          0.7573462327074572,
          0.9292811142151904
         ],
         "yaxis": "y35",
         "z": [
          [
           -0.3798076808452606,
           null
          ],
          [
           null,
           -0.625
          ]
         ]
        },
        {
         "marker": {
          "color": "black"
         },
         "mode": "markers",
         "showlegend": false,
         "type": "scatter",
         "x": [
          64,
          128
         ],
         "xaxis": "x35",
         "y": [
          0.7573462327074572,
          0.9292811142151904
         ],
         "yaxis": "y35"
        },
        {
         "colorbar": {
          "title": {
           "text": "Objective Value"
          }
         },
         "colorscale": [
          [
           0,
           "rgb(220,220,220)"
          ],
          [
           0.30000000000000004,
           "rgb(106,137,247)"
          ],
          [
           0.4,
           "rgb(90,120,245)"
          ],
          [
           0.5,
           "rgb(70,100,245)"
          ],
          [
           0.65,
           "rgb(40,60,190)"
          ],
          [
           1,
           "rgb(5,10,172)"
          ]
         ],
         "connectgaps": true,
         "contours": {
          "coloring": "heatmap"
         },
         "hoverinfo": "none",
         "line": {
          "smoothing": 1.3
         },
         "showscale": false,
         "type": "contour",
         "x": [
          64,
          128
         ],
         "xaxis": "x49",
         "y": [
          0.2777156317392936,
          0.4934688038730549
         ],
         "yaxis": "y49",
         "z": [
          [
           -0.3798076808452606,
           null
          ],
          [
           null,
           -0.625
          ]
         ]
        },
        {
         "marker": {
          "color": "black"
         },
         "mode": "markers",
         "showlegend": false,
         "type": "scatter",
         "x": [
          64,
          128
         ],
         "xaxis": "x49",
         "y": [
          0.2777156317392936,
          0.4934688038730549
         ],
         "yaxis": "y49"
        },
        {
         "colorbar": {
          "title": {
           "text": "Objective Value"
          }
         },
         "colorscale": [
          [
           0,
           "rgb(220,220,220)"
          ],
          [
           0.30000000000000004,
           "rgb(106,137,247)"
          ],
          [
           0.4,
           "rgb(90,120,245)"
          ],
          [
           0.5,
           "rgb(70,100,245)"
          ],
          [
           0.65,
           "rgb(40,60,190)"
          ],
          [
           1,
           "rgb(5,10,172)"
          ]
         ],
         "connectgaps": true,
         "contours": {
          "coloring": "heatmap"
         },
         "hoverinfo": "none",
         "line": {
          "smoothing": 1.3
         },
         "showscale": false,
         "type": "contour",
         "x": [
          64,
          128
         ],
         "xaxis": "x63",
         "y": [
          0.4319286909453611,
          0.8373025398621657
         ],
         "yaxis": "y63",
         "z": [
          [
           -0.3798076808452606,
           null
          ],
          [
           null,
           -0.625
          ]
         ]
        },
        {
         "marker": {
          "color": "black"
         },
         "mode": "markers",
         "showlegend": false,
         "type": "scatter",
         "x": [
          64,
          128
         ],
         "xaxis": "x63",
         "y": [
          0.4319286909453611,
          0.8373025398621657
         ],
         "yaxis": "y63"
        },
        {
         "showscale": false,
         "type": "contour",
         "xaxis": "x77",
         "yaxis": "y77"
        },
        {
         "type": "scatter",
         "xaxis": "x77",
         "yaxis": "y77"
        },
        {
         "type": "scatter",
         "xaxis": "x91",
         "yaxis": "y91"
        },
        {
         "showscale": false,
         "type": "contour",
         "xaxis": "x105",
         "yaxis": "y105"
        },
        {
         "type": "scatter",
         "xaxis": "x105",
         "yaxis": "y105"
        },
        {
         "colorbar": {
          "title": {
           "text": "Objective Value"
          }
         },
         "colorscale": [
          [
           0,
           "rgb(220,220,220)"
          ],
          [
           0.30000000000000004,
           "rgb(106,137,247)"
          ],
          [
           0.4,
           "rgb(90,120,245)"
          ],
          [
           0.5,
           "rgb(70,100,245)"
          ],
          [
           0.65,
           "rgb(40,60,190)"
          ],
          [
           1,
           "rgb(5,10,172)"
          ]
         ],
         "connectgaps": true,
         "contours": {
          "coloring": "heatmap"
         },
         "hoverinfo": "none",
         "line": {
          "smoothing": 1.3
         },
         "showscale": false,
         "type": "contour",
         "x": [
          64,
          128
         ],
         "xaxis": "x119",
         "y": [
          64,
          128
         ],
         "yaxis": "y119",
         "z": [
          [
           -0.3798076808452606,
           null
          ],
          [
           null,
           -0.625
          ]
         ]
        },
        {
         "marker": {
          "color": "black"
         },
         "mode": "markers",
         "showlegend": false,
         "type": "scatter",
         "x": [
          64,
          128
         ],
         "xaxis": "x119",
         "y": [
          64,
          128
         ],
         "yaxis": "y119"
        },
        {
         "showscale": false,
         "type": "contour",
         "xaxis": "x133",
         "yaxis": "y133"
        },
        {
         "type": "scatter",
         "xaxis": "x133",
         "yaxis": "y133"
        },
        {
         "colorbar": {
          "title": {
           "text": "Objective Value"
          }
         },
         "colorscale": [
          [
           0,
           "rgb(220,220,220)"
          ],
          [
           0.30000000000000004,
           "rgb(106,137,247)"
          ],
          [
           0.4,
           "rgb(90,120,245)"
          ],
          [
           0.5,
           "rgb(70,100,245)"
          ],
          [
           0.65,
           "rgb(40,60,190)"
          ],
          [
           1,
           "rgb(5,10,172)"
          ]
         ],
         "connectgaps": true,
         "contours": {
          "coloring": "heatmap"
         },
         "hoverinfo": "none",
         "line": {
          "smoothing": 1.3
         },
         "showscale": false,
         "type": "contour",
         "x": [
          64,
          128
         ],
         "xaxis": "x147",
         "y": [
          3,
          4
         ],
         "yaxis": "y147",
         "z": [
          [
           -0.3798076808452606,
           null
          ],
          [
           null,
           -0.625
          ]
         ]
        },
        {
         "marker": {
          "color": "black"
         },
         "mode": "markers",
         "showlegend": false,
         "type": "scatter",
         "x": [
          64,
          128
         ],
         "xaxis": "x147",
         "y": [
          3,
          4
         ],
         "yaxis": "y147"
        },
        {
         "colorbar": {
          "title": {
           "text": "Objective Value"
          }
         },
         "colorscale": [
          [
           0,
           "rgb(220,220,220)"
          ],
          [
           0.30000000000000004,
           "rgb(106,137,247)"
          ],
          [
           0.4,
           "rgb(90,120,245)"
          ],
          [
           0.5,
           "rgb(70,100,245)"
          ],
          [
           0.65,
           "rgb(40,60,190)"
          ],
          [
           1,
           "rgb(5,10,172)"
          ]
         ],
         "connectgaps": true,
         "contours": {
          "coloring": "heatmap"
         },
         "hoverinfo": "none",
         "line": {
          "smoothing": 1.3
         },
         "showscale": false,
         "type": "contour",
         "x": [
          64,
          128
         ],
         "xaxis": "x161",
         "y": [
          3,
          4
         ],
         "yaxis": "y161",
         "z": [
          [
           -0.3798076808452606,
           null
          ],
          [
           null,
           -0.625
          ]
         ]
        },
        {
         "marker": {
          "color": "black"
         },
         "mode": "markers",
         "showlegend": false,
         "type": "scatter",
         "x": [
          64,
          128
         ],
         "xaxis": "x161",
         "y": [
          3,
          4
         ],
         "yaxis": "y161"
        },
        {
         "colorbar": {
          "title": {
           "text": "Objective Value"
          }
         },
         "colorscale": [
          [
           0,
           "rgb(220,220,220)"
          ],
          [
           0.30000000000000004,
           "rgb(106,137,247)"
          ],
          [
           0.4,
           "rgb(90,120,245)"
          ],
          [
           0.5,
           "rgb(70,100,245)"
          ],
          [
           0.65,
           "rgb(40,60,190)"
          ],
          [
           1,
           "rgb(5,10,172)"
          ]
         ],
         "connectgaps": true,
         "contours": {
          "coloring": "heatmap"
         },
         "hoverinfo": "none",
         "line": {
          "smoothing": 1.3
         },
         "showscale": false,
         "type": "contour",
         "x": [
          64,
          128
         ],
         "xaxis": "x175",
         "y": [
          2,
          3
         ],
         "yaxis": "y175",
         "z": [
          [
           null,
           -0.625
          ],
          [
           -0.3798076808452606,
           null
          ]
         ]
        },
        {
         "marker": {
          "color": "black"
         },
         "mode": "markers",
         "showlegend": false,
         "type": "scatter",
         "x": [
          64,
          128
         ],
         "xaxis": "x175",
         "y": [
          3,
          2
         ],
         "yaxis": "y175"
        },
        {
         "showscale": false,
         "type": "contour",
         "xaxis": "x189",
         "yaxis": "y189"
        },
        {
         "type": "scatter",
         "xaxis": "x189",
         "yaxis": "y189"
        },
        {
         "showscale": false,
         "type": "contour",
         "xaxis": "x8",
         "yaxis": "y8"
        },
        {
         "type": "scatter",
         "xaxis": "x8",
         "yaxis": "y8"
        },
        {
         "showscale": false,
         "type": "contour",
         "xaxis": "x22",
         "yaxis": "y22"
        },
        {
         "type": "scatter",
         "xaxis": "x22",
         "yaxis": "y22"
        },
        {
         "showscale": false,
         "type": "contour",
         "xaxis": "x36",
         "yaxis": "y36"
        },
        {
         "type": "scatter",
         "xaxis": "x36",
         "yaxis": "y36"
        },
        {
         "showscale": false,
         "type": "contour",
         "xaxis": "x50",
         "yaxis": "y50"
        },
        {
         "type": "scatter",
         "xaxis": "x50",
         "yaxis": "y50"
        },
        {
         "showscale": false,
         "type": "contour",
         "xaxis": "x64",
         "yaxis": "y64"
        },
        {
         "type": "scatter",
         "xaxis": "x64",
         "yaxis": "y64"
        },
        {
         "showscale": false,
         "type": "contour",
         "xaxis": "x78",
         "yaxis": "y78"
        },
        {
         "type": "scatter",
         "xaxis": "x78",
         "yaxis": "y78"
        },
        {
         "showscale": false,
         "type": "contour",
         "xaxis": "x92",
         "yaxis": "y92"
        },
        {
         "type": "scatter",
         "xaxis": "x92",
         "yaxis": "y92"
        },
        {
         "type": "scatter",
         "xaxis": "x106",
         "yaxis": "y106"
        },
        {
         "showscale": false,
         "type": "contour",
         "xaxis": "x120",
         "yaxis": "y120"
        },
        {
         "type": "scatter",
         "xaxis": "x120",
         "yaxis": "y120"
        },
        {
         "showscale": false,
         "type": "contour",
         "xaxis": "x134",
         "yaxis": "y134"
        },
        {
         "type": "scatter",
         "xaxis": "x134",
         "yaxis": "y134"
        },
        {
         "showscale": false,
         "type": "contour",
         "xaxis": "x148",
         "yaxis": "y148"
        },
        {
         "type": "scatter",
         "xaxis": "x148",
         "yaxis": "y148"
        },
        {
         "showscale": false,
         "type": "contour",
         "xaxis": "x162",
         "yaxis": "y162"
        },
        {
         "type": "scatter",
         "xaxis": "x162",
         "yaxis": "y162"
        },
        {
         "showscale": false,
         "type": "contour",
         "xaxis": "x176",
         "yaxis": "y176"
        },
        {
         "type": "scatter",
         "xaxis": "x176",
         "yaxis": "y176"
        },
        {
         "showscale": false,
         "type": "contour",
         "xaxis": "x190",
         "yaxis": "y190"
        },
        {
         "type": "scatter",
         "xaxis": "x190",
         "yaxis": "y190"
        },
        {
         "colorbar": {
          "title": {
           "text": "Objective Value"
          }
         },
         "colorscale": [
          [
           0,
           "rgb(220,220,220)"
          ],
          [
           0.30000000000000004,
           "rgb(106,137,247)"
          ],
          [
           0.4,
           "rgb(90,120,245)"
          ],
          [
           0.5,
           "rgb(70,100,245)"
          ],
          [
           0.65,
           "rgb(40,60,190)"
          ],
          [
           1,
           "rgb(5,10,172)"
          ]
         ],
         "connectgaps": true,
         "contours": {
          "coloring": "heatmap"
         },
         "hoverinfo": "none",
         "line": {
          "smoothing": 1.3
         },
         "showscale": false,
         "type": "contour",
         "x": [
          64,
          128
         ],
         "xaxis": "x9",
         "y": [
          false,
          true
         ],
         "yaxis": "y9",
         "z": [
          [
           null,
           -0.625
          ],
          [
           -0.3798076808452606,
           null
          ]
         ]
        },
        {
         "marker": {
          "color": "black"
         },
         "mode": "markers",
         "showlegend": false,
         "type": "scatter",
         "x": [
          64,
          128
         ],
         "xaxis": "x9",
         "y": [
          true,
          false
         ],
         "yaxis": "y9"
        },
        {
         "showscale": false,
         "type": "contour",
         "xaxis": "x23",
         "yaxis": "y23"
        },
        {
         "type": "scatter",
         "xaxis": "x23",
         "yaxis": "y23"
        },
        {
         "colorbar": {
          "title": {
           "text": "Objective Value"
          }
         },
         "colorscale": [
          [
           0,
           "rgb(220,220,220)"
          ],
          [
           0.30000000000000004,
           "rgb(106,137,247)"
          ],
          [
           0.4,
           "rgb(90,120,245)"
          ],
          [
           0.5,
           "rgb(70,100,245)"
          ],
          [
           0.65,
           "rgb(40,60,190)"
          ],
          [
           1,
           "rgb(5,10,172)"
          ]
         ],
         "connectgaps": true,
         "contours": {
          "coloring": "heatmap"
         },
         "hoverinfo": "none",
         "line": {
          "smoothing": 1.3
         },
         "showscale": false,
         "type": "contour",
         "x": [
          64,
          128
         ],
         "xaxis": "x37",
         "y": [
          0.7573462327074572,
          0.9292811142151904
         ],
         "yaxis": "y37",
         "z": [
          [
           -0.3798076808452606,
           null
          ],
          [
           null,
           -0.625
          ]
         ]
        },
        {
         "marker": {
          "color": "black"
         },
         "mode": "markers",
         "showlegend": false,
         "type": "scatter",
         "x": [
          64,
          128
         ],
         "xaxis": "x37",
         "y": [
          0.7573462327074572,
          0.9292811142151904
         ],
         "yaxis": "y37"
        },
        {
         "colorbar": {
          "title": {
           "text": "Objective Value"
          }
         },
         "colorscale": [
          [
           0,
           "rgb(220,220,220)"
          ],
          [
           0.30000000000000004,
           "rgb(106,137,247)"
          ],
          [
           0.4,
           "rgb(90,120,245)"
          ],
          [
           0.5,
           "rgb(70,100,245)"
          ],
          [
           0.65,
           "rgb(40,60,190)"
          ],
          [
           1,
           "rgb(5,10,172)"
          ]
         ],
         "connectgaps": true,
         "contours": {
          "coloring": "heatmap"
         },
         "hoverinfo": "none",
         "line": {
          "smoothing": 1.3
         },
         "showscale": false,
         "type": "contour",
         "x": [
          64,
          128
         ],
         "xaxis": "x51",
         "y": [
          0.2777156317392936,
          0.4934688038730549
         ],
         "yaxis": "y51",
         "z": [
          [
           -0.3798076808452606,
           null
          ],
          [
           null,
           -0.625
          ]
         ]
        },
        {
         "marker": {
          "color": "black"
         },
         "mode": "markers",
         "showlegend": false,
         "type": "scatter",
         "x": [
          64,
          128
         ],
         "xaxis": "x51",
         "y": [
          0.2777156317392936,
          0.4934688038730549
         ],
         "yaxis": "y51"
        },
        {
         "colorbar": {
          "title": {
           "text": "Objective Value"
          }
         },
         "colorscale": [
          [
           0,
           "rgb(220,220,220)"
          ],
          [
           0.30000000000000004,
           "rgb(106,137,247)"
          ],
          [
           0.4,
           "rgb(90,120,245)"
          ],
          [
           0.5,
           "rgb(70,100,245)"
          ],
          [
           0.65,
           "rgb(40,60,190)"
          ],
          [
           1,
           "rgb(5,10,172)"
          ]
         ],
         "connectgaps": true,
         "contours": {
          "coloring": "heatmap"
         },
         "hoverinfo": "none",
         "line": {
          "smoothing": 1.3
         },
         "showscale": false,
         "type": "contour",
         "x": [
          64,
          128
         ],
         "xaxis": "x65",
         "y": [
          0.4319286909453611,
          0.8373025398621657
         ],
         "yaxis": "y65",
         "z": [
          [
           -0.3798076808452606,
           null
          ],
          [
           null,
           -0.625
          ]
         ]
        },
        {
         "marker": {
          "color": "black"
         },
         "mode": "markers",
         "showlegend": false,
         "type": "scatter",
         "x": [
          64,
          128
         ],
         "xaxis": "x65",
         "y": [
          0.4319286909453611,
          0.8373025398621657
         ],
         "yaxis": "y65"
        },
        {
         "showscale": false,
         "type": "contour",
         "xaxis": "x79",
         "yaxis": "y79"
        },
        {
         "type": "scatter",
         "xaxis": "x79",
         "yaxis": "y79"
        },
        {
         "colorbar": {
          "title": {
           "text": "Objective Value"
          }
         },
         "colorscale": [
          [
           0,
           "rgb(220,220,220)"
          ],
          [
           0.30000000000000004,
           "rgb(106,137,247)"
          ],
          [
           0.4,
           "rgb(90,120,245)"
          ],
          [
           0.5,
           "rgb(70,100,245)"
          ],
          [
           0.65,
           "rgb(40,60,190)"
          ],
          [
           1,
           "rgb(5,10,172)"
          ]
         ],
         "connectgaps": true,
         "contours": {
          "coloring": "heatmap"
         },
         "hoverinfo": "none",
         "line": {
          "smoothing": 1.3
         },
         "showscale": false,
         "type": "contour",
         "x": [
          64,
          128
         ],
         "xaxis": "x93",
         "y": [
          64,
          128
         ],
         "yaxis": "y93",
         "z": [
          [
           -0.3798076808452606,
           null
          ],
          [
           null,
           -0.625
          ]
         ]
        },
        {
         "marker": {
          "color": "black"
         },
         "mode": "markers",
         "showlegend": false,
         "type": "scatter",
         "x": [
          64,
          128
         ],
         "xaxis": "x93",
         "y": [
          64,
          128
         ],
         "yaxis": "y93"
        },
        {
         "showscale": false,
         "type": "contour",
         "xaxis": "x107",
         "yaxis": "y107"
        },
        {
         "type": "scatter",
         "xaxis": "x107",
         "yaxis": "y107"
        },
        {
         "type": "scatter",
         "xaxis": "x121",
         "yaxis": "y121"
        },
        {
         "showscale": false,
         "type": "contour",
         "xaxis": "x135",
         "yaxis": "y135"
        },
        {
         "type": "scatter",
         "xaxis": "x135",
         "yaxis": "y135"
        },
        {
         "colorbar": {
          "title": {
           "text": "Objective Value"
          }
         },
         "colorscale": [
          [
           0,
           "rgb(220,220,220)"
          ],
          [
           0.30000000000000004,
           "rgb(106,137,247)"
          ],
          [
           0.4,
           "rgb(90,120,245)"
          ],
          [
           0.5,
           "rgb(70,100,245)"
          ],
          [
           0.65,
           "rgb(40,60,190)"
          ],
          [
           1,
           "rgb(5,10,172)"
          ]
         ],
         "connectgaps": true,
         "contours": {
          "coloring": "heatmap"
         },
         "hoverinfo": "none",
         "line": {
          "smoothing": 1.3
         },
         "showscale": false,
         "type": "contour",
         "x": [
          64,
          128
         ],
         "xaxis": "x149",
         "y": [
          3,
          4
         ],
         "yaxis": "y149",
         "z": [
          [
           -0.3798076808452606,
           null
          ],
          [
           null,
           -0.625
          ]
         ]
        },
        {
         "marker": {
          "color": "black"
         },
         "mode": "markers",
         "showlegend": false,
         "type": "scatter",
         "x": [
          64,
          128
         ],
         "xaxis": "x149",
         "y": [
          3,
          4
         ],
         "yaxis": "y149"
        },
        {
         "colorbar": {
          "title": {
           "text": "Objective Value"
          }
         },
         "colorscale": [
          [
           0,
           "rgb(220,220,220)"
          ],
          [
           0.30000000000000004,
           "rgb(106,137,247)"
          ],
          [
           0.4,
           "rgb(90,120,245)"
          ],
          [
           0.5,
           "rgb(70,100,245)"
          ],
          [
           0.65,
           "rgb(40,60,190)"
          ],
          [
           1,
           "rgb(5,10,172)"
          ]
         ],
         "connectgaps": true,
         "contours": {
          "coloring": "heatmap"
         },
         "hoverinfo": "none",
         "line": {
          "smoothing": 1.3
         },
         "showscale": false,
         "type": "contour",
         "x": [
          64,
          128
         ],
         "xaxis": "x163",
         "y": [
          3,
          4
         ],
         "yaxis": "y163",
         "z": [
          [
           -0.3798076808452606,
           null
          ],
          [
           null,
           -0.625
          ]
         ]
        },
        {
         "marker": {
          "color": "black"
         },
         "mode": "markers",
         "showlegend": false,
         "type": "scatter",
         "x": [
          64,
          128
         ],
         "xaxis": "x163",
         "y": [
          3,
          4
         ],
         "yaxis": "y163"
        },
        {
         "colorbar": {
          "title": {
           "text": "Objective Value"
          }
         },
         "colorscale": [
          [
           0,
           "rgb(220,220,220)"
          ],
          [
           0.30000000000000004,
           "rgb(106,137,247)"
          ],
          [
           0.4,
           "rgb(90,120,245)"
          ],
          [
           0.5,
           "rgb(70,100,245)"
          ],
          [
           0.65,
           "rgb(40,60,190)"
          ],
          [
           1,
           "rgb(5,10,172)"
          ]
         ],
         "connectgaps": true,
         "contours": {
          "coloring": "heatmap"
         },
         "hoverinfo": "none",
         "line": {
          "smoothing": 1.3
         },
         "showscale": false,
         "type": "contour",
         "x": [
          64,
          128
         ],
         "xaxis": "x177",
         "y": [
          2,
          3
         ],
         "yaxis": "y177",
         "z": [
          [
           null,
           -0.625
          ],
          [
           -0.3798076808452606,
           null
          ]
         ]
        },
        {
         "marker": {
          "color": "black"
         },
         "mode": "markers",
         "showlegend": false,
         "type": "scatter",
         "x": [
          64,
          128
         ],
         "xaxis": "x177",
         "y": [
          3,
          2
         ],
         "yaxis": "y177"
        },
        {
         "showscale": false,
         "type": "contour",
         "xaxis": "x191",
         "yaxis": "y191"
        },
        {
         "type": "scatter",
         "xaxis": "x191",
         "yaxis": "y191"
        },
        {
         "showscale": false,
         "type": "contour",
         "xaxis": "x10",
         "yaxis": "y10"
        },
        {
         "type": "scatter",
         "xaxis": "x10",
         "yaxis": "y10"
        },
        {
         "showscale": false,
         "type": "contour",
         "xaxis": "x24",
         "yaxis": "y24"
        },
        {
         "type": "scatter",
         "xaxis": "x24",
         "yaxis": "y24"
        },
        {
         "showscale": false,
         "type": "contour",
         "xaxis": "x38",
         "yaxis": "y38"
        },
        {
         "type": "scatter",
         "xaxis": "x38",
         "yaxis": "y38"
        },
        {
         "showscale": false,
         "type": "contour",
         "xaxis": "x52",
         "yaxis": "y52"
        },
        {
         "type": "scatter",
         "xaxis": "x52",
         "yaxis": "y52"
        },
        {
         "showscale": false,
         "type": "contour",
         "xaxis": "x66",
         "yaxis": "y66"
        },
        {
         "type": "scatter",
         "xaxis": "x66",
         "yaxis": "y66"
        },
        {
         "showscale": false,
         "type": "contour",
         "xaxis": "x80",
         "yaxis": "y80"
        },
        {
         "type": "scatter",
         "xaxis": "x80",
         "yaxis": "y80"
        },
        {
         "showscale": false,
         "type": "contour",
         "xaxis": "x94",
         "yaxis": "y94"
        },
        {
         "type": "scatter",
         "xaxis": "x94",
         "yaxis": "y94"
        },
        {
         "showscale": false,
         "type": "contour",
         "xaxis": "x108",
         "yaxis": "y108"
        },
        {
         "type": "scatter",
         "xaxis": "x108",
         "yaxis": "y108"
        },
        {
         "showscale": false,
         "type": "contour",
         "xaxis": "x122",
         "yaxis": "y122"
        },
        {
         "type": "scatter",
         "xaxis": "x122",
         "yaxis": "y122"
        },
        {
         "type": "scatter",
         "xaxis": "x136",
         "yaxis": "y136"
        },
        {
         "showscale": false,
         "type": "contour",
         "xaxis": "x150",
         "yaxis": "y150"
        },
        {
         "type": "scatter",
         "xaxis": "x150",
         "yaxis": "y150"
        },
        {
         "showscale": false,
         "type": "contour",
         "xaxis": "x164",
         "yaxis": "y164"
        },
        {
         "type": "scatter",
         "xaxis": "x164",
         "yaxis": "y164"
        },
        {
         "showscale": false,
         "type": "contour",
         "xaxis": "x178",
         "yaxis": "y178"
        },
        {
         "type": "scatter",
         "xaxis": "x178",
         "yaxis": "y178"
        },
        {
         "showscale": false,
         "type": "contour",
         "xaxis": "x192",
         "yaxis": "y192"
        },
        {
         "type": "scatter",
         "xaxis": "x192",
         "yaxis": "y192"
        },
        {
         "colorbar": {
          "title": {
           "text": "Objective Value"
          }
         },
         "colorscale": [
          [
           0,
           "rgb(220,220,220)"
          ],
          [
           0.30000000000000004,
           "rgb(106,137,247)"
          ],
          [
           0.4,
           "rgb(90,120,245)"
          ],
          [
           0.5,
           "rgb(70,100,245)"
          ],
          [
           0.65,
           "rgb(40,60,190)"
          ],
          [
           1,
           "rgb(5,10,172)"
          ]
         ],
         "connectgaps": true,
         "contours": {
          "coloring": "heatmap"
         },
         "hoverinfo": "none",
         "line": {
          "smoothing": 1.3
         },
         "showscale": false,
         "type": "contour",
         "x": [
          3,
          4
         ],
         "xaxis": "x11",
         "y": [
          false,
          true
         ],
         "yaxis": "y11",
         "z": [
          [
           null,
           -0.625
          ],
          [
           -0.3798076808452606,
           null
          ]
         ]
        },
        {
         "marker": {
          "color": "black"
         },
         "mode": "markers",
         "showlegend": false,
         "type": "scatter",
         "x": [
          3,
          4
         ],
         "xaxis": "x11",
         "y": [
          true,
          false
         ],
         "yaxis": "y11"
        },
        {
         "showscale": false,
         "type": "contour",
         "xaxis": "x25",
         "yaxis": "y25"
        },
        {
         "type": "scatter",
         "xaxis": "x25",
         "yaxis": "y25"
        },
        {
         "colorbar": {
          "title": {
           "text": "Objective Value"
          }
         },
         "colorscale": [
          [
           0,
           "rgb(220,220,220)"
          ],
          [
           0.30000000000000004,
           "rgb(106,137,247)"
          ],
          [
           0.4,
           "rgb(90,120,245)"
          ],
          [
           0.5,
           "rgb(70,100,245)"
          ],
          [
           0.65,
           "rgb(40,60,190)"
          ],
          [
           1,
           "rgb(5,10,172)"
          ]
         ],
         "connectgaps": true,
         "contours": {
          "coloring": "heatmap"
         },
         "hoverinfo": "none",
         "line": {
          "smoothing": 1.3
         },
         "showscale": false,
         "type": "contour",
         "x": [
          3,
          4
         ],
         "xaxis": "x39",
         "y": [
          0.7573462327074572,
          0.9292811142151904
         ],
         "yaxis": "y39",
         "z": [
          [
           -0.3798076808452606,
           null
          ],
          [
           null,
           -0.625
          ]
         ]
        },
        {
         "marker": {
          "color": "black"
         },
         "mode": "markers",
         "showlegend": false,
         "type": "scatter",
         "x": [
          3,
          4
         ],
         "xaxis": "x39",
         "y": [
          0.7573462327074572,
          0.9292811142151904
         ],
         "yaxis": "y39"
        },
        {
         "colorbar": {
          "title": {
           "text": "Objective Value"
          }
         },
         "colorscale": [
          [
           0,
           "rgb(220,220,220)"
          ],
          [
           0.30000000000000004,
           "rgb(106,137,247)"
          ],
          [
           0.4,
           "rgb(90,120,245)"
          ],
          [
           0.5,
           "rgb(70,100,245)"
          ],
          [
           0.65,
           "rgb(40,60,190)"
          ],
          [
           1,
           "rgb(5,10,172)"
          ]
         ],
         "connectgaps": true,
         "contours": {
          "coloring": "heatmap"
         },
         "hoverinfo": "none",
         "line": {
          "smoothing": 1.3
         },
         "showscale": false,
         "type": "contour",
         "x": [
          3,
          4
         ],
         "xaxis": "x53",
         "y": [
          0.2777156317392936,
          0.4934688038730549
         ],
         "yaxis": "y53",
         "z": [
          [
           -0.3798076808452606,
           null
          ],
          [
           null,
           -0.625
          ]
         ]
        },
        {
         "marker": {
          "color": "black"
         },
         "mode": "markers",
         "showlegend": false,
         "type": "scatter",
         "x": [
          3,
          4
         ],
         "xaxis": "x53",
         "y": [
          0.2777156317392936,
          0.4934688038730549
         ],
         "yaxis": "y53"
        },
        {
         "colorbar": {
          "title": {
           "text": "Objective Value"
          }
         },
         "colorscale": [
          [
           0,
           "rgb(220,220,220)"
          ],
          [
           0.30000000000000004,
           "rgb(106,137,247)"
          ],
          [
           0.4,
           "rgb(90,120,245)"
          ],
          [
           0.5,
           "rgb(70,100,245)"
          ],
          [
           0.65,
           "rgb(40,60,190)"
          ],
          [
           1,
           "rgb(5,10,172)"
          ]
         ],
         "connectgaps": true,
         "contours": {
          "coloring": "heatmap"
         },
         "hoverinfo": "none",
         "line": {
          "smoothing": 1.3
         },
         "showscale": false,
         "type": "contour",
         "x": [
          3,
          4
         ],
         "xaxis": "x67",
         "y": [
          0.4319286909453611,
          0.8373025398621657
         ],
         "yaxis": "y67",
         "z": [
          [
           -0.3798076808452606,
           null
          ],
          [
           null,
           -0.625
          ]
         ]
        },
        {
         "marker": {
          "color": "black"
         },
         "mode": "markers",
         "showlegend": false,
         "type": "scatter",
         "x": [
          3,
          4
         ],
         "xaxis": "x67",
         "y": [
          0.4319286909453611,
          0.8373025398621657
         ],
         "yaxis": "y67"
        },
        {
         "showscale": false,
         "type": "contour",
         "xaxis": "x81",
         "yaxis": "y81"
        },
        {
         "type": "scatter",
         "xaxis": "x81",
         "yaxis": "y81"
        },
        {
         "colorbar": {
          "title": {
           "text": "Objective Value"
          }
         },
         "colorscale": [
          [
           0,
           "rgb(220,220,220)"
          ],
          [
           0.30000000000000004,
           "rgb(106,137,247)"
          ],
          [
           0.4,
           "rgb(90,120,245)"
          ],
          [
           0.5,
           "rgb(70,100,245)"
          ],
          [
           0.65,
           "rgb(40,60,190)"
          ],
          [
           1,
           "rgb(5,10,172)"
          ]
         ],
         "connectgaps": true,
         "contours": {
          "coloring": "heatmap"
         },
         "hoverinfo": "none",
         "line": {
          "smoothing": 1.3
         },
         "showscale": false,
         "type": "contour",
         "x": [
          3,
          4
         ],
         "xaxis": "x95",
         "y": [
          64,
          128
         ],
         "yaxis": "y95",
         "z": [
          [
           -0.3798076808452606,
           null
          ],
          [
           null,
           -0.625
          ]
         ]
        },
        {
         "marker": {
          "color": "black"
         },
         "mode": "markers",
         "showlegend": false,
         "type": "scatter",
         "x": [
          3,
          4
         ],
         "xaxis": "x95",
         "y": [
          64,
          128
         ],
         "yaxis": "y95"
        },
        {
         "showscale": false,
         "type": "contour",
         "xaxis": "x109",
         "yaxis": "y109"
        },
        {
         "type": "scatter",
         "xaxis": "x109",
         "yaxis": "y109"
        },
        {
         "colorbar": {
          "title": {
           "text": "Objective Value"
          }
         },
         "colorscale": [
          [
           0,
           "rgb(220,220,220)"
          ],
          [
           0.30000000000000004,
           "rgb(106,137,247)"
          ],
          [
           0.4,
           "rgb(90,120,245)"
          ],
          [
           0.5,
           "rgb(70,100,245)"
          ],
          [
           0.65,
           "rgb(40,60,190)"
          ],
          [
           1,
           "rgb(5,10,172)"
          ]
         ],
         "connectgaps": true,
         "contours": {
          "coloring": "heatmap"
         },
         "hoverinfo": "none",
         "line": {
          "smoothing": 1.3
         },
         "showscale": false,
         "type": "contour",
         "x": [
          3,
          4
         ],
         "xaxis": "x123",
         "y": [
          64,
          128
         ],
         "yaxis": "y123",
         "z": [
          [
           -0.3798076808452606,
           null
          ],
          [
           null,
           -0.625
          ]
         ]
        },
        {
         "marker": {
          "color": "black"
         },
         "mode": "markers",
         "showlegend": false,
         "type": "scatter",
         "x": [
          3,
          4
         ],
         "xaxis": "x123",
         "y": [
          64,
          128
         ],
         "yaxis": "y123"
        },
        {
         "showscale": false,
         "type": "contour",
         "xaxis": "x137",
         "yaxis": "y137"
        },
        {
         "type": "scatter",
         "xaxis": "x137",
         "yaxis": "y137"
        },
        {
         "type": "scatter",
         "xaxis": "x151",
         "yaxis": "y151"
        },
        {
         "colorbar": {
          "title": {
           "text": "Objective Value"
          }
         },
         "colorscale": [
          [
           0,
           "rgb(220,220,220)"
          ],
          [
           0.30000000000000004,
           "rgb(106,137,247)"
          ],
          [
           0.4,
           "rgb(90,120,245)"
          ],
          [
           0.5,
           "rgb(70,100,245)"
          ],
          [
           0.65,
           "rgb(40,60,190)"
          ],
          [
           1,
           "rgb(5,10,172)"
          ]
         ],
         "connectgaps": true,
         "contours": {
          "coloring": "heatmap"
         },
         "hoverinfo": "none",
         "line": {
          "smoothing": 1.3
         },
         "showscale": false,
         "type": "contour",
         "x": [
          3,
          4
         ],
         "xaxis": "x165",
         "y": [
          3,
          4
         ],
         "yaxis": "y165",
         "z": [
          [
           -0.3798076808452606,
           null
          ],
          [
           null,
           -0.625
          ]
         ]
        },
        {
         "marker": {
          "color": "black"
         },
         "mode": "markers",
         "showlegend": false,
         "type": "scatter",
         "x": [
          3,
          4
         ],
         "xaxis": "x165",
         "y": [
          3,
          4
         ],
         "yaxis": "y165"
        },
        {
         "colorbar": {
          "title": {
           "text": "Objective Value"
          }
         },
         "colorscale": [
          [
           0,
           "rgb(220,220,220)"
          ],
          [
           0.30000000000000004,
           "rgb(106,137,247)"
          ],
          [
           0.4,
           "rgb(90,120,245)"
          ],
          [
           0.5,
           "rgb(70,100,245)"
          ],
          [
           0.65,
           "rgb(40,60,190)"
          ],
          [
           1,
           "rgb(5,10,172)"
          ]
         ],
         "connectgaps": true,
         "contours": {
          "coloring": "heatmap"
         },
         "hoverinfo": "none",
         "line": {
          "smoothing": 1.3
         },
         "showscale": false,
         "type": "contour",
         "x": [
          3,
          4
         ],
         "xaxis": "x179",
         "y": [
          2,
          3
         ],
         "yaxis": "y179",
         "z": [
          [
           null,
           -0.625
          ],
          [
           -0.3798076808452606,
           null
          ]
         ]
        },
        {
         "marker": {
          "color": "black"
         },
         "mode": "markers",
         "showlegend": false,
         "type": "scatter",
         "x": [
          3,
          4
         ],
         "xaxis": "x179",
         "y": [
          3,
          2
         ],
         "yaxis": "y179"
        },
        {
         "showscale": false,
         "type": "contour",
         "xaxis": "x193",
         "yaxis": "y193"
        },
        {
         "type": "scatter",
         "xaxis": "x193",
         "yaxis": "y193"
        },
        {
         "colorbar": {
          "title": {
           "text": "Objective Value"
          }
         },
         "colorscale": [
          [
           0,
           "rgb(220,220,220)"
          ],
          [
           0.30000000000000004,
           "rgb(106,137,247)"
          ],
          [
           0.4,
           "rgb(90,120,245)"
          ],
          [
           0.5,
           "rgb(70,100,245)"
          ],
          [
           0.65,
           "rgb(40,60,190)"
          ],
          [
           1,
           "rgb(5,10,172)"
          ]
         ],
         "connectgaps": true,
         "contours": {
          "coloring": "heatmap"
         },
         "hoverinfo": "none",
         "line": {
          "smoothing": 1.3
         },
         "showscale": false,
         "type": "contour",
         "x": [
          3,
          4
         ],
         "xaxis": "x12",
         "y": [
          false,
          true
         ],
         "yaxis": "y12",
         "z": [
          [
           null,
           -0.625
          ],
          [
           -0.3798076808452606,
           null
          ]
         ]
        },
        {
         "marker": {
          "color": "black"
         },
         "mode": "markers",
         "showlegend": false,
         "type": "scatter",
         "x": [
          3,
          4
         ],
         "xaxis": "x12",
         "y": [
          true,
          false
         ],
         "yaxis": "y12"
        },
        {
         "showscale": false,
         "type": "contour",
         "xaxis": "x26",
         "yaxis": "y26"
        },
        {
         "type": "scatter",
         "xaxis": "x26",
         "yaxis": "y26"
        },
        {
         "colorbar": {
          "title": {
           "text": "Objective Value"
          }
         },
         "colorscale": [
          [
           0,
           "rgb(220,220,220)"
          ],
          [
           0.30000000000000004,
           "rgb(106,137,247)"
          ],
          [
           0.4,
           "rgb(90,120,245)"
          ],
          [
           0.5,
           "rgb(70,100,245)"
          ],
          [
           0.65,
           "rgb(40,60,190)"
          ],
          [
           1,
           "rgb(5,10,172)"
          ]
         ],
         "connectgaps": true,
         "contours": {
          "coloring": "heatmap"
         },
         "hoverinfo": "none",
         "line": {
          "smoothing": 1.3
         },
         "showscale": false,
         "type": "contour",
         "x": [
          3,
          4
         ],
         "xaxis": "x40",
         "y": [
          0.7573462327074572,
          0.9292811142151904
         ],
         "yaxis": "y40",
         "z": [
          [
           -0.3798076808452606,
           null
          ],
          [
           null,
           -0.625
          ]
         ]
        },
        {
         "marker": {
          "color": "black"
         },
         "mode": "markers",
         "showlegend": false,
         "type": "scatter",
         "x": [
          3,
          4
         ],
         "xaxis": "x40",
         "y": [
          0.7573462327074572,
          0.9292811142151904
         ],
         "yaxis": "y40"
        },
        {
         "colorbar": {
          "title": {
           "text": "Objective Value"
          }
         },
         "colorscale": [
          [
           0,
           "rgb(220,220,220)"
          ],
          [
           0.30000000000000004,
           "rgb(106,137,247)"
          ],
          [
           0.4,
           "rgb(90,120,245)"
          ],
          [
           0.5,
           "rgb(70,100,245)"
          ],
          [
           0.65,
           "rgb(40,60,190)"
          ],
          [
           1,
           "rgb(5,10,172)"
          ]
         ],
         "connectgaps": true,
         "contours": {
          "coloring": "heatmap"
         },
         "hoverinfo": "none",
         "line": {
          "smoothing": 1.3
         },
         "showscale": false,
         "type": "contour",
         "x": [
          3,
          4
         ],
         "xaxis": "x54",
         "y": [
          0.2777156317392936,
          0.4934688038730549
         ],
         "yaxis": "y54",
         "z": [
          [
           -0.3798076808452606,
           null
          ],
          [
           null,
           -0.625
          ]
         ]
        },
        {
         "marker": {
          "color": "black"
         },
         "mode": "markers",
         "showlegend": false,
         "type": "scatter",
         "x": [
          3,
          4
         ],
         "xaxis": "x54",
         "y": [
          0.2777156317392936,
          0.4934688038730549
         ],
         "yaxis": "y54"
        },
        {
         "colorbar": {
          "title": {
           "text": "Objective Value"
          }
         },
         "colorscale": [
          [
           0,
           "rgb(220,220,220)"
          ],
          [
           0.30000000000000004,
           "rgb(106,137,247)"
          ],
          [
           0.4,
           "rgb(90,120,245)"
          ],
          [
           0.5,
           "rgb(70,100,245)"
          ],
          [
           0.65,
           "rgb(40,60,190)"
          ],
          [
           1,
           "rgb(5,10,172)"
          ]
         ],
         "connectgaps": true,
         "contours": {
          "coloring": "heatmap"
         },
         "hoverinfo": "none",
         "line": {
          "smoothing": 1.3
         },
         "showscale": false,
         "type": "contour",
         "x": [
          3,
          4
         ],
         "xaxis": "x68",
         "y": [
          0.4319286909453611,
          0.8373025398621657
         ],
         "yaxis": "y68",
         "z": [
          [
           -0.3798076808452606,
           null
          ],
          [
           null,
           -0.625
          ]
         ]
        },
        {
         "marker": {
          "color": "black"
         },
         "mode": "markers",
         "showlegend": false,
         "type": "scatter",
         "x": [
          3,
          4
         ],
         "xaxis": "x68",
         "y": [
          0.4319286909453611,
          0.8373025398621657
         ],
         "yaxis": "y68"
        },
        {
         "showscale": false,
         "type": "contour",
         "xaxis": "x82",
         "yaxis": "y82"
        },
        {
         "type": "scatter",
         "xaxis": "x82",
         "yaxis": "y82"
        },
        {
         "colorbar": {
          "title": {
           "text": "Objective Value"
          }
         },
         "colorscale": [
          [
           0,
           "rgb(220,220,220)"
          ],
          [
           0.30000000000000004,
           "rgb(106,137,247)"
          ],
          [
           0.4,
           "rgb(90,120,245)"
          ],
          [
           0.5,
           "rgb(70,100,245)"
          ],
          [
           0.65,
           "rgb(40,60,190)"
          ],
          [
           1,
           "rgb(5,10,172)"
          ]
         ],
         "connectgaps": true,
         "contours": {
          "coloring": "heatmap"
         },
         "hoverinfo": "none",
         "line": {
          "smoothing": 1.3
         },
         "showscale": false,
         "type": "contour",
         "x": [
          3,
          4
         ],
         "xaxis": "x96",
         "y": [
          64,
          128
         ],
         "yaxis": "y96",
         "z": [
          [
           -0.3798076808452606,
           null
          ],
          [
           null,
           -0.625
          ]
         ]
        },
        {
         "marker": {
          "color": "black"
         },
         "mode": "markers",
         "showlegend": false,
         "type": "scatter",
         "x": [
          3,
          4
         ],
         "xaxis": "x96",
         "y": [
          64,
          128
         ],
         "yaxis": "y96"
        },
        {
         "showscale": false,
         "type": "contour",
         "xaxis": "x110",
         "yaxis": "y110"
        },
        {
         "type": "scatter",
         "xaxis": "x110",
         "yaxis": "y110"
        },
        {
         "colorbar": {
          "title": {
           "text": "Objective Value"
          }
         },
         "colorscale": [
          [
           0,
           "rgb(220,220,220)"
          ],
          [
           0.30000000000000004,
           "rgb(106,137,247)"
          ],
          [
           0.4,
           "rgb(90,120,245)"
          ],
          [
           0.5,
           "rgb(70,100,245)"
          ],
          [
           0.65,
           "rgb(40,60,190)"
          ],
          [
           1,
           "rgb(5,10,172)"
          ]
         ],
         "connectgaps": true,
         "contours": {
          "coloring": "heatmap"
         },
         "hoverinfo": "none",
         "line": {
          "smoothing": 1.3
         },
         "showscale": false,
         "type": "contour",
         "x": [
          3,
          4
         ],
         "xaxis": "x124",
         "y": [
          64,
          128
         ],
         "yaxis": "y124",
         "z": [
          [
           -0.3798076808452606,
           null
          ],
          [
           null,
           -0.625
          ]
         ]
        },
        {
         "marker": {
          "color": "black"
         },
         "mode": "markers",
         "showlegend": false,
         "type": "scatter",
         "x": [
          3,
          4
         ],
         "xaxis": "x124",
         "y": [
          64,
          128
         ],
         "yaxis": "y124"
        },
        {
         "showscale": false,
         "type": "contour",
         "xaxis": "x138",
         "yaxis": "y138"
        },
        {
         "type": "scatter",
         "xaxis": "x138",
         "yaxis": "y138"
        },
        {
         "colorbar": {
          "title": {
           "text": "Objective Value"
          }
         },
         "colorscale": [
          [
           0,
           "rgb(220,220,220)"
          ],
          [
           0.30000000000000004,
           "rgb(106,137,247)"
          ],
          [
           0.4,
           "rgb(90,120,245)"
          ],
          [
           0.5,
           "rgb(70,100,245)"
          ],
          [
           0.65,
           "rgb(40,60,190)"
          ],
          [
           1,
           "rgb(5,10,172)"
          ]
         ],
         "connectgaps": true,
         "contours": {
          "coloring": "heatmap"
         },
         "hoverinfo": "none",
         "line": {
          "smoothing": 1.3
         },
         "showscale": false,
         "type": "contour",
         "x": [
          3,
          4
         ],
         "xaxis": "x152",
         "y": [
          3,
          4
         ],
         "yaxis": "y152",
         "z": [
          [
           -0.3798076808452606,
           null
          ],
          [
           null,
           -0.625
          ]
         ]
        },
        {
         "marker": {
          "color": "black"
         },
         "mode": "markers",
         "showlegend": false,
         "type": "scatter",
         "x": [
          3,
          4
         ],
         "xaxis": "x152",
         "y": [
          3,
          4
         ],
         "yaxis": "y152"
        },
        {
         "type": "scatter",
         "xaxis": "x166",
         "yaxis": "y166"
        },
        {
         "colorbar": {
          "title": {
           "text": "Objective Value"
          }
         },
         "colorscale": [
          [
           0,
           "rgb(220,220,220)"
          ],
          [
           0.30000000000000004,
           "rgb(106,137,247)"
          ],
          [
           0.4,
           "rgb(90,120,245)"
          ],
          [
           0.5,
           "rgb(70,100,245)"
          ],
          [
           0.65,
           "rgb(40,60,190)"
          ],
          [
           1,
           "rgb(5,10,172)"
          ]
         ],
         "connectgaps": true,
         "contours": {
          "coloring": "heatmap"
         },
         "hoverinfo": "none",
         "line": {
          "smoothing": 1.3
         },
         "showscale": false,
         "type": "contour",
         "x": [
          3,
          4
         ],
         "xaxis": "x180",
         "y": [
          2,
          3
         ],
         "yaxis": "y180",
         "z": [
          [
           null,
           -0.625
          ],
          [
           -0.3798076808452606,
           null
          ]
         ]
        },
        {
         "marker": {
          "color": "black"
         },
         "mode": "markers",
         "showlegend": false,
         "type": "scatter",
         "x": [
          3,
          4
         ],
         "xaxis": "x180",
         "y": [
          3,
          2
         ],
         "yaxis": "y180"
        },
        {
         "showscale": false,
         "type": "contour",
         "xaxis": "x194",
         "yaxis": "y194"
        },
        {
         "type": "scatter",
         "xaxis": "x194",
         "yaxis": "y194"
        },
        {
         "colorbar": {
          "title": {
           "text": "Objective Value"
          }
         },
         "colorscale": [
          [
           0,
           "rgb(220,220,220)"
          ],
          [
           0.30000000000000004,
           "rgb(106,137,247)"
          ],
          [
           0.4,
           "rgb(90,120,245)"
          ],
          [
           0.5,
           "rgb(70,100,245)"
          ],
          [
           0.65,
           "rgb(40,60,190)"
          ],
          [
           1,
           "rgb(5,10,172)"
          ]
         ],
         "connectgaps": true,
         "contours": {
          "coloring": "heatmap"
         },
         "hoverinfo": "none",
         "line": {
          "smoothing": 1.3
         },
         "showscale": false,
         "type": "contour",
         "x": [
          2,
          3
         ],
         "xaxis": "x13",
         "y": [
          false,
          true
         ],
         "yaxis": "y13",
         "z": [
          [
           -0.625,
           null
          ],
          [
           null,
           -0.3798076808452606
          ]
         ]
        },
        {
         "marker": {
          "color": "black"
         },
         "mode": "markers",
         "showlegend": false,
         "type": "scatter",
         "x": [
          3,
          2
         ],
         "xaxis": "x13",
         "y": [
          true,
          false
         ],
         "yaxis": "y13"
        },
        {
         "showscale": false,
         "type": "contour",
         "xaxis": "x27",
         "yaxis": "y27"
        },
        {
         "type": "scatter",
         "xaxis": "x27",
         "yaxis": "y27"
        },
        {
         "colorbar": {
          "title": {
           "text": "Objective Value"
          }
         },
         "colorscale": [
          [
           0,
           "rgb(220,220,220)"
          ],
          [
           0.30000000000000004,
           "rgb(106,137,247)"
          ],
          [
           0.4,
           "rgb(90,120,245)"
          ],
          [
           0.5,
           "rgb(70,100,245)"
          ],
          [
           0.65,
           "rgb(40,60,190)"
          ],
          [
           1,
           "rgb(5,10,172)"
          ]
         ],
         "connectgaps": true,
         "contours": {
          "coloring": "heatmap"
         },
         "hoverinfo": "none",
         "line": {
          "smoothing": 1.3
         },
         "showscale": false,
         "type": "contour",
         "x": [
          2,
          3
         ],
         "xaxis": "x41",
         "y": [
          0.7573462327074572,
          0.9292811142151904
         ],
         "yaxis": "y41",
         "z": [
          [
           null,
           -0.3798076808452606
          ],
          [
           -0.625,
           null
          ]
         ]
        },
        {
         "marker": {
          "color": "black"
         },
         "mode": "markers",
         "showlegend": false,
         "type": "scatter",
         "x": [
          3,
          2
         ],
         "xaxis": "x41",
         "y": [
          0.7573462327074572,
          0.9292811142151904
         ],
         "yaxis": "y41"
        },
        {
         "colorbar": {
          "title": {
           "text": "Objective Value"
          }
         },
         "colorscale": [
          [
           0,
           "rgb(220,220,220)"
          ],
          [
           0.30000000000000004,
           "rgb(106,137,247)"
          ],
          [
           0.4,
           "rgb(90,120,245)"
          ],
          [
           0.5,
           "rgb(70,100,245)"
          ],
          [
           0.65,
           "rgb(40,60,190)"
          ],
          [
           1,
           "rgb(5,10,172)"
          ]
         ],
         "connectgaps": true,
         "contours": {
          "coloring": "heatmap"
         },
         "hoverinfo": "none",
         "line": {
          "smoothing": 1.3
         },
         "showscale": false,
         "type": "contour",
         "x": [
          2,
          3
         ],
         "xaxis": "x55",
         "y": [
          0.2777156317392936,
          0.4934688038730549
         ],
         "yaxis": "y55",
         "z": [
          [
           null,
           -0.3798076808452606
          ],
          [
           -0.625,
           null
          ]
         ]
        },
        {
         "marker": {
          "color": "black"
         },
         "mode": "markers",
         "showlegend": false,
         "type": "scatter",
         "x": [
          3,
          2
         ],
         "xaxis": "x55",
         "y": [
          0.2777156317392936,
          0.4934688038730549
         ],
         "yaxis": "y55"
        },
        {
         "colorbar": {
          "title": {
           "text": "Objective Value"
          }
         },
         "colorscale": [
          [
           0,
           "rgb(220,220,220)"
          ],
          [
           0.30000000000000004,
           "rgb(106,137,247)"
          ],
          [
           0.4,
           "rgb(90,120,245)"
          ],
          [
           0.5,
           "rgb(70,100,245)"
          ],
          [
           0.65,
           "rgb(40,60,190)"
          ],
          [
           1,
           "rgb(5,10,172)"
          ]
         ],
         "connectgaps": true,
         "contours": {
          "coloring": "heatmap"
         },
         "hoverinfo": "none",
         "line": {
          "smoothing": 1.3
         },
         "showscale": false,
         "type": "contour",
         "x": [
          2,
          3
         ],
         "xaxis": "x69",
         "y": [
          0.4319286909453611,
          0.8373025398621657
         ],
         "yaxis": "y69",
         "z": [
          [
           null,
           -0.3798076808452606
          ],
          [
           -0.625,
           null
          ]
         ]
        },
        {
         "marker": {
          "color": "black"
         },
         "mode": "markers",
         "showlegend": false,
         "type": "scatter",
         "x": [
          3,
          2
         ],
         "xaxis": "x69",
         "y": [
          0.4319286909453611,
          0.8373025398621657
         ],
         "yaxis": "y69"
        },
        {
         "showscale": false,
         "type": "contour",
         "xaxis": "x83",
         "yaxis": "y83"
        },
        {
         "type": "scatter",
         "xaxis": "x83",
         "yaxis": "y83"
        },
        {
         "colorbar": {
          "title": {
           "text": "Objective Value"
          }
         },
         "colorscale": [
          [
           0,
           "rgb(220,220,220)"
          ],
          [
           0.30000000000000004,
           "rgb(106,137,247)"
          ],
          [
           0.4,
           "rgb(90,120,245)"
          ],
          [
           0.5,
           "rgb(70,100,245)"
          ],
          [
           0.65,
           "rgb(40,60,190)"
          ],
          [
           1,
           "rgb(5,10,172)"
          ]
         ],
         "connectgaps": true,
         "contours": {
          "coloring": "heatmap"
         },
         "hoverinfo": "none",
         "line": {
          "smoothing": 1.3
         },
         "showscale": false,
         "type": "contour",
         "x": [
          2,
          3
         ],
         "xaxis": "x97",
         "y": [
          64,
          128
         ],
         "yaxis": "y97",
         "z": [
          [
           null,
           -0.3798076808452606
          ],
          [
           -0.625,
           null
          ]
         ]
        },
        {
         "marker": {
          "color": "black"
         },
         "mode": "markers",
         "showlegend": false,
         "type": "scatter",
         "x": [
          3,
          2
         ],
         "xaxis": "x97",
         "y": [
          64,
          128
         ],
         "yaxis": "y97"
        },
        {
         "showscale": false,
         "type": "contour",
         "xaxis": "x111",
         "yaxis": "y111"
        },
        {
         "type": "scatter",
         "xaxis": "x111",
         "yaxis": "y111"
        },
        {
         "colorbar": {
          "title": {
           "text": "Objective Value"
          }
         },
         "colorscale": [
          [
           0,
           "rgb(220,220,220)"
          ],
          [
           0.30000000000000004,
           "rgb(106,137,247)"
          ],
          [
           0.4,
           "rgb(90,120,245)"
          ],
          [
           0.5,
           "rgb(70,100,245)"
          ],
          [
           0.65,
           "rgb(40,60,190)"
          ],
          [
           1,
           "rgb(5,10,172)"
          ]
         ],
         "connectgaps": true,
         "contours": {
          "coloring": "heatmap"
         },
         "hoverinfo": "none",
         "line": {
          "smoothing": 1.3
         },
         "showscale": false,
         "type": "contour",
         "x": [
          2,
          3
         ],
         "xaxis": "x125",
         "y": [
          64,
          128
         ],
         "yaxis": "y125",
         "z": [
          [
           null,
           -0.3798076808452606
          ],
          [
           -0.625,
           null
          ]
         ]
        },
        {
         "marker": {
          "color": "black"
         },
         "mode": "markers",
         "showlegend": false,
         "type": "scatter",
         "x": [
          3,
          2
         ],
         "xaxis": "x125",
         "y": [
          64,
          128
         ],
         "yaxis": "y125"
        },
        {
         "showscale": false,
         "type": "contour",
         "xaxis": "x139",
         "yaxis": "y139"
        },
        {
         "type": "scatter",
         "xaxis": "x139",
         "yaxis": "y139"
        },
        {
         "colorbar": {
          "title": {
           "text": "Objective Value"
          }
         },
         "colorscale": [
          [
           0,
           "rgb(220,220,220)"
          ],
          [
           0.30000000000000004,
           "rgb(106,137,247)"
          ],
          [
           0.4,
           "rgb(90,120,245)"
          ],
          [
           0.5,
           "rgb(70,100,245)"
          ],
          [
           0.65,
           "rgb(40,60,190)"
          ],
          [
           1,
           "rgb(5,10,172)"
          ]
         ],
         "connectgaps": true,
         "contours": {
          "coloring": "heatmap"
         },
         "hoverinfo": "none",
         "line": {
          "smoothing": 1.3
         },
         "showscale": false,
         "type": "contour",
         "x": [
          2,
          3
         ],
         "xaxis": "x153",
         "y": [
          3,
          4
         ],
         "yaxis": "y153",
         "z": [
          [
           null,
           -0.3798076808452606
          ],
          [
           -0.625,
           null
          ]
         ]
        },
        {
         "marker": {
          "color": "black"
         },
         "mode": "markers",
         "showlegend": false,
         "type": "scatter",
         "x": [
          3,
          2
         ],
         "xaxis": "x153",
         "y": [
          3,
          4
         ],
         "yaxis": "y153"
        },
        {
         "colorbar": {
          "title": {
           "text": "Objective Value"
          }
         },
         "colorscale": [
          [
           0,
           "rgb(220,220,220)"
          ],
          [
           0.30000000000000004,
           "rgb(106,137,247)"
          ],
          [
           0.4,
           "rgb(90,120,245)"
          ],
          [
           0.5,
           "rgb(70,100,245)"
          ],
          [
           0.65,
           "rgb(40,60,190)"
          ],
          [
           1,
           "rgb(5,10,172)"
          ]
         ],
         "connectgaps": true,
         "contours": {
          "coloring": "heatmap"
         },
         "hoverinfo": "none",
         "line": {
          "smoothing": 1.3
         },
         "showscale": false,
         "type": "contour",
         "x": [
          2,
          3
         ],
         "xaxis": "x167",
         "y": [
          3,
          4
         ],
         "yaxis": "y167",
         "z": [
          [
           null,
           -0.3798076808452606
          ],
          [
           -0.625,
           null
          ]
         ]
        },
        {
         "marker": {
          "color": "black"
         },
         "mode": "markers",
         "showlegend": false,
         "type": "scatter",
         "x": [
          3,
          2
         ],
         "xaxis": "x167",
         "y": [
          3,
          4
         ],
         "yaxis": "y167"
        },
        {
         "type": "scatter",
         "xaxis": "x181",
         "yaxis": "y181"
        },
        {
         "showscale": false,
         "type": "contour",
         "xaxis": "x195",
         "yaxis": "y195"
        },
        {
         "type": "scatter",
         "xaxis": "x195",
         "yaxis": "y195"
        },
        {
         "showscale": false,
         "type": "contour",
         "xaxis": "x14",
         "yaxis": "y14"
        },
        {
         "type": "scatter",
         "xaxis": "x14",
         "yaxis": "y14"
        },
        {
         "showscale": false,
         "type": "contour",
         "xaxis": "x28",
         "yaxis": "y28"
        },
        {
         "type": "scatter",
         "xaxis": "x28",
         "yaxis": "y28"
        },
        {
         "showscale": false,
         "type": "contour",
         "xaxis": "x42",
         "yaxis": "y42"
        },
        {
         "type": "scatter",
         "xaxis": "x42",
         "yaxis": "y42"
        },
        {
         "showscale": false,
         "type": "contour",
         "xaxis": "x56",
         "yaxis": "y56"
        },
        {
         "type": "scatter",
         "xaxis": "x56",
         "yaxis": "y56"
        },
        {
         "showscale": false,
         "type": "contour",
         "xaxis": "x70",
         "yaxis": "y70"
        },
        {
         "type": "scatter",
         "xaxis": "x70",
         "yaxis": "y70"
        },
        {
         "showscale": false,
         "type": "contour",
         "xaxis": "x84",
         "yaxis": "y84"
        },
        {
         "type": "scatter",
         "xaxis": "x84",
         "yaxis": "y84"
        },
        {
         "showscale": false,
         "type": "contour",
         "xaxis": "x98",
         "yaxis": "y98"
        },
        {
         "type": "scatter",
         "xaxis": "x98",
         "yaxis": "y98"
        },
        {
         "showscale": false,
         "type": "contour",
         "xaxis": "x112",
         "yaxis": "y112"
        },
        {
         "type": "scatter",
         "xaxis": "x112",
         "yaxis": "y112"
        },
        {
         "showscale": false,
         "type": "contour",
         "xaxis": "x126",
         "yaxis": "y126"
        },
        {
         "type": "scatter",
         "xaxis": "x126",
         "yaxis": "y126"
        },
        {
         "showscale": false,
         "type": "contour",
         "xaxis": "x140",
         "yaxis": "y140"
        },
        {
         "type": "scatter",
         "xaxis": "x140",
         "yaxis": "y140"
        },
        {
         "showscale": false,
         "type": "contour",
         "xaxis": "x154",
         "yaxis": "y154"
        },
        {
         "type": "scatter",
         "xaxis": "x154",
         "yaxis": "y154"
        },
        {
         "showscale": false,
         "type": "contour",
         "xaxis": "x168",
         "yaxis": "y168"
        },
        {
         "type": "scatter",
         "xaxis": "x168",
         "yaxis": "y168"
        },
        {
         "showscale": false,
         "type": "contour",
         "xaxis": "x182",
         "yaxis": "y182"
        },
        {
         "type": "scatter",
         "xaxis": "x182",
         "yaxis": "y182"
        },
        {
         "type": "scatter",
         "xaxis": "x196",
         "yaxis": "y196"
        }
       ],
       "layout": {
        "template": {
         "data": {
          "bar": [
           {
            "error_x": {
             "color": "#2a3f5f"
            },
            "error_y": {
             "color": "#2a3f5f"
            },
            "marker": {
             "line": {
              "color": "#E5ECF6",
              "width": 0.5
             }
            },
            "type": "bar"
           }
          ],
          "barpolar": [
           {
            "marker": {
             "line": {
              "color": "#E5ECF6",
              "width": 0.5
             }
            },
            "type": "barpolar"
           }
          ],
          "carpet": [
           {
            "aaxis": {
             "endlinecolor": "#2a3f5f",
             "gridcolor": "white",
             "linecolor": "white",
             "minorgridcolor": "white",
             "startlinecolor": "#2a3f5f"
            },
            "baxis": {
             "endlinecolor": "#2a3f5f",
             "gridcolor": "white",
             "linecolor": "white",
             "minorgridcolor": "white",
             "startlinecolor": "#2a3f5f"
            },
            "type": "carpet"
           }
          ],
          "choropleth": [
           {
            "colorbar": {
             "outlinewidth": 0,
             "ticks": ""
            },
            "type": "choropleth"
           }
          ],
          "contour": [
           {
            "colorbar": {
             "outlinewidth": 0,
             "ticks": ""
            },
            "colorscale": [
             [
              0,
              "#0d0887"
             ],
             [
              0.1111111111111111,
              "#46039f"
             ],
             [
              0.2222222222222222,
              "#7201a8"
             ],
             [
              0.3333333333333333,
              "#9c179e"
             ],
             [
              0.4444444444444444,
              "#bd3786"
             ],
             [
              0.5555555555555556,
              "#d8576b"
             ],
             [
              0.6666666666666666,
              "#ed7953"
             ],
             [
              0.7777777777777778,
              "#fb9f3a"
             ],
             [
              0.8888888888888888,
              "#fdca26"
             ],
             [
              1,
              "#f0f921"
             ]
            ],
            "type": "contour"
           }
          ],
          "contourcarpet": [
           {
            "colorbar": {
             "outlinewidth": 0,
             "ticks": ""
            },
            "type": "contourcarpet"
           }
          ],
          "heatmap": [
           {
            "colorbar": {
             "outlinewidth": 0,
             "ticks": ""
            },
            "colorscale": [
             [
              0,
              "#0d0887"
             ],
             [
              0.1111111111111111,
              "#46039f"
             ],
             [
              0.2222222222222222,
              "#7201a8"
             ],
             [
              0.3333333333333333,
              "#9c179e"
             ],
             [
              0.4444444444444444,
              "#bd3786"
             ],
             [
              0.5555555555555556,
              "#d8576b"
             ],
             [
              0.6666666666666666,
              "#ed7953"
             ],
             [
              0.7777777777777778,
              "#fb9f3a"
             ],
             [
              0.8888888888888888,
              "#fdca26"
             ],
             [
              1,
              "#f0f921"
             ]
            ],
            "type": "heatmap"
           }
          ],
          "heatmapgl": [
           {
            "colorbar": {
             "outlinewidth": 0,
             "ticks": ""
            },
            "colorscale": [
             [
              0,
              "#0d0887"
             ],
             [
              0.1111111111111111,
              "#46039f"
             ],
             [
              0.2222222222222222,
              "#7201a8"
             ],
             [
              0.3333333333333333,
              "#9c179e"
             ],
             [
              0.4444444444444444,
              "#bd3786"
             ],
             [
              0.5555555555555556,
              "#d8576b"
             ],
             [
              0.6666666666666666,
              "#ed7953"
             ],
             [
              0.7777777777777778,
              "#fb9f3a"
             ],
             [
              0.8888888888888888,
              "#fdca26"
             ],
             [
              1,
              "#f0f921"
             ]
            ],
            "type": "heatmapgl"
           }
          ],
          "histogram": [
           {
            "marker": {
             "colorbar": {
              "outlinewidth": 0,
              "ticks": ""
             }
            },
            "type": "histogram"
           }
          ],
          "histogram2d": [
           {
            "colorbar": {
             "outlinewidth": 0,
             "ticks": ""
            },
            "colorscale": [
             [
              0,
              "#0d0887"
             ],
             [
              0.1111111111111111,
              "#46039f"
             ],
             [
              0.2222222222222222,
              "#7201a8"
             ],
             [
              0.3333333333333333,
              "#9c179e"
             ],
             [
              0.4444444444444444,
              "#bd3786"
             ],
             [
              0.5555555555555556,
              "#d8576b"
             ],
             [
              0.6666666666666666,
              "#ed7953"
             ],
             [
              0.7777777777777778,
              "#fb9f3a"
             ],
             [
              0.8888888888888888,
              "#fdca26"
             ],
             [
              1,
              "#f0f921"
             ]
            ],
            "type": "histogram2d"
           }
          ],
          "histogram2dcontour": [
           {
            "colorbar": {
             "outlinewidth": 0,
             "ticks": ""
            },
            "colorscale": [
             [
              0,
              "#0d0887"
             ],
             [
              0.1111111111111111,
              "#46039f"
             ],
             [
              0.2222222222222222,
              "#7201a8"
             ],
             [
              0.3333333333333333,
              "#9c179e"
             ],
             [
              0.4444444444444444,
              "#bd3786"
             ],
             [
              0.5555555555555556,
              "#d8576b"
             ],
             [
              0.6666666666666666,
              "#ed7953"
             ],
             [
              0.7777777777777778,
              "#fb9f3a"
             ],
             [
              0.8888888888888888,
              "#fdca26"
             ],
             [
              1,
              "#f0f921"
             ]
            ],
            "type": "histogram2dcontour"
           }
          ],
          "mesh3d": [
           {
            "colorbar": {
             "outlinewidth": 0,
             "ticks": ""
            },
            "type": "mesh3d"
           }
          ],
          "parcoords": [
           {
            "line": {
             "colorbar": {
              "outlinewidth": 0,
              "ticks": ""
             }
            },
            "type": "parcoords"
           }
          ],
          "pie": [
           {
            "automargin": true,
            "type": "pie"
           }
          ],
          "scatter": [
           {
            "marker": {
             "colorbar": {
              "outlinewidth": 0,
              "ticks": ""
             }
            },
            "type": "scatter"
           }
          ],
          "scatter3d": [
           {
            "line": {
             "colorbar": {
              "outlinewidth": 0,
              "ticks": ""
             }
            },
            "marker": {
             "colorbar": {
              "outlinewidth": 0,
              "ticks": ""
             }
            },
            "type": "scatter3d"
           }
          ],
          "scattercarpet": [
           {
            "marker": {
             "colorbar": {
              "outlinewidth": 0,
              "ticks": ""
             }
            },
            "type": "scattercarpet"
           }
          ],
          "scattergeo": [
           {
            "marker": {
             "colorbar": {
              "outlinewidth": 0,
              "ticks": ""
             }
            },
            "type": "scattergeo"
           }
          ],
          "scattergl": [
           {
            "marker": {
             "colorbar": {
              "outlinewidth": 0,
              "ticks": ""
             }
            },
            "type": "scattergl"
           }
          ],
          "scattermapbox": [
           {
            "marker": {
             "colorbar": {
              "outlinewidth": 0,
              "ticks": ""
             }
            },
            "type": "scattermapbox"
           }
          ],
          "scatterpolar": [
           {
            "marker": {
             "colorbar": {
              "outlinewidth": 0,
              "ticks": ""
             }
            },
            "type": "scatterpolar"
           }
          ],
          "scatterpolargl": [
           {
            "marker": {
             "colorbar": {
              "outlinewidth": 0,
              "ticks": ""
             }
            },
            "type": "scatterpolargl"
           }
          ],
          "scatterternary": [
           {
            "marker": {
             "colorbar": {
              "outlinewidth": 0,
              "ticks": ""
             }
            },
            "type": "scatterternary"
           }
          ],
          "surface": [
           {
            "colorbar": {
             "outlinewidth": 0,
             "ticks": ""
            },
            "colorscale": [
             [
              0,
              "#0d0887"
             ],
             [
              0.1111111111111111,
              "#46039f"
             ],
             [
              0.2222222222222222,
              "#7201a8"
             ],
             [
              0.3333333333333333,
              "#9c179e"
             ],
             [
              0.4444444444444444,
              "#bd3786"
             ],
             [
              0.5555555555555556,
              "#d8576b"
             ],
             [
              0.6666666666666666,
              "#ed7953"
             ],
             [
              0.7777777777777778,
              "#fb9f3a"
             ],
             [
              0.8888888888888888,
              "#fdca26"
             ],
             [
              1,
              "#f0f921"
             ]
            ],
            "type": "surface"
           }
          ],
          "table": [
           {
            "cells": {
             "fill": {
              "color": "#EBF0F8"
             },
             "line": {
              "color": "white"
             }
            },
            "header": {
             "fill": {
              "color": "#C8D4E3"
             },
             "line": {
              "color": "white"
             }
            },
            "type": "table"
           }
          ]
         },
         "layout": {
          "annotationdefaults": {
           "arrowcolor": "#2a3f5f",
           "arrowhead": 0,
           "arrowwidth": 1
          },
          "coloraxis": {
           "colorbar": {
            "outlinewidth": 0,
            "ticks": ""
           }
          },
          "colorscale": {
           "diverging": [
            [
             0,
             "#8e0152"
            ],
            [
             0.1,
             "#c51b7d"
            ],
            [
             0.2,
             "#de77ae"
            ],
            [
             0.3,
             "#f1b6da"
            ],
            [
             0.4,
             "#fde0ef"
            ],
            [
             0.5,
             "#f7f7f7"
            ],
            [
             0.6,
             "#e6f5d0"
            ],
            [
             0.7,
             "#b8e186"
            ],
            [
             0.8,
             "#7fbc41"
            ],
            [
             0.9,
             "#4d9221"
            ],
            [
             1,
             "#276419"
            ]
           ],
           "sequential": [
            [
             0,
             "#0d0887"
            ],
            [
             0.1111111111111111,
             "#46039f"
            ],
            [
             0.2222222222222222,
             "#7201a8"
            ],
            [
             0.3333333333333333,
             "#9c179e"
            ],
            [
             0.4444444444444444,
             "#bd3786"
            ],
            [
             0.5555555555555556,
             "#d8576b"
            ],
            [
             0.6666666666666666,
             "#ed7953"
            ],
            [
             0.7777777777777778,
             "#fb9f3a"
            ],
            [
             0.8888888888888888,
             "#fdca26"
            ],
            [
             1,
             "#f0f921"
            ]
           ],
           "sequentialminus": [
            [
             0,
             "#0d0887"
            ],
            [
             0.1111111111111111,
             "#46039f"
            ],
            [
             0.2222222222222222,
             "#7201a8"
            ],
            [
             0.3333333333333333,
             "#9c179e"
            ],
            [
             0.4444444444444444,
             "#bd3786"
            ],
            [
             0.5555555555555556,
             "#d8576b"
            ],
            [
             0.6666666666666666,
             "#ed7953"
            ],
            [
             0.7777777777777778,
             "#fb9f3a"
            ],
            [
             0.8888888888888888,
             "#fdca26"
            ],
            [
             1,
             "#f0f921"
            ]
           ]
          },
          "colorway": [
           "#636efa",
           "#EF553B",
           "#00cc96",
           "#ab63fa",
           "#FFA15A",
           "#19d3f3",
           "#FF6692",
           "#B6E880",
           "#FF97FF",
           "#FECB52"
          ],
          "font": {
           "color": "#2a3f5f"
          },
          "geo": {
           "bgcolor": "white",
           "lakecolor": "white",
           "landcolor": "#E5ECF6",
           "showlakes": true,
           "showland": true,
           "subunitcolor": "white"
          },
          "hoverlabel": {
           "align": "left"
          },
          "hovermode": "closest",
          "mapbox": {
           "style": "light"
          },
          "paper_bgcolor": "white",
          "plot_bgcolor": "#E5ECF6",
          "polar": {
           "angularaxis": {
            "gridcolor": "white",
            "linecolor": "white",
            "ticks": ""
           },
           "bgcolor": "#E5ECF6",
           "radialaxis": {
            "gridcolor": "white",
            "linecolor": "white",
            "ticks": ""
           }
          },
          "scene": {
           "xaxis": {
            "backgroundcolor": "#E5ECF6",
            "gridcolor": "white",
            "gridwidth": 2,
            "linecolor": "white",
            "showbackground": true,
            "ticks": "",
            "zerolinecolor": "white"
           },
           "yaxis": {
            "backgroundcolor": "#E5ECF6",
            "gridcolor": "white",
            "gridwidth": 2,
            "linecolor": "white",
            "showbackground": true,
            "ticks": "",
            "zerolinecolor": "white"
           },
           "zaxis": {
            "backgroundcolor": "#E5ECF6",
            "gridcolor": "white",
            "gridwidth": 2,
            "linecolor": "white",
            "showbackground": true,
            "ticks": "",
            "zerolinecolor": "white"
           }
          },
          "shapedefaults": {
           "line": {
            "color": "#2a3f5f"
           }
          },
          "ternary": {
           "aaxis": {
            "gridcolor": "white",
            "linecolor": "white",
            "ticks": ""
           },
           "baxis": {
            "gridcolor": "white",
            "linecolor": "white",
            "ticks": ""
           },
           "bgcolor": "#E5ECF6",
           "caxis": {
            "gridcolor": "white",
            "linecolor": "white",
            "ticks": ""
           }
          },
          "title": {
           "x": 0.05
          },
          "xaxis": {
           "automargin": true,
           "gridcolor": "white",
           "linecolor": "white",
           "ticks": "",
           "title": {
            "standoff": 15
           },
           "zerolinecolor": "white",
           "zerolinewidth": 2
          },
          "yaxis": {
           "automargin": true,
           "gridcolor": "white",
           "linecolor": "white",
           "ticks": "",
           "title": {
            "standoff": 15
           },
           "zerolinecolor": "white",
           "zerolinewidth": 2
          }
         }
        },
        "xaxis": {
         "anchor": "y",
         "domain": [
          0,
          0.058163265306122446
         ],
         "matches": "x183",
         "range": [
          false,
          true
         ],
         "showticklabels": false
        },
        "xaxis10": {
         "anchor": "y10",
         "domain": [
          0.6520408163265305,
          0.710204081632653
         ],
         "matches": "x192",
         "range": [
          16,
          16
         ],
         "showticklabels": false
        },
        "xaxis100": {
         "anchor": "y100",
         "domain": [
          0.07244897959183673,
          0.13061224489795917
         ],
         "matches": "x184",
         "range": [
          64,
          64
         ],
         "showticklabels": false
        },
        "xaxis101": {
         "anchor": "y101",
         "domain": [
          0.14489795918367346,
          0.2030612244897959
         ],
         "matches": "x185",
         "range": [
          0.7573462327074572,
          0.9292811142151904
         ],
         "showticklabels": false
        },
        "xaxis102": {
         "anchor": "y102",
         "domain": [
          0.2173469387755102,
          0.2755102040816326
         ],
         "matches": "x186",
         "range": [
          0.2777156317392936,
          0.4934688038730549
         ],
         "showticklabels": false
        },
        "xaxis103": {
         "anchor": "y103",
         "domain": [
          0.2897959183673469,
          0.34795918367346934
         ],
         "matches": "x187",
         "range": [
          0.4319286909453611,
          0.8373025398621657
         ],
         "showticklabels": false
        },
        "xaxis104": {
         "anchor": "y104",
         "domain": [
          0.3622448979591837,
          0.4204081632653061
         ],
         "matches": "x188",
         "range": [
          0.9252534962135638,
          0.9252534962135638
         ],
         "showticklabels": false
        },
        "xaxis105": {
         "anchor": "y105",
         "domain": [
          0.4346938775510204,
          0.4928571428571428
         ],
         "matches": "x189",
         "range": [
          64,
          128
         ],
         "showticklabels": false
        },
        "xaxis106": {
         "anchor": "y106",
         "domain": [
          0.5071428571428571,
          0.5653061224489796
         ],
         "matches": "x190",
         "range": [
          32,
          32
         ],
         "showticklabels": false
        },
        "xaxis107": {
         "anchor": "y107",
         "domain": [
          0.5795918367346938,
          0.6377551020408163
         ],
         "matches": "x191",
         "range": [
          64,
          128
         ],
         "showticklabels": false
        },
        "xaxis108": {
         "anchor": "y108",
         "domain": [
          0.6520408163265305,
          0.710204081632653
         ],
         "matches": "x192",
         "range": [
          16,
          16
         ],
         "showticklabels": false
        },
        "xaxis109": {
         "anchor": "y109",
         "domain": [
          0.7244897959183674,
          0.7826530612244899
         ],
         "matches": "x193",
         "range": [
          3,
          4
         ],
         "showticklabels": false
        },
        "xaxis11": {
         "anchor": "y11",
         "domain": [
          0.7244897959183674,
          0.7826530612244899
         ],
         "matches": "x193",
         "range": [
          3,
          4
         ],
         "showticklabels": false
        },
        "xaxis110": {
         "anchor": "y110",
         "domain": [
          0.7969387755102041,
          0.8551020408163266
         ],
         "matches": "x194",
         "range": [
          3,
          4
         ],
         "showticklabels": false
        },
        "xaxis111": {
         "anchor": "y111",
         "domain": [
          0.8693877551020408,
          0.9275510204081633
         ],
         "matches": "x195",
         "range": [
          2,
          3
         ],
         "showticklabels": false
        },
        "xaxis112": {
         "anchor": "y112",
         "domain": [
          0.9418367346938776,
          1
         ],
         "matches": "x196",
         "range": [
          2,
          2
         ],
         "showticklabels": false
        },
        "xaxis113": {
         "anchor": "y113",
         "domain": [
          0,
          0.058163265306122446
         ],
         "matches": "x183",
         "range": [
          false,
          true
         ],
         "showticklabels": false
        },
        "xaxis114": {
         "anchor": "y114",
         "domain": [
          0.07244897959183673,
          0.13061224489795917
         ],
         "matches": "x184",
         "range": [
          64,
          64
         ],
         "showticklabels": false
        },
        "xaxis115": {
         "anchor": "y115",
         "domain": [
          0.14489795918367346,
          0.2030612244897959
         ],
         "matches": "x185",
         "range": [
          0.7573462327074572,
          0.9292811142151904
         ],
         "showticklabels": false
        },
        "xaxis116": {
         "anchor": "y116",
         "domain": [
          0.2173469387755102,
          0.2755102040816326
         ],
         "matches": "x186",
         "range": [
          0.2777156317392936,
          0.4934688038730549
         ],
         "showticklabels": false
        },
        "xaxis117": {
         "anchor": "y117",
         "domain": [
          0.2897959183673469,
          0.34795918367346934
         ],
         "matches": "x187",
         "range": [
          0.4319286909453611,
          0.8373025398621657
         ],
         "showticklabels": false
        },
        "xaxis118": {
         "anchor": "y118",
         "domain": [
          0.3622448979591837,
          0.4204081632653061
         ],
         "matches": "x188",
         "range": [
          0.9252534962135638,
          0.9252534962135638
         ],
         "showticklabels": false
        },
        "xaxis119": {
         "anchor": "y119",
         "domain": [
          0.4346938775510204,
          0.4928571428571428
         ],
         "matches": "x189",
         "range": [
          64,
          128
         ],
         "showticklabels": false
        },
        "xaxis12": {
         "anchor": "y12",
         "domain": [
          0.7969387755102041,
          0.8551020408163266
         ],
         "matches": "x194",
         "range": [
          3,
          4
         ],
         "showticklabels": false
        },
        "xaxis120": {
         "anchor": "y120",
         "domain": [
          0.5071428571428571,
          0.5653061224489796
         ],
         "matches": "x190",
         "range": [
          32,
          32
         ],
         "showticklabels": false
        },
        "xaxis121": {
         "anchor": "y121",
         "domain": [
          0.5795918367346938,
          0.6377551020408163
         ],
         "matches": "x191",
         "range": [
          64,
          128
         ],
         "showticklabels": false
        },
        "xaxis122": {
         "anchor": "y122",
         "domain": [
          0.6520408163265305,
          0.710204081632653
         ],
         "matches": "x192",
         "range": [
          16,
          16
         ],
         "showticklabels": false
        },
        "xaxis123": {
         "anchor": "y123",
         "domain": [
          0.7244897959183674,
          0.7826530612244899
         ],
         "matches": "x193",
         "range": [
          3,
          4
         ],
         "showticklabels": false
        },
        "xaxis124": {
         "anchor": "y124",
         "domain": [
          0.7969387755102041,
          0.8551020408163266
         ],
         "matches": "x194",
         "range": [
          3,
          4
         ],
         "showticklabels": false
        },
        "xaxis125": {
         "anchor": "y125",
         "domain": [
          0.8693877551020408,
          0.9275510204081633
         ],
         "matches": "x195",
         "range": [
          2,
          3
         ],
         "showticklabels": false
        },
        "xaxis126": {
         "anchor": "y126",
         "domain": [
          0.9418367346938776,
          1
         ],
         "matches": "x196",
         "range": [
          2,
          2
         ],
         "showticklabels": false
        },
        "xaxis127": {
         "anchor": "y127",
         "domain": [
          0,
          0.058163265306122446
         ],
         "matches": "x183",
         "range": [
          false,
          true
         ],
         "showticklabels": false
        },
        "xaxis128": {
         "anchor": "y128",
         "domain": [
          0.07244897959183673,
          0.13061224489795917
         ],
         "matches": "x184",
         "range": [
          64,
          64
         ],
         "showticklabels": false
        },
        "xaxis129": {
         "anchor": "y129",
         "domain": [
          0.14489795918367346,
          0.2030612244897959
         ],
         "matches": "x185",
         "range": [
          0.7573462327074572,
          0.9292811142151904
         ],
         "showticklabels": false
        },
        "xaxis13": {
         "anchor": "y13",
         "domain": [
          0.8693877551020408,
          0.9275510204081633
         ],
         "matches": "x195",
         "range": [
          2,
          3
         ],
         "showticklabels": false
        },
        "xaxis130": {
         "anchor": "y130",
         "domain": [
          0.2173469387755102,
          0.2755102040816326
         ],
         "matches": "x186",
         "range": [
          0.2777156317392936,
          0.4934688038730549
         ],
         "showticklabels": false
        },
        "xaxis131": {
         "anchor": "y131",
         "domain": [
          0.2897959183673469,
          0.34795918367346934
         ],
         "matches": "x187",
         "range": [
          0.4319286909453611,
          0.8373025398621657
         ],
         "showticklabels": false
        },
        "xaxis132": {
         "anchor": "y132",
         "domain": [
          0.3622448979591837,
          0.4204081632653061
         ],
         "matches": "x188",
         "range": [
          0.9252534962135638,
          0.9252534962135638
         ],
         "showticklabels": false
        },
        "xaxis133": {
         "anchor": "y133",
         "domain": [
          0.4346938775510204,
          0.4928571428571428
         ],
         "matches": "x189",
         "range": [
          64,
          128
         ],
         "showticklabels": false
        },
        "xaxis134": {
         "anchor": "y134",
         "domain": [
          0.5071428571428571,
          0.5653061224489796
         ],
         "matches": "x190",
         "range": [
          32,
          32
         ],
         "showticklabels": false
        },
        "xaxis135": {
         "anchor": "y135",
         "domain": [
          0.5795918367346938,
          0.6377551020408163
         ],
         "matches": "x191",
         "range": [
          64,
          128
         ],
         "showticklabels": false
        },
        "xaxis136": {
         "anchor": "y136",
         "domain": [
          0.6520408163265305,
          0.710204081632653
         ],
         "matches": "x192",
         "range": [
          16,
          16
         ],
         "showticklabels": false
        },
        "xaxis137": {
         "anchor": "y137",
         "domain": [
          0.7244897959183674,
          0.7826530612244899
         ],
         "matches": "x193",
         "range": [
          3,
          4
         ],
         "showticklabels": false
        },
        "xaxis138": {
         "anchor": "y138",
         "domain": [
          0.7969387755102041,
          0.8551020408163266
         ],
         "matches": "x194",
         "range": [
          3,
          4
         ],
         "showticklabels": false
        },
        "xaxis139": {
         "anchor": "y139",
         "domain": [
          0.8693877551020408,
          0.9275510204081633
         ],
         "matches": "x195",
         "range": [
          2,
          3
         ],
         "showticklabels": false
        },
        "xaxis14": {
         "anchor": "y14",
         "domain": [
          0.9418367346938776,
          1
         ],
         "matches": "x196",
         "range": [
          2,
          2
         ],
         "showticklabels": false
        },
        "xaxis140": {
         "anchor": "y140",
         "domain": [
          0.9418367346938776,
          1
         ],
         "matches": "x196",
         "range": [
          2,
          2
         ],
         "showticklabels": false
        },
        "xaxis141": {
         "anchor": "y141",
         "domain": [
          0,
          0.058163265306122446
         ],
         "matches": "x183",
         "range": [
          false,
          true
         ],
         "showticklabels": false
        },
        "xaxis142": {
         "anchor": "y142",
         "domain": [
          0.07244897959183673,
          0.13061224489795917
         ],
         "matches": "x184",
         "range": [
          64,
          64
         ],
         "showticklabels": false
        },
        "xaxis143": {
         "anchor": "y143",
         "domain": [
          0.14489795918367346,
          0.2030612244897959
         ],
         "matches": "x185",
         "range": [
          0.7573462327074572,
          0.9292811142151904
         ],
         "showticklabels": false
        },
        "xaxis144": {
         "anchor": "y144",
         "domain": [
          0.2173469387755102,
          0.2755102040816326
         ],
         "matches": "x186",
         "range": [
          0.2777156317392936,
          0.4934688038730549
         ],
         "showticklabels": false
        },
        "xaxis145": {
         "anchor": "y145",
         "domain": [
          0.2897959183673469,
          0.34795918367346934
         ],
         "matches": "x187",
         "range": [
          0.4319286909453611,
          0.8373025398621657
         ],
         "showticklabels": false
        },
        "xaxis146": {
         "anchor": "y146",
         "domain": [
          0.3622448979591837,
          0.4204081632653061
         ],
         "matches": "x188",
         "range": [
          0.9252534962135638,
          0.9252534962135638
         ],
         "showticklabels": false
        },
        "xaxis147": {
         "anchor": "y147",
         "domain": [
          0.4346938775510204,
          0.4928571428571428
         ],
         "matches": "x189",
         "range": [
          64,
          128
         ],
         "showticklabels": false
        },
        "xaxis148": {
         "anchor": "y148",
         "domain": [
          0.5071428571428571,
          0.5653061224489796
         ],
         "matches": "x190",
         "range": [
          32,
          32
         ],
         "showticklabels": false
        },
        "xaxis149": {
         "anchor": "y149",
         "domain": [
          0.5795918367346938,
          0.6377551020408163
         ],
         "matches": "x191",
         "range": [
          64,
          128
         ],
         "showticklabels": false
        },
        "xaxis15": {
         "anchor": "y15",
         "domain": [
          0,
          0.058163265306122446
         ],
         "matches": "x183",
         "range": [
          false,
          true
         ],
         "showticklabels": false
        },
        "xaxis150": {
         "anchor": "y150",
         "domain": [
          0.6520408163265305,
          0.710204081632653
         ],
         "matches": "x192",
         "range": [
          16,
          16
         ],
         "showticklabels": false
        },
        "xaxis151": {
         "anchor": "y151",
         "domain": [
          0.7244897959183674,
          0.7826530612244899
         ],
         "matches": "x193",
         "range": [
          3,
          4
         ],
         "showticklabels": false
        },
        "xaxis152": {
         "anchor": "y152",
         "domain": [
          0.7969387755102041,
          0.8551020408163266
         ],
         "matches": "x194",
         "range": [
          3,
          4
         ],
         "showticklabels": false
        },
        "xaxis153": {
         "anchor": "y153",
         "domain": [
          0.8693877551020408,
          0.9275510204081633
         ],
         "matches": "x195",
         "range": [
          2,
          3
         ],
         "showticklabels": false
        },
        "xaxis154": {
         "anchor": "y154",
         "domain": [
          0.9418367346938776,
          1
         ],
         "matches": "x196",
         "range": [
          2,
          2
         ],
         "showticklabels": false
        },
        "xaxis155": {
         "anchor": "y155",
         "domain": [
          0,
          0.058163265306122446
         ],
         "matches": "x183",
         "range": [
          false,
          true
         ],
         "showticklabels": false
        },
        "xaxis156": {
         "anchor": "y156",
         "domain": [
          0.07244897959183673,
          0.13061224489795917
         ],
         "matches": "x184",
         "range": [
          64,
          64
         ],
         "showticklabels": false
        },
        "xaxis157": {
         "anchor": "y157",
         "domain": [
          0.14489795918367346,
          0.2030612244897959
         ],
         "matches": "x185",
         "range": [
          0.7573462327074572,
          0.9292811142151904
         ],
         "showticklabels": false
        },
        "xaxis158": {
         "anchor": "y158",
         "domain": [
          0.2173469387755102,
          0.2755102040816326
         ],
         "matches": "x186",
         "range": [
          0.2777156317392936,
          0.4934688038730549
         ],
         "showticklabels": false
        },
        "xaxis159": {
         "anchor": "y159",
         "domain": [
          0.2897959183673469,
          0.34795918367346934
         ],
         "matches": "x187",
         "range": [
          0.4319286909453611,
          0.8373025398621657
         ],
         "showticklabels": false
        },
        "xaxis16": {
         "anchor": "y16",
         "domain": [
          0.07244897959183673,
          0.13061224489795917
         ],
         "matches": "x184",
         "range": [
          64,
          64
         ],
         "showticklabels": false
        },
        "xaxis160": {
         "anchor": "y160",
         "domain": [
          0.3622448979591837,
          0.4204081632653061
         ],
         "matches": "x188",
         "range": [
          0.9252534962135638,
          0.9252534962135638
         ],
         "showticklabels": false
        },
        "xaxis161": {
         "anchor": "y161",
         "domain": [
          0.4346938775510204,
          0.4928571428571428
         ],
         "matches": "x189",
         "range": [
          64,
          128
         ],
         "showticklabels": false
        },
        "xaxis162": {
         "anchor": "y162",
         "domain": [
          0.5071428571428571,
          0.5653061224489796
         ],
         "matches": "x190",
         "range": [
          32,
          32
         ],
         "showticklabels": false
        },
        "xaxis163": {
         "anchor": "y163",
         "domain": [
          0.5795918367346938,
          0.6377551020408163
         ],
         "matches": "x191",
         "range": [
          64,
          128
         ],
         "showticklabels": false
        },
        "xaxis164": {
         "anchor": "y164",
         "domain": [
          0.6520408163265305,
          0.710204081632653
         ],
         "matches": "x192",
         "range": [
          16,
          16
         ],
         "showticklabels": false
        },
        "xaxis165": {
         "anchor": "y165",
         "domain": [
          0.7244897959183674,
          0.7826530612244899
         ],
         "matches": "x193",
         "range": [
          3,
          4
         ],
         "showticklabels": false
        },
        "xaxis166": {
         "anchor": "y166",
         "domain": [
          0.7969387755102041,
          0.8551020408163266
         ],
         "matches": "x194",
         "range": [
          3,
          4
         ],
         "showticklabels": false
        },
        "xaxis167": {
         "anchor": "y167",
         "domain": [
          0.8693877551020408,
          0.9275510204081633
         ],
         "matches": "x195",
         "range": [
          2,
          3
         ],
         "showticklabels": false
        },
        "xaxis168": {
         "anchor": "y168",
         "domain": [
          0.9418367346938776,
          1
         ],
         "matches": "x196",
         "range": [
          2,
          2
         ],
         "showticklabels": false
        },
        "xaxis169": {
         "anchor": "y169",
         "domain": [
          0,
          0.058163265306122446
         ],
         "matches": "x183",
         "range": [
          false,
          true
         ],
         "showticklabels": false
        },
        "xaxis17": {
         "anchor": "y17",
         "domain": [
          0.14489795918367346,
          0.2030612244897959
         ],
         "matches": "x185",
         "range": [
          0.7573462327074572,
          0.9292811142151904
         ],
         "showticklabels": false
        },
        "xaxis170": {
         "anchor": "y170",
         "domain": [
          0.07244897959183673,
          0.13061224489795917
         ],
         "matches": "x184",
         "range": [
          64,
          64
         ],
         "showticklabels": false
        },
        "xaxis171": {
         "anchor": "y171",
         "domain": [
          0.14489795918367346,
          0.2030612244897959
         ],
         "matches": "x185",
         "range": [
          0.7573462327074572,
          0.9292811142151904
         ],
         "showticklabels": false
        },
        "xaxis172": {
         "anchor": "y172",
         "domain": [
          0.2173469387755102,
          0.2755102040816326
         ],
         "matches": "x186",
         "range": [
          0.2777156317392936,
          0.4934688038730549
         ],
         "showticklabels": false
        },
        "xaxis173": {
         "anchor": "y173",
         "domain": [
          0.2897959183673469,
          0.34795918367346934
         ],
         "matches": "x187",
         "range": [
          0.4319286909453611,
          0.8373025398621657
         ],
         "showticklabels": false
        },
        "xaxis174": {
         "anchor": "y174",
         "domain": [
          0.3622448979591837,
          0.4204081632653061
         ],
         "matches": "x188",
         "range": [
          0.9252534962135638,
          0.9252534962135638
         ],
         "showticklabels": false
        },
        "xaxis175": {
         "anchor": "y175",
         "domain": [
          0.4346938775510204,
          0.4928571428571428
         ],
         "matches": "x189",
         "range": [
          64,
          128
         ],
         "showticklabels": false
        },
        "xaxis176": {
         "anchor": "y176",
         "domain": [
          0.5071428571428571,
          0.5653061224489796
         ],
         "matches": "x190",
         "range": [
          32,
          32
         ],
         "showticklabels": false
        },
        "xaxis177": {
         "anchor": "y177",
         "domain": [
          0.5795918367346938,
          0.6377551020408163
         ],
         "matches": "x191",
         "range": [
          64,
          128
         ],
         "showticklabels": false
        },
        "xaxis178": {
         "anchor": "y178",
         "domain": [
          0.6520408163265305,
          0.710204081632653
         ],
         "matches": "x192",
         "range": [
          16,
          16
         ],
         "showticklabels": false
        },
        "xaxis179": {
         "anchor": "y179",
         "domain": [
          0.7244897959183674,
          0.7826530612244899
         ],
         "matches": "x193",
         "range": [
          3,
          4
         ],
         "showticklabels": false
        },
        "xaxis18": {
         "anchor": "y18",
         "domain": [
          0.2173469387755102,
          0.2755102040816326
         ],
         "matches": "x186",
         "range": [
          0.2777156317392936,
          0.4934688038730549
         ],
         "showticklabels": false
        },
        "xaxis180": {
         "anchor": "y180",
         "domain": [
          0.7969387755102041,
          0.8551020408163266
         ],
         "matches": "x194",
         "range": [
          3,
          4
         ],
         "showticklabels": false
        },
        "xaxis181": {
         "anchor": "y181",
         "domain": [
          0.8693877551020408,
          0.9275510204081633
         ],
         "matches": "x195",
         "range": [
          2,
          3
         ],
         "showticklabels": false
        },
        "xaxis182": {
         "anchor": "y182",
         "domain": [
          0.9418367346938776,
          1
         ],
         "matches": "x196",
         "range": [
          2,
          2
         ],
         "showticklabels": false
        },
        "xaxis183": {
         "anchor": "y183",
         "domain": [
          0,
          0.058163265306122446
         ],
         "range": [
          false,
          true
         ],
         "title": {
          "text": "Fourth Layer"
         }
        },
        "xaxis184": {
         "anchor": "y184",
         "domain": [
          0.07244897959183673,
          0.13061224489795917
         ],
         "range": [
          64,
          64
         ],
         "title": {
          "text": "dense_layer_nodes_1"
         }
        },
        "xaxis185": {
         "anchor": "y185",
         "domain": [
          0.14489795918367346,
          0.2030612244897959
         ],
         "range": [
          0.7573462327074572,
          0.9292811142151904
         ],
         "title": {
          "text": "dropout_1"
         }
        },
        "xaxis186": {
         "anchor": "y186",
         "domain": [
          0.2173469387755102,
          0.2755102040816326
         ],
         "range": [
          0.2777156317392936,
          0.4934688038730549
         ],
         "title": {
          "text": "dropout_2"
         }
        },
        "xaxis187": {
         "anchor": "y187",
         "domain": [
          0.2897959183673469,
          0.34795918367346934
         ],
         "range": [
          0.4319286909453611,
          0.8373025398621657
         ],
         "title": {
          "text": "dropout_3"
         }
        },
        "xaxis188": {
         "anchor": "y188",
         "domain": [
          0.3622448979591837,
          0.4204081632653061
         ],
         "range": [
          0.9252534962135638,
          0.9252534962135638
         ],
         "title": {
          "text": "dropout_4"
         }
        },
        "xaxis189": {
         "anchor": "y189",
         "domain": [
          0.4346938775510204,
          0.4928571428571428
         ],
         "range": [
          64,
          128
         ],
         "title": {
          "text": "filters_1"
         }
        },
        "xaxis19": {
         "anchor": "y19",
         "domain": [
          0.2897959183673469,
          0.34795918367346934
         ],
         "matches": "x187",
         "range": [
          0.4319286909453611,
          0.8373025398621657
         ],
         "showticklabels": false
        },
        "xaxis190": {
         "anchor": "y190",
         "domain": [
          0.5071428571428571,
          0.5653061224489796
         ],
         "range": [
          32,
          32
         ],
         "title": {
          "text": "filters_2"
         }
        },
        "xaxis191": {
         "anchor": "y191",
         "domain": [
          0.5795918367346938,
          0.6377551020408163
         ],
         "range": [
          64,
          128
         ],
         "title": {
          "text": "filters_3"
         }
        },
        "xaxis192": {
         "anchor": "y192",
         "domain": [
          0.6520408163265305,
          0.710204081632653
         ],
         "range": [
          16,
          16
         ],
         "title": {
          "text": "filters_4"
         }
        },
        "xaxis193": {
         "anchor": "y193",
         "domain": [
          0.7244897959183674,
          0.7826530612244899
         ],
         "range": [
          3,
          4
         ],
         "title": {
          "text": "kernel_size_1"
         }
        },
        "xaxis194": {
         "anchor": "y194",
         "domain": [
          0.7969387755102041,
          0.8551020408163266
         ],
         "range": [
          3,
          4
         ],
         "title": {
          "text": "kernel_size_2"
         }
        },
        "xaxis195": {
         "anchor": "y195",
         "domain": [
          0.8693877551020408,
          0.9275510204081633
         ],
         "range": [
          2,
          3
         ],
         "title": {
          "text": "kernel_size_3"
         }
        },
        "xaxis196": {
         "anchor": "y196",
         "domain": [
          0.9418367346938776,
          1
         ],
         "range": [
          2,
          2
         ],
         "title": {
          "text": "kernel_size_4"
         }
        },
        "xaxis2": {
         "anchor": "y2",
         "domain": [
          0.07244897959183673,
          0.13061224489795917
         ],
         "matches": "x184",
         "range": [
          64,
          64
         ],
         "showticklabels": false
        },
        "xaxis20": {
         "anchor": "y20",
         "domain": [
          0.3622448979591837,
          0.4204081632653061
         ],
         "matches": "x188",
         "range": [
          0.9252534962135638,
          0.9252534962135638
         ],
         "showticklabels": false
        },
        "xaxis21": {
         "anchor": "y21",
         "domain": [
          0.4346938775510204,
          0.4928571428571428
         ],
         "matches": "x189",
         "range": [
          64,
          128
         ],
         "showticklabels": false
        },
        "xaxis22": {
         "anchor": "y22",
         "domain": [
          0.5071428571428571,
          0.5653061224489796
         ],
         "matches": "x190",
         "range": [
          32,
          32
         ],
         "showticklabels": false
        },
        "xaxis23": {
         "anchor": "y23",
         "domain": [
          0.5795918367346938,
          0.6377551020408163
         ],
         "matches": "x191",
         "range": [
          64,
          128
         ],
         "showticklabels": false
        },
        "xaxis24": {
         "anchor": "y24",
         "domain": [
          0.6520408163265305,
          0.710204081632653
         ],
         "matches": "x192",
         "range": [
          16,
          16
         ],
         "showticklabels": false
        },
        "xaxis25": {
         "anchor": "y25",
         "domain": [
          0.7244897959183674,
          0.7826530612244899
         ],
         "matches": "x193",
         "range": [
          3,
          4
         ],
         "showticklabels": false
        },
        "xaxis26": {
         "anchor": "y26",
         "domain": [
          0.7969387755102041,
          0.8551020408163266
         ],
         "matches": "x194",
         "range": [
          3,
          4
         ],
         "showticklabels": false
        },
        "xaxis27": {
         "anchor": "y27",
         "domain": [
          0.8693877551020408,
          0.9275510204081633
         ],
         "matches": "x195",
         "range": [
          2,
          3
         ],
         "showticklabels": false
        },
        "xaxis28": {
         "anchor": "y28",
         "domain": [
          0.9418367346938776,
          1
         ],
         "matches": "x196",
         "range": [
          2,
          2
         ],
         "showticklabels": false
        },
        "xaxis29": {
         "anchor": "y29",
         "domain": [
          0,
          0.058163265306122446
         ],
         "matches": "x183",
         "range": [
          false,
          true
         ],
         "showticklabels": false
        },
        "xaxis3": {
         "anchor": "y3",
         "domain": [
          0.14489795918367346,
          0.2030612244897959
         ],
         "matches": "x185",
         "range": [
          0.7573462327074572,
          0.9292811142151904
         ],
         "showticklabels": false
        },
        "xaxis30": {
         "anchor": "y30",
         "domain": [
          0.07244897959183673,
          0.13061224489795917
         ],
         "matches": "x184",
         "range": [
          64,
          64
         ],
         "showticklabels": false
        },
        "xaxis31": {
         "anchor": "y31",
         "domain": [
          0.14489795918367346,
          0.2030612244897959
         ],
         "matches": "x185",
         "range": [
          0.7573462327074572,
          0.9292811142151904
         ],
         "showticklabels": false
        },
        "xaxis32": {
         "anchor": "y32",
         "domain": [
          0.2173469387755102,
          0.2755102040816326
         ],
         "matches": "x186",
         "range": [
          0.2777156317392936,
          0.4934688038730549
         ],
         "showticklabels": false
        },
        "xaxis33": {
         "anchor": "y33",
         "domain": [
          0.2897959183673469,
          0.34795918367346934
         ],
         "matches": "x187",
         "range": [
          0.4319286909453611,
          0.8373025398621657
         ],
         "showticklabels": false
        },
        "xaxis34": {
         "anchor": "y34",
         "domain": [
          0.3622448979591837,
          0.4204081632653061
         ],
         "matches": "x188",
         "range": [
          0.9252534962135638,
          0.9252534962135638
         ],
         "showticklabels": false
        },
        "xaxis35": {
         "anchor": "y35",
         "domain": [
          0.4346938775510204,
          0.4928571428571428
         ],
         "matches": "x189",
         "range": [
          64,
          128
         ],
         "showticklabels": false
        },
        "xaxis36": {
         "anchor": "y36",
         "domain": [
          0.5071428571428571,
          0.5653061224489796
         ],
         "matches": "x190",
         "range": [
          32,
          32
         ],
         "showticklabels": false
        },
        "xaxis37": {
         "anchor": "y37",
         "domain": [
          0.5795918367346938,
          0.6377551020408163
         ],
         "matches": "x191",
         "range": [
          64,
          128
         ],
         "showticklabels": false
        },
        "xaxis38": {
         "anchor": "y38",
         "domain": [
          0.6520408163265305,
          0.710204081632653
         ],
         "matches": "x192",
         "range": [
          16,
          16
         ],
         "showticklabels": false
        },
        "xaxis39": {
         "anchor": "y39",
         "domain": [
          0.7244897959183674,
          0.7826530612244899
         ],
         "matches": "x193",
         "range": [
          3,
          4
         ],
         "showticklabels": false
        },
        "xaxis4": {
         "anchor": "y4",
         "domain": [
          0.2173469387755102,
          0.2755102040816326
         ],
         "matches": "x186",
         "range": [
          0.2777156317392936,
          0.4934688038730549
         ],
         "showticklabels": false
        },
        "xaxis40": {
         "anchor": "y40",
         "domain": [
          0.7969387755102041,
          0.8551020408163266
         ],
         "matches": "x194",
         "range": [
          3,
          4
         ],
         "showticklabels": false
        },
        "xaxis41": {
         "anchor": "y41",
         "domain": [
          0.8693877551020408,
          0.9275510204081633
         ],
         "matches": "x195",
         "range": [
          2,
          3
         ],
         "showticklabels": false
        },
        "xaxis42": {
         "anchor": "y42",
         "domain": [
          0.9418367346938776,
          1
         ],
         "matches": "x196",
         "range": [
          2,
          2
         ],
         "showticklabels": false
        },
        "xaxis43": {
         "anchor": "y43",
         "domain": [
          0,
          0.058163265306122446
         ],
         "matches": "x183",
         "range": [
          false,
          true
         ],
         "showticklabels": false
        },
        "xaxis44": {
         "anchor": "y44",
         "domain": [
          0.07244897959183673,
          0.13061224489795917
         ],
         "matches": "x184",
         "range": [
          64,
          64
         ],
         "showticklabels": false
        },
        "xaxis45": {
         "anchor": "y45",
         "domain": [
          0.14489795918367346,
          0.2030612244897959
         ],
         "matches": "x185",
         "range": [
          0.7573462327074572,
          0.9292811142151904
         ],
         "showticklabels": false
        },
        "xaxis46": {
         "anchor": "y46",
         "domain": [
          0.2173469387755102,
          0.2755102040816326
         ],
         "matches": "x186",
         "range": [
          0.2777156317392936,
          0.4934688038730549
         ],
         "showticklabels": false
        },
        "xaxis47": {
         "anchor": "y47",
         "domain": [
          0.2897959183673469,
          0.34795918367346934
         ],
         "matches": "x187",
         "range": [
          0.4319286909453611,
          0.8373025398621657
         ],
         "showticklabels": false
        },
        "xaxis48": {
         "anchor": "y48",
         "domain": [
          0.3622448979591837,
          0.4204081632653061
         ],
         "matches": "x188",
         "range": [
          0.9252534962135638,
          0.9252534962135638
         ],
         "showticklabels": false
        },
        "xaxis49": {
         "anchor": "y49",
         "domain": [
          0.4346938775510204,
          0.4928571428571428
         ],
         "matches": "x189",
         "range": [
          64,
          128
         ],
         "showticklabels": false
        },
        "xaxis5": {
         "anchor": "y5",
         "domain": [
          0.2897959183673469,
          0.34795918367346934
         ],
         "matches": "x187",
         "range": [
          0.4319286909453611,
          0.8373025398621657
         ],
         "showticklabels": false
        },
        "xaxis50": {
         "anchor": "y50",
         "domain": [
          0.5071428571428571,
          0.5653061224489796
         ],
         "matches": "x190",
         "range": [
          32,
          32
         ],
         "showticklabels": false
        },
        "xaxis51": {
         "anchor": "y51",
         "domain": [
          0.5795918367346938,
          0.6377551020408163
         ],
         "matches": "x191",
         "range": [
          64,
          128
         ],
         "showticklabels": false
        },
        "xaxis52": {
         "anchor": "y52",
         "domain": [
          0.6520408163265305,
          0.710204081632653
         ],
         "matches": "x192",
         "range": [
          16,
          16
         ],
         "showticklabels": false
        },
        "xaxis53": {
         "anchor": "y53",
         "domain": [
          0.7244897959183674,
          0.7826530612244899
         ],
         "matches": "x193",
         "range": [
          3,
          4
         ],
         "showticklabels": false
        },
        "xaxis54": {
         "anchor": "y54",
         "domain": [
          0.7969387755102041,
          0.8551020408163266
         ],
         "matches": "x194",
         "range": [
          3,
          4
         ],
         "showticklabels": false
        },
        "xaxis55": {
         "anchor": "y55",
         "domain": [
          0.8693877551020408,
          0.9275510204081633
         ],
         "matches": "x195",
         "range": [
          2,
          3
         ],
         "showticklabels": false
        },
        "xaxis56": {
         "anchor": "y56",
         "domain": [
          0.9418367346938776,
          1
         ],
         "matches": "x196",
         "range": [
          2,
          2
         ],
         "showticklabels": false
        },
        "xaxis57": {
         "anchor": "y57",
         "domain": [
          0,
          0.058163265306122446
         ],
         "matches": "x183",
         "range": [
          false,
          true
         ],
         "showticklabels": false
        },
        "xaxis58": {
         "anchor": "y58",
         "domain": [
          0.07244897959183673,
          0.13061224489795917
         ],
         "matches": "x184",
         "range": [
          64,
          64
         ],
         "showticklabels": false
        },
        "xaxis59": {
         "anchor": "y59",
         "domain": [
          0.14489795918367346,
          0.2030612244897959
         ],
         "matches": "x185",
         "range": [
          0.7573462327074572,
          0.9292811142151904
         ],
         "showticklabels": false
        },
        "xaxis6": {
         "anchor": "y6",
         "domain": [
          0.3622448979591837,
          0.4204081632653061
         ],
         "matches": "x188",
         "range": [
          0.9252534962135638,
          0.9252534962135638
         ],
         "showticklabels": false
        },
        "xaxis60": {
         "anchor": "y60",
         "domain": [
          0.2173469387755102,
          0.2755102040816326
         ],
         "matches": "x186",
         "range": [
          0.2777156317392936,
          0.4934688038730549
         ],
         "showticklabels": false
        },
        "xaxis61": {
         "anchor": "y61",
         "domain": [
          0.2897959183673469,
          0.34795918367346934
         ],
         "matches": "x187",
         "range": [
          0.4319286909453611,
          0.8373025398621657
         ],
         "showticklabels": false
        },
        "xaxis62": {
         "anchor": "y62",
         "domain": [
          0.3622448979591837,
          0.4204081632653061
         ],
         "matches": "x188",
         "range": [
          0.9252534962135638,
          0.9252534962135638
         ],
         "showticklabels": false
        },
        "xaxis63": {
         "anchor": "y63",
         "domain": [
          0.4346938775510204,
          0.4928571428571428
         ],
         "matches": "x189",
         "range": [
          64,
          128
         ],
         "showticklabels": false
        },
        "xaxis64": {
         "anchor": "y64",
         "domain": [
          0.5071428571428571,
          0.5653061224489796
         ],
         "matches": "x190",
         "range": [
          32,
          32
         ],
         "showticklabels": false
        },
        "xaxis65": {
         "anchor": "y65",
         "domain": [
          0.5795918367346938,
          0.6377551020408163
         ],
         "matches": "x191",
         "range": [
          64,
          128
         ],
         "showticklabels": false
        },
        "xaxis66": {
         "anchor": "y66",
         "domain": [
          0.6520408163265305,
          0.710204081632653
         ],
         "matches": "x192",
         "range": [
          16,
          16
         ],
         "showticklabels": false
        },
        "xaxis67": {
         "anchor": "y67",
         "domain": [
          0.7244897959183674,
          0.7826530612244899
         ],
         "matches": "x193",
         "range": [
          3,
          4
         ],
         "showticklabels": false
        },
        "xaxis68": {
         "anchor": "y68",
         "domain": [
          0.7969387755102041,
          0.8551020408163266
         ],
         "matches": "x194",
         "range": [
          3,
          4
         ],
         "showticklabels": false
        },
        "xaxis69": {
         "anchor": "y69",
         "domain": [
          0.8693877551020408,
          0.9275510204081633
         ],
         "matches": "x195",
         "range": [
          2,
          3
         ],
         "showticklabels": false
        },
        "xaxis7": {
         "anchor": "y7",
         "domain": [
          0.4346938775510204,
          0.4928571428571428
         ],
         "matches": "x189",
         "range": [
          64,
          128
         ],
         "showticklabels": false
        },
        "xaxis70": {
         "anchor": "y70",
         "domain": [
          0.9418367346938776,
          1
         ],
         "matches": "x196",
         "range": [
          2,
          2
         ],
         "showticklabels": false
        },
        "xaxis71": {
         "anchor": "y71",
         "domain": [
          0,
          0.058163265306122446
         ],
         "matches": "x183",
         "range": [
          false,
          true
         ],
         "showticklabels": false
        },
        "xaxis72": {
         "anchor": "y72",
         "domain": [
          0.07244897959183673,
          0.13061224489795917
         ],
         "matches": "x184",
         "range": [
          64,
          64
         ],
         "showticklabels": false
        },
        "xaxis73": {
         "anchor": "y73",
         "domain": [
          0.14489795918367346,
          0.2030612244897959
         ],
         "matches": "x185",
         "range": [
          0.7573462327074572,
          0.9292811142151904
         ],
         "showticklabels": false
        },
        "xaxis74": {
         "anchor": "y74",
         "domain": [
          0.2173469387755102,
          0.2755102040816326
         ],
         "matches": "x186",
         "range": [
          0.2777156317392936,
          0.4934688038730549
         ],
         "showticklabels": false
        },
        "xaxis75": {
         "anchor": "y75",
         "domain": [
          0.2897959183673469,
          0.34795918367346934
         ],
         "matches": "x187",
         "range": [
          0.4319286909453611,
          0.8373025398621657
         ],
         "showticklabels": false
        },
        "xaxis76": {
         "anchor": "y76",
         "domain": [
          0.3622448979591837,
          0.4204081632653061
         ],
         "matches": "x188",
         "range": [
          0.9252534962135638,
          0.9252534962135638
         ],
         "showticklabels": false
        },
        "xaxis77": {
         "anchor": "y77",
         "domain": [
          0.4346938775510204,
          0.4928571428571428
         ],
         "matches": "x189",
         "range": [
          64,
          128
         ],
         "showticklabels": false
        },
        "xaxis78": {
         "anchor": "y78",
         "domain": [
          0.5071428571428571,
          0.5653061224489796
         ],
         "matches": "x190",
         "range": [
          32,
          32
         ],
         "showticklabels": false
        },
        "xaxis79": {
         "anchor": "y79",
         "domain": [
          0.5795918367346938,
          0.6377551020408163
         ],
         "matches": "x191",
         "range": [
          64,
          128
         ],
         "showticklabels": false
        },
        "xaxis8": {
         "anchor": "y8",
         "domain": [
          0.5071428571428571,
          0.5653061224489796
         ],
         "matches": "x190",
         "range": [
          32,
          32
         ],
         "showticklabels": false
        },
        "xaxis80": {
         "anchor": "y80",
         "domain": [
          0.6520408163265305,
          0.710204081632653
         ],
         "matches": "x192",
         "range": [
          16,
          16
         ],
         "showticklabels": false
        },
        "xaxis81": {
         "anchor": "y81",
         "domain": [
          0.7244897959183674,
          0.7826530612244899
         ],
         "matches": "x193",
         "range": [
          3,
          4
         ],
         "showticklabels": false
        },
        "xaxis82": {
         "anchor": "y82",
         "domain": [
          0.7969387755102041,
          0.8551020408163266
         ],
         "matches": "x194",
         "range": [
          3,
          4
         ],
         "showticklabels": false
        },
        "xaxis83": {
         "anchor": "y83",
         "domain": [
          0.8693877551020408,
          0.9275510204081633
         ],
         "matches": "x195",
         "range": [
          2,
          3
         ],
         "showticklabels": false
        },
        "xaxis84": {
         "anchor": "y84",
         "domain": [
          0.9418367346938776,
          1
         ],
         "matches": "x196",
         "range": [
          2,
          2
         ],
         "showticklabels": false
        },
        "xaxis85": {
         "anchor": "y85",
         "domain": [
          0,
          0.058163265306122446
         ],
         "matches": "x183",
         "range": [
          false,
          true
         ],
         "showticklabels": false
        },
        "xaxis86": {
         "anchor": "y86",
         "domain": [
          0.07244897959183673,
          0.13061224489795917
         ],
         "matches": "x184",
         "range": [
          64,
          64
         ],
         "showticklabels": false
        },
        "xaxis87": {
         "anchor": "y87",
         "domain": [
          0.14489795918367346,
          0.2030612244897959
         ],
         "matches": "x185",
         "range": [
          0.7573462327074572,
          0.9292811142151904
         ],
         "showticklabels": false
        },
        "xaxis88": {
         "anchor": "y88",
         "domain": [
          0.2173469387755102,
          0.2755102040816326
         ],
         "matches": "x186",
         "range": [
          0.2777156317392936,
          0.4934688038730549
         ],
         "showticklabels": false
        },
        "xaxis89": {
         "anchor": "y89",
         "domain": [
          0.2897959183673469,
          0.34795918367346934
         ],
         "matches": "x187",
         "range": [
          0.4319286909453611,
          0.8373025398621657
         ],
         "showticklabels": false
        },
        "xaxis9": {
         "anchor": "y9",
         "domain": [
          0.5795918367346938,
          0.6377551020408163
         ],
         "matches": "x191",
         "range": [
          64,
          128
         ],
         "showticklabels": false
        },
        "xaxis90": {
         "anchor": "y90",
         "domain": [
          0.3622448979591837,
          0.4204081632653061
         ],
         "matches": "x188",
         "range": [
          0.9252534962135638,
          0.9252534962135638
         ],
         "showticklabels": false
        },
        "xaxis91": {
         "anchor": "y91",
         "domain": [
          0.4346938775510204,
          0.4928571428571428
         ],
         "matches": "x189",
         "range": [
          64,
          128
         ],
         "showticklabels": false
        },
        "xaxis92": {
         "anchor": "y92",
         "domain": [
          0.5071428571428571,
          0.5653061224489796
         ],
         "matches": "x190",
         "range": [
          32,
          32
         ],
         "showticklabels": false
        },
        "xaxis93": {
         "anchor": "y93",
         "domain": [
          0.5795918367346938,
          0.6377551020408163
         ],
         "matches": "x191",
         "range": [
          64,
          128
         ],
         "showticklabels": false
        },
        "xaxis94": {
         "anchor": "y94",
         "domain": [
          0.6520408163265305,
          0.710204081632653
         ],
         "matches": "x192",
         "range": [
          16,
          16
         ],
         "showticklabels": false
        },
        "xaxis95": {
         "anchor": "y95",
         "domain": [
          0.7244897959183674,
          0.7826530612244899
         ],
         "matches": "x193",
         "range": [
          3,
          4
         ],
         "showticklabels": false
        },
        "xaxis96": {
         "anchor": "y96",
         "domain": [
          0.7969387755102041,
          0.8551020408163266
         ],
         "matches": "x194",
         "range": [
          3,
          4
         ],
         "showticklabels": false
        },
        "xaxis97": {
         "anchor": "y97",
         "domain": [
          0.8693877551020408,
          0.9275510204081633
         ],
         "matches": "x195",
         "range": [
          2,
          3
         ],
         "showticklabels": false
        },
        "xaxis98": {
         "anchor": "y98",
         "domain": [
          0.9418367346938776,
          1
         ],
         "matches": "x196",
         "range": [
          2,
          2
         ],
         "showticklabels": false
        },
        "xaxis99": {
         "anchor": "y99",
         "domain": [
          0,
          0.058163265306122446
         ],
         "matches": "x183",
         "range": [
          false,
          true
         ],
         "showticklabels": false
        },
        "yaxis": {
         "anchor": "x",
         "domain": [
          0.948469387755102,
          1
         ],
         "range": [
          false,
          true
         ],
         "title": {
          "text": "Fourth Layer"
         }
        },
        "yaxis10": {
         "anchor": "x10",
         "domain": [
          0.948469387755102,
          1
         ],
         "matches": "y",
         "range": [
          false,
          true
         ],
         "showticklabels": false
        },
        "yaxis100": {
         "anchor": "x100",
         "domain": [
          0.4377551020408163,
          0.48928571428571427
         ],
         "matches": "y99",
         "range": [
          32,
          32
         ],
         "showticklabels": false
        },
        "yaxis101": {
         "anchor": "x101",
         "domain": [
          0.4377551020408163,
          0.48928571428571427
         ],
         "matches": "y99",
         "range": [
          32,
          32
         ],
         "showticklabels": false
        },
        "yaxis102": {
         "anchor": "x102",
         "domain": [
          0.4377551020408163,
          0.48928571428571427
         ],
         "matches": "y99",
         "range": [
          32,
          32
         ],
         "showticklabels": false
        },
        "yaxis103": {
         "anchor": "x103",
         "domain": [
          0.4377551020408163,
          0.48928571428571427
         ],
         "matches": "y99",
         "range": [
          32,
          32
         ],
         "showticklabels": false
        },
        "yaxis104": {
         "anchor": "x104",
         "domain": [
          0.4377551020408163,
          0.48928571428571427
         ],
         "matches": "y99",
         "range": [
          32,
          32
         ],
         "showticklabels": false
        },
        "yaxis105": {
         "anchor": "x105",
         "domain": [
          0.4377551020408163,
          0.48928571428571427
         ],
         "matches": "y99",
         "range": [
          32,
          32
         ],
         "showticklabels": false
        },
        "yaxis106": {
         "anchor": "x106",
         "domain": [
          0.4377551020408163,
          0.48928571428571427
         ],
         "matches": "y99",
         "range": [
          32,
          32
         ],
         "showticklabels": false
        },
        "yaxis107": {
         "anchor": "x107",
         "domain": [
          0.4377551020408163,
          0.48928571428571427
         ],
         "matches": "y99",
         "range": [
          32,
          32
         ],
         "showticklabels": false
        },
        "yaxis108": {
         "anchor": "x108",
         "domain": [
          0.4377551020408163,
          0.48928571428571427
         ],
         "matches": "y99",
         "range": [
          32,
          32
         ],
         "showticklabels": false
        },
        "yaxis109": {
         "anchor": "x109",
         "domain": [
          0.4377551020408163,
          0.48928571428571427
         ],
         "matches": "y99",
         "range": [
          32,
          32
         ],
         "showticklabels": false
        },
        "yaxis11": {
         "anchor": "x11",
         "domain": [
          0.948469387755102,
          1
         ],
         "matches": "y",
         "range": [
          false,
          true
         ],
         "showticklabels": false
        },
        "yaxis110": {
         "anchor": "x110",
         "domain": [
          0.4377551020408163,
          0.48928571428571427
         ],
         "matches": "y99",
         "range": [
          32,
          32
         ],
         "showticklabels": false
        },
        "yaxis111": {
         "anchor": "x111",
         "domain": [
          0.4377551020408163,
          0.48928571428571427
         ],
         "matches": "y99",
         "range": [
          32,
          32
         ],
         "showticklabels": false
        },
        "yaxis112": {
         "anchor": "x112",
         "domain": [
          0.4377551020408163,
          0.48928571428571427
         ],
         "matches": "y99",
         "range": [
          32,
          32
         ],
         "showticklabels": false
        },
        "yaxis113": {
         "anchor": "x113",
         "domain": [
          0.3647959183673469,
          0.4163265306122449
         ],
         "range": [
          64,
          128
         ],
         "title": {
          "text": "filters_3"
         }
        },
        "yaxis114": {
         "anchor": "x114",
         "domain": [
          0.3647959183673469,
          0.4163265306122449
         ],
         "matches": "y113",
         "range": [
          64,
          128
         ],
         "showticklabels": false
        },
        "yaxis115": {
         "anchor": "x115",
         "domain": [
          0.3647959183673469,
          0.4163265306122449
         ],
         "matches": "y113",
         "range": [
          64,
          128
         ],
         "showticklabels": false
        },
        "yaxis116": {
         "anchor": "x116",
         "domain": [
          0.3647959183673469,
          0.4163265306122449
         ],
         "matches": "y113",
         "range": [
          64,
          128
         ],
         "showticklabels": false
        },
        "yaxis117": {
         "anchor": "x117",
         "domain": [
          0.3647959183673469,
          0.4163265306122449
         ],
         "matches": "y113",
         "range": [
          64,
          128
         ],
         "showticklabels": false
        },
        "yaxis118": {
         "anchor": "x118",
         "domain": [
          0.3647959183673469,
          0.4163265306122449
         ],
         "matches": "y113",
         "range": [
          64,
          128
         ],
         "showticklabels": false
        },
        "yaxis119": {
         "anchor": "x119",
         "domain": [
          0.3647959183673469,
          0.4163265306122449
         ],
         "matches": "y113",
         "range": [
          64,
          128
         ],
         "showticklabels": false
        },
        "yaxis12": {
         "anchor": "x12",
         "domain": [
          0.948469387755102,
          1
         ],
         "matches": "y",
         "range": [
          false,
          true
         ],
         "showticklabels": false
        },
        "yaxis120": {
         "anchor": "x120",
         "domain": [
          0.3647959183673469,
          0.4163265306122449
         ],
         "matches": "y113",
         "range": [
          64,
          128
         ],
         "showticklabels": false
        },
        "yaxis121": {
         "anchor": "x121",
         "domain": [
          0.3647959183673469,
          0.4163265306122449
         ],
         "matches": "y113",
         "range": [
          64,
          128
         ],
         "showticklabels": false
        },
        "yaxis122": {
         "anchor": "x122",
         "domain": [
          0.3647959183673469,
          0.4163265306122449
         ],
         "matches": "y113",
         "range": [
          64,
          128
         ],
         "showticklabels": false
        },
        "yaxis123": {
         "anchor": "x123",
         "domain": [
          0.3647959183673469,
          0.4163265306122449
         ],
         "matches": "y113",
         "range": [
          64,
          128
         ],
         "showticklabels": false
        },
        "yaxis124": {
         "anchor": "x124",
         "domain": [
          0.3647959183673469,
          0.4163265306122449
         ],
         "matches": "y113",
         "range": [
          64,
          128
         ],
         "showticklabels": false
        },
        "yaxis125": {
         "anchor": "x125",
         "domain": [
          0.3647959183673469,
          0.4163265306122449
         ],
         "matches": "y113",
         "range": [
          64,
          128
         ],
         "showticklabels": false
        },
        "yaxis126": {
         "anchor": "x126",
         "domain": [
          0.3647959183673469,
          0.4163265306122449
         ],
         "matches": "y113",
         "range": [
          64,
          128
         ],
         "showticklabels": false
        },
        "yaxis127": {
         "anchor": "x127",
         "domain": [
          0.29183673469387755,
          0.3433673469387755
         ],
         "range": [
          16,
          16
         ],
         "title": {
          "text": "filters_4"
         }
        },
        "yaxis128": {
         "anchor": "x128",
         "domain": [
          0.29183673469387755,
          0.3433673469387755
         ],
         "matches": "y127",
         "range": [
          16,
          16
         ],
         "showticklabels": false
        },
        "yaxis129": {
         "anchor": "x129",
         "domain": [
          0.29183673469387755,
          0.3433673469387755
         ],
         "matches": "y127",
         "range": [
          16,
          16
         ],
         "showticklabels": false
        },
        "yaxis13": {
         "anchor": "x13",
         "domain": [
          0.948469387755102,
          1
         ],
         "matches": "y",
         "range": [
          false,
          true
         ],
         "showticklabels": false
        },
        "yaxis130": {
         "anchor": "x130",
         "domain": [
          0.29183673469387755,
          0.3433673469387755
         ],
         "matches": "y127",
         "range": [
          16,
          16
         ],
         "showticklabels": false
        },
        "yaxis131": {
         "anchor": "x131",
         "domain": [
          0.29183673469387755,
          0.3433673469387755
         ],
         "matches": "y127",
         "range": [
          16,
          16
         ],
         "showticklabels": false
        },
        "yaxis132": {
         "anchor": "x132",
         "domain": [
          0.29183673469387755,
          0.3433673469387755
         ],
         "matches": "y127",
         "range": [
          16,
          16
         ],
         "showticklabels": false
        },
        "yaxis133": {
         "anchor": "x133",
         "domain": [
          0.29183673469387755,
          0.3433673469387755
         ],
         "matches": "y127",
         "range": [
          16,
          16
         ],
         "showticklabels": false
        },
        "yaxis134": {
         "anchor": "x134",
         "domain": [
          0.29183673469387755,
          0.3433673469387755
         ],
         "matches": "y127",
         "range": [
          16,
          16
         ],
         "showticklabels": false
        },
        "yaxis135": {
         "anchor": "x135",
         "domain": [
          0.29183673469387755,
          0.3433673469387755
         ],
         "matches": "y127",
         "range": [
          16,
          16
         ],
         "showticklabels": false
        },
        "yaxis136": {
         "anchor": "x136",
         "domain": [
          0.29183673469387755,
          0.3433673469387755
         ],
         "matches": "y127",
         "range": [
          16,
          16
         ],
         "showticklabels": false
        },
        "yaxis137": {
         "anchor": "x137",
         "domain": [
          0.29183673469387755,
          0.3433673469387755
         ],
         "matches": "y127",
         "range": [
          16,
          16
         ],
         "showticklabels": false
        },
        "yaxis138": {
         "anchor": "x138",
         "domain": [
          0.29183673469387755,
          0.3433673469387755
         ],
         "matches": "y127",
         "range": [
          16,
          16
         ],
         "showticklabels": false
        },
        "yaxis139": {
         "anchor": "x139",
         "domain": [
          0.29183673469387755,
          0.3433673469387755
         ],
         "matches": "y127",
         "range": [
          16,
          16
         ],
         "showticklabels": false
        },
        "yaxis14": {
         "anchor": "x14",
         "domain": [
          0.948469387755102,
          1
         ],
         "matches": "y",
         "range": [
          false,
          true
         ],
         "showticklabels": false
        },
        "yaxis140": {
         "anchor": "x140",
         "domain": [
          0.29183673469387755,
          0.3433673469387755
         ],
         "matches": "y127",
         "range": [
          16,
          16
         ],
         "showticklabels": false
        },
        "yaxis141": {
         "anchor": "x141",
         "domain": [
          0.21887755102040815,
          0.2704081632653061
         ],
         "range": [
          3,
          4
         ],
         "title": {
          "text": "kernel_size_1"
         }
        },
        "yaxis142": {
         "anchor": "x142",
         "domain": [
          0.21887755102040815,
          0.2704081632653061
         ],
         "matches": "y141",
         "range": [
          3,
          4
         ],
         "showticklabels": false
        },
        "yaxis143": {
         "anchor": "x143",
         "domain": [
          0.21887755102040815,
          0.2704081632653061
         ],
         "matches": "y141",
         "range": [
          3,
          4
         ],
         "showticklabels": false
        },
        "yaxis144": {
         "anchor": "x144",
         "domain": [
          0.21887755102040815,
          0.2704081632653061
         ],
         "matches": "y141",
         "range": [
          3,
          4
         ],
         "showticklabels": false
        },
        "yaxis145": {
         "anchor": "x145",
         "domain": [
          0.21887755102040815,
          0.2704081632653061
         ],
         "matches": "y141",
         "range": [
          3,
          4
         ],
         "showticklabels": false
        },
        "yaxis146": {
         "anchor": "x146",
         "domain": [
          0.21887755102040815,
          0.2704081632653061
         ],
         "matches": "y141",
         "range": [
          3,
          4
         ],
         "showticklabels": false
        },
        "yaxis147": {
         "anchor": "x147",
         "domain": [
          0.21887755102040815,
          0.2704081632653061
         ],
         "matches": "y141",
         "range": [
          3,
          4
         ],
         "showticklabels": false
        },
        "yaxis148": {
         "anchor": "x148",
         "domain": [
          0.21887755102040815,
          0.2704081632653061
         ],
         "matches": "y141",
         "range": [
          3,
          4
         ],
         "showticklabels": false
        },
        "yaxis149": {
         "anchor": "x149",
         "domain": [
          0.21887755102040815,
          0.2704081632653061
         ],
         "matches": "y141",
         "range": [
          3,
          4
         ],
         "showticklabels": false
        },
        "yaxis15": {
         "anchor": "x15",
         "domain": [
          0.8755102040816326,
          0.9270408163265306
         ],
         "range": [
          64,
          64
         ],
         "title": {
          "text": "dense_layer_nodes_1"
         }
        },
        "yaxis150": {
         "anchor": "x150",
         "domain": [
          0.21887755102040815,
          0.2704081632653061
         ],
         "matches": "y141",
         "range": [
          3,
          4
         ],
         "showticklabels": false
        },
        "yaxis151": {
         "anchor": "x151",
         "domain": [
          0.21887755102040815,
          0.2704081632653061
         ],
         "matches": "y141",
         "range": [
          3,
          4
         ],
         "showticklabels": false
        },
        "yaxis152": {
         "anchor": "x152",
         "domain": [
          0.21887755102040815,
          0.2704081632653061
         ],
         "matches": "y141",
         "range": [
          3,
          4
         ],
         "showticklabels": false
        },
        "yaxis153": {
         "anchor": "x153",
         "domain": [
          0.21887755102040815,
          0.2704081632653061
         ],
         "matches": "y141",
         "range": [
          3,
          4
         ],
         "showticklabels": false
        },
        "yaxis154": {
         "anchor": "x154",
         "domain": [
          0.21887755102040815,
          0.2704081632653061
         ],
         "matches": "y141",
         "range": [
          3,
          4
         ],
         "showticklabels": false
        },
        "yaxis155": {
         "anchor": "x155",
         "domain": [
          0.14591836734693878,
          0.19744897959183674
         ],
         "range": [
          3,
          4
         ],
         "title": {
          "text": "kernel_size_2"
         }
        },
        "yaxis156": {
         "anchor": "x156",
         "domain": [
          0.14591836734693878,
          0.19744897959183674
         ],
         "matches": "y155",
         "range": [
          3,
          4
         ],
         "showticklabels": false
        },
        "yaxis157": {
         "anchor": "x157",
         "domain": [
          0.14591836734693878,
          0.19744897959183674
         ],
         "matches": "y155",
         "range": [
          3,
          4
         ],
         "showticklabels": false
        },
        "yaxis158": {
         "anchor": "x158",
         "domain": [
          0.14591836734693878,
          0.19744897959183674
         ],
         "matches": "y155",
         "range": [
          3,
          4
         ],
         "showticklabels": false
        },
        "yaxis159": {
         "anchor": "x159",
         "domain": [
          0.14591836734693878,
          0.19744897959183674
         ],
         "matches": "y155",
         "range": [
          3,
          4
         ],
         "showticklabels": false
        },
        "yaxis16": {
         "anchor": "x16",
         "domain": [
          0.8755102040816326,
          0.9270408163265306
         ],
         "matches": "y15",
         "range": [
          64,
          64
         ],
         "showticklabels": false
        },
        "yaxis160": {
         "anchor": "x160",
         "domain": [
          0.14591836734693878,
          0.19744897959183674
         ],
         "matches": "y155",
         "range": [
          3,
          4
         ],
         "showticklabels": false
        },
        "yaxis161": {
         "anchor": "x161",
         "domain": [
          0.14591836734693878,
          0.19744897959183674
         ],
         "matches": "y155",
         "range": [
          3,
          4
         ],
         "showticklabels": false
        },
        "yaxis162": {
         "anchor": "x162",
         "domain": [
          0.14591836734693878,
          0.19744897959183674
         ],
         "matches": "y155",
         "range": [
          3,
          4
         ],
         "showticklabels": false
        },
        "yaxis163": {
         "anchor": "x163",
         "domain": [
          0.14591836734693878,
          0.19744897959183674
         ],
         "matches": "y155",
         "range": [
          3,
          4
         ],
         "showticklabels": false
        },
        "yaxis164": {
         "anchor": "x164",
         "domain": [
          0.14591836734693878,
          0.19744897959183674
         ],
         "matches": "y155",
         "range": [
          3,
          4
         ],
         "showticklabels": false
        },
        "yaxis165": {
         "anchor": "x165",
         "domain": [
          0.14591836734693878,
          0.19744897959183674
         ],
         "matches": "y155",
         "range": [
          3,
          4
         ],
         "showticklabels": false
        },
        "yaxis166": {
         "anchor": "x166",
         "domain": [
          0.14591836734693878,
          0.19744897959183674
         ],
         "matches": "y155",
         "range": [
          3,
          4
         ],
         "showticklabels": false
        },
        "yaxis167": {
         "anchor": "x167",
         "domain": [
          0.14591836734693878,
          0.19744897959183674
         ],
         "matches": "y155",
         "range": [
          3,
          4
         ],
         "showticklabels": false
        },
        "yaxis168": {
         "anchor": "x168",
         "domain": [
          0.14591836734693878,
          0.19744897959183674
         ],
         "matches": "y155",
         "range": [
          3,
          4
         ],
         "showticklabels": false
        },
        "yaxis169": {
         "anchor": "x169",
         "domain": [
          0.07295918367346939,
          0.12448979591836734
         ],
         "range": [
          2,
          3
         ],
         "title": {
          "text": "kernel_size_3"
         }
        },
        "yaxis17": {
         "anchor": "x17",
         "domain": [
          0.8755102040816326,
          0.9270408163265306
         ],
         "matches": "y15",
         "range": [
          64,
          64
         ],
         "showticklabels": false
        },
        "yaxis170": {
         "anchor": "x170",
         "domain": [
          0.07295918367346939,
          0.12448979591836734
         ],
         "matches": "y169",
         "range": [
          2,
          3
         ],
         "showticklabels": false
        },
        "yaxis171": {
         "anchor": "x171",
         "domain": [
          0.07295918367346939,
          0.12448979591836734
         ],
         "matches": "y169",
         "range": [
          2,
          3
         ],
         "showticklabels": false
        },
        "yaxis172": {
         "anchor": "x172",
         "domain": [
          0.07295918367346939,
          0.12448979591836734
         ],
         "matches": "y169",
         "range": [
          2,
          3
         ],
         "showticklabels": false
        },
        "yaxis173": {
         "anchor": "x173",
         "domain": [
          0.07295918367346939,
          0.12448979591836734
         ],
         "matches": "y169",
         "range": [
          2,
          3
         ],
         "showticklabels": false
        },
        "yaxis174": {
         "anchor": "x174",
         "domain": [
          0.07295918367346939,
          0.12448979591836734
         ],
         "matches": "y169",
         "range": [
          2,
          3
         ],
         "showticklabels": false
        },
        "yaxis175": {
         "anchor": "x175",
         "domain": [
          0.07295918367346939,
          0.12448979591836734
         ],
         "matches": "y169",
         "range": [
          2,
          3
         ],
         "showticklabels": false
        },
        "yaxis176": {
         "anchor": "x176",
         "domain": [
          0.07295918367346939,
          0.12448979591836734
         ],
         "matches": "y169",
         "range": [
          2,
          3
         ],
         "showticklabels": false
        },
        "yaxis177": {
         "anchor": "x177",
         "domain": [
          0.07295918367346939,
          0.12448979591836734
         ],
         "matches": "y169",
         "range": [
          2,
          3
         ],
         "showticklabels": false
        },
        "yaxis178": {
         "anchor": "x178",
         "domain": [
          0.07295918367346939,
          0.12448979591836734
         ],
         "matches": "y169",
         "range": [
          2,
          3
         ],
         "showticklabels": false
        },
        "yaxis179": {
         "anchor": "x179",
         "domain": [
          0.07295918367346939,
          0.12448979591836734
         ],
         "matches": "y169",
         "range": [
          2,
          3
         ],
         "showticklabels": false
        },
        "yaxis18": {
         "anchor": "x18",
         "domain": [
          0.8755102040816326,
          0.9270408163265306
         ],
         "matches": "y15",
         "range": [
          64,
          64
         ],
         "showticklabels": false
        },
        "yaxis180": {
         "anchor": "x180",
         "domain": [
          0.07295918367346939,
          0.12448979591836734
         ],
         "matches": "y169",
         "range": [
          2,
          3
         ],
         "showticklabels": false
        },
        "yaxis181": {
         "anchor": "x181",
         "domain": [
          0.07295918367346939,
          0.12448979591836734
         ],
         "matches": "y169",
         "range": [
          2,
          3
         ],
         "showticklabels": false
        },
        "yaxis182": {
         "anchor": "x182",
         "domain": [
          0.07295918367346939,
          0.12448979591836734
         ],
         "matches": "y169",
         "range": [
          2,
          3
         ],
         "showticklabels": false
        },
        "yaxis183": {
         "anchor": "x183",
         "domain": [
          0,
          0.05153061224489796
         ],
         "range": [
          2,
          2
         ],
         "title": {
          "text": "kernel_size_4"
         }
        },
        "yaxis184": {
         "anchor": "x184",
         "domain": [
          0,
          0.05153061224489796
         ],
         "matches": "y183",
         "range": [
          2,
          2
         ],
         "showticklabels": false
        },
        "yaxis185": {
         "anchor": "x185",
         "domain": [
          0,
          0.05153061224489796
         ],
         "matches": "y183",
         "range": [
          2,
          2
         ],
         "showticklabels": false
        },
        "yaxis186": {
         "anchor": "x186",
         "domain": [
          0,
          0.05153061224489796
         ],
         "matches": "y183",
         "range": [
          2,
          2
         ],
         "showticklabels": false
        },
        "yaxis187": {
         "anchor": "x187",
         "domain": [
          0,
          0.05153061224489796
         ],
         "matches": "y183",
         "range": [
          2,
          2
         ],
         "showticklabels": false
        },
        "yaxis188": {
         "anchor": "x188",
         "domain": [
          0,
          0.05153061224489796
         ],
         "matches": "y183",
         "range": [
          2,
          2
         ],
         "showticklabels": false
        },
        "yaxis189": {
         "anchor": "x189",
         "domain": [
          0,
          0.05153061224489796
         ],
         "matches": "y183",
         "range": [
          2,
          2
         ],
         "showticklabels": false
        },
        "yaxis19": {
         "anchor": "x19",
         "domain": [
          0.8755102040816326,
          0.9270408163265306
         ],
         "matches": "y15",
         "range": [
          64,
          64
         ],
         "showticklabels": false
        },
        "yaxis190": {
         "anchor": "x190",
         "domain": [
          0,
          0.05153061224489796
         ],
         "matches": "y183",
         "range": [
          2,
          2
         ],
         "showticklabels": false
        },
        "yaxis191": {
         "anchor": "x191",
         "domain": [
          0,
          0.05153061224489796
         ],
         "matches": "y183",
         "range": [
          2,
          2
         ],
         "showticklabels": false
        },
        "yaxis192": {
         "anchor": "x192",
         "domain": [
          0,
          0.05153061224489796
         ],
         "matches": "y183",
         "range": [
          2,
          2
         ],
         "showticklabels": false
        },
        "yaxis193": {
         "anchor": "x193",
         "domain": [
          0,
          0.05153061224489796
         ],
         "matches": "y183",
         "range": [
          2,
          2
         ],
         "showticklabels": false
        },
        "yaxis194": {
         "anchor": "x194",
         "domain": [
          0,
          0.05153061224489796
         ],
         "matches": "y183",
         "range": [
          2,
          2
         ],
         "showticklabels": false
        },
        "yaxis195": {
         "anchor": "x195",
         "domain": [
          0,
          0.05153061224489796
         ],
         "matches": "y183",
         "range": [
          2,
          2
         ],
         "showticklabels": false
        },
        "yaxis196": {
         "anchor": "x196",
         "domain": [
          0,
          0.05153061224489796
         ],
         "matches": "y183",
         "range": [
          2,
          2
         ],
         "showticklabels": false
        },
        "yaxis2": {
         "anchor": "x2",
         "domain": [
          0.948469387755102,
          1
         ],
         "matches": "y",
         "range": [
          false,
          true
         ],
         "showticklabels": false
        },
        "yaxis20": {
         "anchor": "x20",
         "domain": [
          0.8755102040816326,
          0.9270408163265306
         ],
         "matches": "y15",
         "range": [
          64,
          64
         ],
         "showticklabels": false
        },
        "yaxis21": {
         "anchor": "x21",
         "domain": [
          0.8755102040816326,
          0.9270408163265306
         ],
         "matches": "y15",
         "range": [
          64,
          64
         ],
         "showticklabels": false
        },
        "yaxis22": {
         "anchor": "x22",
         "domain": [
          0.8755102040816326,
          0.9270408163265306
         ],
         "matches": "y15",
         "range": [
          64,
          64
         ],
         "showticklabels": false
        },
        "yaxis23": {
         "anchor": "x23",
         "domain": [
          0.8755102040816326,
          0.9270408163265306
         ],
         "matches": "y15",
         "range": [
          64,
          64
         ],
         "showticklabels": false
        },
        "yaxis24": {
         "anchor": "x24",
         "domain": [
          0.8755102040816326,
          0.9270408163265306
         ],
         "matches": "y15",
         "range": [
          64,
          64
         ],
         "showticklabels": false
        },
        "yaxis25": {
         "anchor": "x25",
         "domain": [
          0.8755102040816326,
          0.9270408163265306
         ],
         "matches": "y15",
         "range": [
          64,
          64
         ],
         "showticklabels": false
        },
        "yaxis26": {
         "anchor": "x26",
         "domain": [
          0.8755102040816326,
          0.9270408163265306
         ],
         "matches": "y15",
         "range": [
          64,
          64
         ],
         "showticklabels": false
        },
        "yaxis27": {
         "anchor": "x27",
         "domain": [
          0.8755102040816326,
          0.9270408163265306
         ],
         "matches": "y15",
         "range": [
          64,
          64
         ],
         "showticklabels": false
        },
        "yaxis28": {
         "anchor": "x28",
         "domain": [
          0.8755102040816326,
          0.9270408163265306
         ],
         "matches": "y15",
         "range": [
          64,
          64
         ],
         "showticklabels": false
        },
        "yaxis29": {
         "anchor": "x29",
         "domain": [
          0.8025510204081632,
          0.8540816326530611
         ],
         "range": [
          0.7573462327074572,
          0.9292811142151904
         ],
         "title": {
          "text": "dropout_1"
         }
        },
        "yaxis3": {
         "anchor": "x3",
         "domain": [
          0.948469387755102,
          1
         ],
         "matches": "y",
         "range": [
          false,
          true
         ],
         "showticklabels": false
        },
        "yaxis30": {
         "anchor": "x30",
         "domain": [
          0.8025510204081632,
          0.8540816326530611
         ],
         "matches": "y29",
         "range": [
          0.7573462327074572,
          0.9292811142151904
         ],
         "showticklabels": false
        },
        "yaxis31": {
         "anchor": "x31",
         "domain": [
          0.8025510204081632,
          0.8540816326530611
         ],
         "matches": "y29",
         "range": [
          0.7573462327074572,
          0.9292811142151904
         ],
         "showticklabels": false
        },
        "yaxis32": {
         "anchor": "x32",
         "domain": [
          0.8025510204081632,
          0.8540816326530611
         ],
         "matches": "y29",
         "range": [
          0.7573462327074572,
          0.9292811142151904
         ],
         "showticklabels": false
        },
        "yaxis33": {
         "anchor": "x33",
         "domain": [
          0.8025510204081632,
          0.8540816326530611
         ],
         "matches": "y29",
         "range": [
          0.7573462327074572,
          0.9292811142151904
         ],
         "showticklabels": false
        },
        "yaxis34": {
         "anchor": "x34",
         "domain": [
          0.8025510204081632,
          0.8540816326530611
         ],
         "matches": "y29",
         "range": [
          0.7573462327074572,
          0.9292811142151904
         ],
         "showticklabels": false
        },
        "yaxis35": {
         "anchor": "x35",
         "domain": [
          0.8025510204081632,
          0.8540816326530611
         ],
         "matches": "y29",
         "range": [
          0.7573462327074572,
          0.9292811142151904
         ],
         "showticklabels": false
        },
        "yaxis36": {
         "anchor": "x36",
         "domain": [
          0.8025510204081632,
          0.8540816326530611
         ],
         "matches": "y29",
         "range": [
          0.7573462327074572,
          0.9292811142151904
         ],
         "showticklabels": false
        },
        "yaxis37": {
         "anchor": "x37",
         "domain": [
          0.8025510204081632,
          0.8540816326530611
         ],
         "matches": "y29",
         "range": [
          0.7573462327074572,
          0.9292811142151904
         ],
         "showticklabels": false
        },
        "yaxis38": {
         "anchor": "x38",
         "domain": [
          0.8025510204081632,
          0.8540816326530611
         ],
         "matches": "y29",
         "range": [
          0.7573462327074572,
          0.9292811142151904
         ],
         "showticklabels": false
        },
        "yaxis39": {
         "anchor": "x39",
         "domain": [
          0.8025510204081632,
          0.8540816326530611
         ],
         "matches": "y29",
         "range": [
          0.7573462327074572,
          0.9292811142151904
         ],
         "showticklabels": false
        },
        "yaxis4": {
         "anchor": "x4",
         "domain": [
          0.948469387755102,
          1
         ],
         "matches": "y",
         "range": [
          false,
          true
         ],
         "showticklabels": false
        },
        "yaxis40": {
         "anchor": "x40",
         "domain": [
          0.8025510204081632,
          0.8540816326530611
         ],
         "matches": "y29",
         "range": [
          0.7573462327074572,
          0.9292811142151904
         ],
         "showticklabels": false
        },
        "yaxis41": {
         "anchor": "x41",
         "domain": [
          0.8025510204081632,
          0.8540816326530611
         ],
         "matches": "y29",
         "range": [
          0.7573462327074572,
          0.9292811142151904
         ],
         "showticklabels": false
        },
        "yaxis42": {
         "anchor": "x42",
         "domain": [
          0.8025510204081632,
          0.8540816326530611
         ],
         "matches": "y29",
         "range": [
          0.7573462327074572,
          0.9292811142151904
         ],
         "showticklabels": false
        },
        "yaxis43": {
         "anchor": "x43",
         "domain": [
          0.7295918367346939,
          0.7811224489795918
         ],
         "range": [
          0.2777156317392936,
          0.4934688038730549
         ],
         "title": {
          "text": "dropout_2"
         }
        },
        "yaxis44": {
         "anchor": "x44",
         "domain": [
          0.7295918367346939,
          0.7811224489795918
         ],
         "matches": "y43",
         "range": [
          0.2777156317392936,
          0.4934688038730549
         ],
         "showticklabels": false
        },
        "yaxis45": {
         "anchor": "x45",
         "domain": [
          0.7295918367346939,
          0.7811224489795918
         ],
         "matches": "y43",
         "range": [
          0.2777156317392936,
          0.4934688038730549
         ],
         "showticklabels": false
        },
        "yaxis46": {
         "anchor": "x46",
         "domain": [
          0.7295918367346939,
          0.7811224489795918
         ],
         "matches": "y43",
         "range": [
          0.2777156317392936,
          0.4934688038730549
         ],
         "showticklabels": false
        },
        "yaxis47": {
         "anchor": "x47",
         "domain": [
          0.7295918367346939,
          0.7811224489795918
         ],
         "matches": "y43",
         "range": [
          0.2777156317392936,
          0.4934688038730549
         ],
         "showticklabels": false
        },
        "yaxis48": {
         "anchor": "x48",
         "domain": [
          0.7295918367346939,
          0.7811224489795918
         ],
         "matches": "y43",
         "range": [
          0.2777156317392936,
          0.4934688038730549
         ],
         "showticklabels": false
        },
        "yaxis49": {
         "anchor": "x49",
         "domain": [
          0.7295918367346939,
          0.7811224489795918
         ],
         "matches": "y43",
         "range": [
          0.2777156317392936,
          0.4934688038730549
         ],
         "showticklabels": false
        },
        "yaxis5": {
         "anchor": "x5",
         "domain": [
          0.948469387755102,
          1
         ],
         "matches": "y",
         "range": [
          false,
          true
         ],
         "showticklabels": false
        },
        "yaxis50": {
         "anchor": "x50",
         "domain": [
          0.7295918367346939,
          0.7811224489795918
         ],
         "matches": "y43",
         "range": [
          0.2777156317392936,
          0.4934688038730549
         ],
         "showticklabels": false
        },
        "yaxis51": {
         "anchor": "x51",
         "domain": [
          0.7295918367346939,
          0.7811224489795918
         ],
         "matches": "y43",
         "range": [
          0.2777156317392936,
          0.4934688038730549
         ],
         "showticklabels": false
        },
        "yaxis52": {
         "anchor": "x52",
         "domain": [
          0.7295918367346939,
          0.7811224489795918
         ],
         "matches": "y43",
         "range": [
          0.2777156317392936,
          0.4934688038730549
         ],
         "showticklabels": false
        },
        "yaxis53": {
         "anchor": "x53",
         "domain": [
          0.7295918367346939,
          0.7811224489795918
         ],
         "matches": "y43",
         "range": [
          0.2777156317392936,
          0.4934688038730549
         ],
         "showticklabels": false
        },
        "yaxis54": {
         "anchor": "x54",
         "domain": [
          0.7295918367346939,
          0.7811224489795918
         ],
         "matches": "y43",
         "range": [
          0.2777156317392936,
          0.4934688038730549
         ],
         "showticklabels": false
        },
        "yaxis55": {
         "anchor": "x55",
         "domain": [
          0.7295918367346939,
          0.7811224489795918
         ],
         "matches": "y43",
         "range": [
          0.2777156317392936,
          0.4934688038730549
         ],
         "showticklabels": false
        },
        "yaxis56": {
         "anchor": "x56",
         "domain": [
          0.7295918367346939,
          0.7811224489795918
         ],
         "matches": "y43",
         "range": [
          0.2777156317392936,
          0.4934688038730549
         ],
         "showticklabels": false
        },
        "yaxis57": {
         "anchor": "x57",
         "domain": [
          0.6566326530612245,
          0.7081632653061225
         ],
         "range": [
          0.4319286909453611,
          0.8373025398621657
         ],
         "title": {
          "text": "dropout_3"
         }
        },
        "yaxis58": {
         "anchor": "x58",
         "domain": [
          0.6566326530612245,
          0.7081632653061225
         ],
         "matches": "y57",
         "range": [
          0.4319286909453611,
          0.8373025398621657
         ],
         "showticklabels": false
        },
        "yaxis59": {
         "anchor": "x59",
         "domain": [
          0.6566326530612245,
          0.7081632653061225
         ],
         "matches": "y57",
         "range": [
          0.4319286909453611,
          0.8373025398621657
         ],
         "showticklabels": false
        },
        "yaxis6": {
         "anchor": "x6",
         "domain": [
          0.948469387755102,
          1
         ],
         "matches": "y",
         "range": [
          false,
          true
         ],
         "showticklabels": false
        },
        "yaxis60": {
         "anchor": "x60",
         "domain": [
          0.6566326530612245,
          0.7081632653061225
         ],
         "matches": "y57",
         "range": [
          0.4319286909453611,
          0.8373025398621657
         ],
         "showticklabels": false
        },
        "yaxis61": {
         "anchor": "x61",
         "domain": [
          0.6566326530612245,
          0.7081632653061225
         ],
         "matches": "y57",
         "range": [
          0.4319286909453611,
          0.8373025398621657
         ],
         "showticklabels": false
        },
        "yaxis62": {
         "anchor": "x62",
         "domain": [
          0.6566326530612245,
          0.7081632653061225
         ],
         "matches": "y57",
         "range": [
          0.4319286909453611,
          0.8373025398621657
         ],
         "showticklabels": false
        },
        "yaxis63": {
         "anchor": "x63",
         "domain": [
          0.6566326530612245,
          0.7081632653061225
         ],
         "matches": "y57",
         "range": [
          0.4319286909453611,
          0.8373025398621657
         ],
         "showticklabels": false
        },
        "yaxis64": {
         "anchor": "x64",
         "domain": [
          0.6566326530612245,
          0.7081632653061225
         ],
         "matches": "y57",
         "range": [
          0.4319286909453611,
          0.8373025398621657
         ],
         "showticklabels": false
        },
        "yaxis65": {
         "anchor": "x65",
         "domain": [
          0.6566326530612245,
          0.7081632653061225
         ],
         "matches": "y57",
         "range": [
          0.4319286909453611,
          0.8373025398621657
         ],
         "showticklabels": false
        },
        "yaxis66": {
         "anchor": "x66",
         "domain": [
          0.6566326530612245,
          0.7081632653061225
         ],
         "matches": "y57",
         "range": [
          0.4319286909453611,
          0.8373025398621657
         ],
         "showticklabels": false
        },
        "yaxis67": {
         "anchor": "x67",
         "domain": [
          0.6566326530612245,
          0.7081632653061225
         ],
         "matches": "y57",
         "range": [
          0.4319286909453611,
          0.8373025398621657
         ],
         "showticklabels": false
        },
        "yaxis68": {
         "anchor": "x68",
         "domain": [
          0.6566326530612245,
          0.7081632653061225
         ],
         "matches": "y57",
         "range": [
          0.4319286909453611,
          0.8373025398621657
         ],
         "showticklabels": false
        },
        "yaxis69": {
         "anchor": "x69",
         "domain": [
          0.6566326530612245,
          0.7081632653061225
         ],
         "matches": "y57",
         "range": [
          0.4319286909453611,
          0.8373025398621657
         ],
         "showticklabels": false
        },
        "yaxis7": {
         "anchor": "x7",
         "domain": [
          0.948469387755102,
          1
         ],
         "matches": "y",
         "range": [
          false,
          true
         ],
         "showticklabels": false
        },
        "yaxis70": {
         "anchor": "x70",
         "domain": [
          0.6566326530612245,
          0.7081632653061225
         ],
         "matches": "y57",
         "range": [
          0.4319286909453611,
          0.8373025398621657
         ],
         "showticklabels": false
        },
        "yaxis71": {
         "anchor": "x71",
         "domain": [
          0.5836734693877551,
          0.6352040816326531
         ],
         "range": [
          0.9252534962135638,
          0.9252534962135638
         ],
         "title": {
          "text": "dropout_4"
         }
        },
        "yaxis72": {
         "anchor": "x72",
         "domain": [
          0.5836734693877551,
          0.6352040816326531
         ],
         "matches": "y71",
         "range": [
          0.9252534962135638,
          0.9252534962135638
         ],
         "showticklabels": false
        },
        "yaxis73": {
         "anchor": "x73",
         "domain": [
          0.5836734693877551,
          0.6352040816326531
         ],
         "matches": "y71",
         "range": [
          0.9252534962135638,
          0.9252534962135638
         ],
         "showticklabels": false
        },
        "yaxis74": {
         "anchor": "x74",
         "domain": [
          0.5836734693877551,
          0.6352040816326531
         ],
         "matches": "y71",
         "range": [
          0.9252534962135638,
          0.9252534962135638
         ],
         "showticklabels": false
        },
        "yaxis75": {
         "anchor": "x75",
         "domain": [
          0.5836734693877551,
          0.6352040816326531
         ],
         "matches": "y71",
         "range": [
          0.9252534962135638,
          0.9252534962135638
         ],
         "showticklabels": false
        },
        "yaxis76": {
         "anchor": "x76",
         "domain": [
          0.5836734693877551,
          0.6352040816326531
         ],
         "matches": "y71",
         "range": [
          0.9252534962135638,
          0.9252534962135638
         ],
         "showticklabels": false
        },
        "yaxis77": {
         "anchor": "x77",
         "domain": [
          0.5836734693877551,
          0.6352040816326531
         ],
         "matches": "y71",
         "range": [
          0.9252534962135638,
          0.9252534962135638
         ],
         "showticklabels": false
        },
        "yaxis78": {
         "anchor": "x78",
         "domain": [
          0.5836734693877551,
          0.6352040816326531
         ],
         "matches": "y71",
         "range": [
          0.9252534962135638,
          0.9252534962135638
         ],
         "showticklabels": false
        },
        "yaxis79": {
         "anchor": "x79",
         "domain": [
          0.5836734693877551,
          0.6352040816326531
         ],
         "matches": "y71",
         "range": [
          0.9252534962135638,
          0.9252534962135638
         ],
         "showticklabels": false
        },
        "yaxis8": {
         "anchor": "x8",
         "domain": [
          0.948469387755102,
          1
         ],
         "matches": "y",
         "range": [
          false,
          true
         ],
         "showticklabels": false
        },
        "yaxis80": {
         "anchor": "x80",
         "domain": [
          0.5836734693877551,
          0.6352040816326531
         ],
         "matches": "y71",
         "range": [
          0.9252534962135638,
          0.9252534962135638
         ],
         "showticklabels": false
        },
        "yaxis81": {
         "anchor": "x81",
         "domain": [
          0.5836734693877551,
          0.6352040816326531
         ],
         "matches": "y71",
         "range": [
          0.9252534962135638,
          0.9252534962135638
         ],
         "showticklabels": false
        },
        "yaxis82": {
         "anchor": "x82",
         "domain": [
          0.5836734693877551,
          0.6352040816326531
         ],
         "matches": "y71",
         "range": [
          0.9252534962135638,
          0.9252534962135638
         ],
         "showticklabels": false
        },
        "yaxis83": {
         "anchor": "x83",
         "domain": [
          0.5836734693877551,
          0.6352040816326531
         ],
         "matches": "y71",
         "range": [
          0.9252534962135638,
          0.9252534962135638
         ],
         "showticklabels": false
        },
        "yaxis84": {
         "anchor": "x84",
         "domain": [
          0.5836734693877551,
          0.6352040816326531
         ],
         "matches": "y71",
         "range": [
          0.9252534962135638,
          0.9252534962135638
         ],
         "showticklabels": false
        },
        "yaxis85": {
         "anchor": "x85",
         "domain": [
          0.5107142857142857,
          0.5622448979591836
         ],
         "range": [
          64,
          128
         ],
         "title": {
          "text": "filters_1"
         }
        },
        "yaxis86": {
         "anchor": "x86",
         "domain": [
          0.5107142857142857,
          0.5622448979591836
         ],
         "matches": "y85",
         "range": [
          64,
          128
         ],
         "showticklabels": false
        },
        "yaxis87": {
         "anchor": "x87",
         "domain": [
          0.5107142857142857,
          0.5622448979591836
         ],
         "matches": "y85",
         "range": [
          64,
          128
         ],
         "showticklabels": false
        },
        "yaxis88": {
         "anchor": "x88",
         "domain": [
          0.5107142857142857,
          0.5622448979591836
         ],
         "matches": "y85",
         "range": [
          64,
          128
         ],
         "showticklabels": false
        },
        "yaxis89": {
         "anchor": "x89",
         "domain": [
          0.5107142857142857,
          0.5622448979591836
         ],
         "matches": "y85",
         "range": [
          64,
          128
         ],
         "showticklabels": false
        },
        "yaxis9": {
         "anchor": "x9",
         "domain": [
          0.948469387755102,
          1
         ],
         "matches": "y",
         "range": [
          false,
          true
         ],
         "showticklabels": false
        },
        "yaxis90": {
         "anchor": "x90",
         "domain": [
          0.5107142857142857,
          0.5622448979591836
         ],
         "matches": "y85",
         "range": [
          64,
          128
         ],
         "showticklabels": false
        },
        "yaxis91": {
         "anchor": "x91",
         "domain": [
          0.5107142857142857,
          0.5622448979591836
         ],
         "matches": "y85",
         "range": [
          64,
          128
         ],
         "showticklabels": false
        },
        "yaxis92": {
         "anchor": "x92",
         "domain": [
          0.5107142857142857,
          0.5622448979591836
         ],
         "matches": "y85",
         "range": [
          64,
          128
         ],
         "showticklabels": false
        },
        "yaxis93": {
         "anchor": "x93",
         "domain": [
          0.5107142857142857,
          0.5622448979591836
         ],
         "matches": "y85",
         "range": [
          64,
          128
         ],
         "showticklabels": false
        },
        "yaxis94": {
         "anchor": "x94",
         "domain": [
          0.5107142857142857,
          0.5622448979591836
         ],
         "matches": "y85",
         "range": [
          64,
          128
         ],
         "showticklabels": false
        },
        "yaxis95": {
         "anchor": "x95",
         "domain": [
          0.5107142857142857,
          0.5622448979591836
         ],
         "matches": "y85",
         "range": [
          64,
          128
         ],
         "showticklabels": false
        },
        "yaxis96": {
         "anchor": "x96",
         "domain": [
          0.5107142857142857,
          0.5622448979591836
         ],
         "matches": "y85",
         "range": [
          64,
          128
         ],
         "showticklabels": false
        },
        "yaxis97": {
         "anchor": "x97",
         "domain": [
          0.5107142857142857,
          0.5622448979591836
         ],
         "matches": "y85",
         "range": [
          64,
          128
         ],
         "showticklabels": false
        },
        "yaxis98": {
         "anchor": "x98",
         "domain": [
          0.5107142857142857,
          0.5622448979591836
         ],
         "matches": "y85",
         "range": [
          64,
          128
         ],
         "showticklabels": false
        },
        "yaxis99": {
         "anchor": "x99",
         "domain": [
          0.4377551020408163,
          0.48928571428571427
         ],
         "range": [
          32,
          32
         ],
         "title": {
          "text": "filters_2"
         }
        }
       }
      }
     },
     "metadata": {},
     "output_type": "display_data"
    },
    {
     "data": {
      "application/vnd.plotly.v1+json": {
       "config": {
        "plotlyServerURL": "https://plot.ly"
       },
       "data": [
        {
         "marker": {
          "maxdisplayed": 10
         },
         "mode": "lines+markers",
         "name": "Trial0",
         "type": "scatter",
         "x": [],
         "y": []
        },
        {
         "marker": {
          "maxdisplayed": 10
         },
         "mode": "lines+markers",
         "name": "Trial1",
         "type": "scatter",
         "x": [],
         "y": []
        }
       ],
       "layout": {
        "showlegend": false,
        "template": {
         "data": {
          "bar": [
           {
            "error_x": {
             "color": "#2a3f5f"
            },
            "error_y": {
             "color": "#2a3f5f"
            },
            "marker": {
             "line": {
              "color": "#E5ECF6",
              "width": 0.5
             }
            },
            "type": "bar"
           }
          ],
          "barpolar": [
           {
            "marker": {
             "line": {
              "color": "#E5ECF6",
              "width": 0.5
             }
            },
            "type": "barpolar"
           }
          ],
          "carpet": [
           {
            "aaxis": {
             "endlinecolor": "#2a3f5f",
             "gridcolor": "white",
             "linecolor": "white",
             "minorgridcolor": "white",
             "startlinecolor": "#2a3f5f"
            },
            "baxis": {
             "endlinecolor": "#2a3f5f",
             "gridcolor": "white",
             "linecolor": "white",
             "minorgridcolor": "white",
             "startlinecolor": "#2a3f5f"
            },
            "type": "carpet"
           }
          ],
          "choropleth": [
           {
            "colorbar": {
             "outlinewidth": 0,
             "ticks": ""
            },
            "type": "choropleth"
           }
          ],
          "contour": [
           {
            "colorbar": {
             "outlinewidth": 0,
             "ticks": ""
            },
            "colorscale": [
             [
              0,
              "#0d0887"
             ],
             [
              0.1111111111111111,
              "#46039f"
             ],
             [
              0.2222222222222222,
              "#7201a8"
             ],
             [
              0.3333333333333333,
              "#9c179e"
             ],
             [
              0.4444444444444444,
              "#bd3786"
             ],
             [
              0.5555555555555556,
              "#d8576b"
             ],
             [
              0.6666666666666666,
              "#ed7953"
             ],
             [
              0.7777777777777778,
              "#fb9f3a"
             ],
             [
              0.8888888888888888,
              "#fdca26"
             ],
             [
              1,
              "#f0f921"
             ]
            ],
            "type": "contour"
           }
          ],
          "contourcarpet": [
           {
            "colorbar": {
             "outlinewidth": 0,
             "ticks": ""
            },
            "type": "contourcarpet"
           }
          ],
          "heatmap": [
           {
            "colorbar": {
             "outlinewidth": 0,
             "ticks": ""
            },
            "colorscale": [
             [
              0,
              "#0d0887"
             ],
             [
              0.1111111111111111,
              "#46039f"
             ],
             [
              0.2222222222222222,
              "#7201a8"
             ],
             [
              0.3333333333333333,
              "#9c179e"
             ],
             [
              0.4444444444444444,
              "#bd3786"
             ],
             [
              0.5555555555555556,
              "#d8576b"
             ],
             [
              0.6666666666666666,
              "#ed7953"
             ],
             [
              0.7777777777777778,
              "#fb9f3a"
             ],
             [
              0.8888888888888888,
              "#fdca26"
             ],
             [
              1,
              "#f0f921"
             ]
            ],
            "type": "heatmap"
           }
          ],
          "heatmapgl": [
           {
            "colorbar": {
             "outlinewidth": 0,
             "ticks": ""
            },
            "colorscale": [
             [
              0,
              "#0d0887"
             ],
             [
              0.1111111111111111,
              "#46039f"
             ],
             [
              0.2222222222222222,
              "#7201a8"
             ],
             [
              0.3333333333333333,
              "#9c179e"
             ],
             [
              0.4444444444444444,
              "#bd3786"
             ],
             [
              0.5555555555555556,
              "#d8576b"
             ],
             [
              0.6666666666666666,
              "#ed7953"
             ],
             [
              0.7777777777777778,
              "#fb9f3a"
             ],
             [
              0.8888888888888888,
              "#fdca26"
             ],
             [
              1,
              "#f0f921"
             ]
            ],
            "type": "heatmapgl"
           }
          ],
          "histogram": [
           {
            "marker": {
             "colorbar": {
              "outlinewidth": 0,
              "ticks": ""
             }
            },
            "type": "histogram"
           }
          ],
          "histogram2d": [
           {
            "colorbar": {
             "outlinewidth": 0,
             "ticks": ""
            },
            "colorscale": [
             [
              0,
              "#0d0887"
             ],
             [
              0.1111111111111111,
              "#46039f"
             ],
             [
              0.2222222222222222,
              "#7201a8"
             ],
             [
              0.3333333333333333,
              "#9c179e"
             ],
             [
              0.4444444444444444,
              "#bd3786"
             ],
             [
              0.5555555555555556,
              "#d8576b"
             ],
             [
              0.6666666666666666,
              "#ed7953"
             ],
             [
              0.7777777777777778,
              "#fb9f3a"
             ],
             [
              0.8888888888888888,
              "#fdca26"
             ],
             [
              1,
              "#f0f921"
             ]
            ],
            "type": "histogram2d"
           }
          ],
          "histogram2dcontour": [
           {
            "colorbar": {
             "outlinewidth": 0,
             "ticks": ""
            },
            "colorscale": [
             [
              0,
              "#0d0887"
             ],
             [
              0.1111111111111111,
              "#46039f"
             ],
             [
              0.2222222222222222,
              "#7201a8"
             ],
             [
              0.3333333333333333,
              "#9c179e"
             ],
             [
              0.4444444444444444,
              "#bd3786"
             ],
             [
              0.5555555555555556,
              "#d8576b"
             ],
             [
              0.6666666666666666,
              "#ed7953"
             ],
             [
              0.7777777777777778,
              "#fb9f3a"
             ],
             [
              0.8888888888888888,
              "#fdca26"
             ],
             [
              1,
              "#f0f921"
             ]
            ],
            "type": "histogram2dcontour"
           }
          ],
          "mesh3d": [
           {
            "colorbar": {
             "outlinewidth": 0,
             "ticks": ""
            },
            "type": "mesh3d"
           }
          ],
          "parcoords": [
           {
            "line": {
             "colorbar": {
              "outlinewidth": 0,
              "ticks": ""
             }
            },
            "type": "parcoords"
           }
          ],
          "pie": [
           {
            "automargin": true,
            "type": "pie"
           }
          ],
          "scatter": [
           {
            "marker": {
             "colorbar": {
              "outlinewidth": 0,
              "ticks": ""
             }
            },
            "type": "scatter"
           }
          ],
          "scatter3d": [
           {
            "line": {
             "colorbar": {
              "outlinewidth": 0,
              "ticks": ""
             }
            },
            "marker": {
             "colorbar": {
              "outlinewidth": 0,
              "ticks": ""
             }
            },
            "type": "scatter3d"
           }
          ],
          "scattercarpet": [
           {
            "marker": {
             "colorbar": {
              "outlinewidth": 0,
              "ticks": ""
             }
            },
            "type": "scattercarpet"
           }
          ],
          "scattergeo": [
           {
            "marker": {
             "colorbar": {
              "outlinewidth": 0,
              "ticks": ""
             }
            },
            "type": "scattergeo"
           }
          ],
          "scattergl": [
           {
            "marker": {
             "colorbar": {
              "outlinewidth": 0,
              "ticks": ""
             }
            },
            "type": "scattergl"
           }
          ],
          "scattermapbox": [
           {
            "marker": {
             "colorbar": {
              "outlinewidth": 0,
              "ticks": ""
             }
            },
            "type": "scattermapbox"
           }
          ],
          "scatterpolar": [
           {
            "marker": {
             "colorbar": {
              "outlinewidth": 0,
              "ticks": ""
             }
            },
            "type": "scatterpolar"
           }
          ],
          "scatterpolargl": [
           {
            "marker": {
             "colorbar": {
              "outlinewidth": 0,
              "ticks": ""
             }
            },
            "type": "scatterpolargl"
           }
          ],
          "scatterternary": [
           {
            "marker": {
             "colorbar": {
              "outlinewidth": 0,
              "ticks": ""
             }
            },
            "type": "scatterternary"
           }
          ],
          "surface": [
           {
            "colorbar": {
             "outlinewidth": 0,
             "ticks": ""
            },
            "colorscale": [
             [
              0,
              "#0d0887"
             ],
             [
              0.1111111111111111,
              "#46039f"
             ],
             [
              0.2222222222222222,
              "#7201a8"
             ],
             [
              0.3333333333333333,
              "#9c179e"
             ],
             [
              0.4444444444444444,
              "#bd3786"
             ],
             [
              0.5555555555555556,
              "#d8576b"
             ],
             [
              0.6666666666666666,
              "#ed7953"
             ],
             [
              0.7777777777777778,
              "#fb9f3a"
             ],
             [
              0.8888888888888888,
              "#fdca26"
             ],
             [
              1,
              "#f0f921"
             ]
            ],
            "type": "surface"
           }
          ],
          "table": [
           {
            "cells": {
             "fill": {
              "color": "#EBF0F8"
             },
             "line": {
              "color": "white"
             }
            },
            "header": {
             "fill": {
              "color": "#C8D4E3"
             },
             "line": {
              "color": "white"
             }
            },
            "type": "table"
           }
          ]
         },
         "layout": {
          "annotationdefaults": {
           "arrowcolor": "#2a3f5f",
           "arrowhead": 0,
           "arrowwidth": 1
          },
          "coloraxis": {
           "colorbar": {
            "outlinewidth": 0,
            "ticks": ""
           }
          },
          "colorscale": {
           "diverging": [
            [
             0,
             "#8e0152"
            ],
            [
             0.1,
             "#c51b7d"
            ],
            [
             0.2,
             "#de77ae"
            ],
            [
             0.3,
             "#f1b6da"
            ],
            [
             0.4,
             "#fde0ef"
            ],
            [
             0.5,
             "#f7f7f7"
            ],
            [
             0.6,
             "#e6f5d0"
            ],
            [
             0.7,
             "#b8e186"
            ],
            [
             0.8,
             "#7fbc41"
            ],
            [
             0.9,
             "#4d9221"
            ],
            [
             1,
             "#276419"
            ]
           ],
           "sequential": [
            [
             0,
             "#0d0887"
            ],
            [
             0.1111111111111111,
             "#46039f"
            ],
            [
             0.2222222222222222,
             "#7201a8"
            ],
            [
             0.3333333333333333,
             "#9c179e"
            ],
            [
             0.4444444444444444,
             "#bd3786"
            ],
            [
             0.5555555555555556,
             "#d8576b"
            ],
            [
             0.6666666666666666,
             "#ed7953"
            ],
            [
             0.7777777777777778,
             "#fb9f3a"
            ],
            [
             0.8888888888888888,
             "#fdca26"
            ],
            [
             1,
             "#f0f921"
            ]
           ],
           "sequentialminus": [
            [
             0,
             "#0d0887"
            ],
            [
             0.1111111111111111,
             "#46039f"
            ],
            [
             0.2222222222222222,
             "#7201a8"
            ],
            [
             0.3333333333333333,
             "#9c179e"
            ],
            [
             0.4444444444444444,
             "#bd3786"
            ],
            [
             0.5555555555555556,
             "#d8576b"
            ],
            [
             0.6666666666666666,
             "#ed7953"
            ],
            [
             0.7777777777777778,
             "#fb9f3a"
            ],
            [
             0.8888888888888888,
             "#fdca26"
            ],
            [
             1,
             "#f0f921"
            ]
           ]
          },
          "colorway": [
           "#636efa",
           "#EF553B",
           "#00cc96",
           "#ab63fa",
           "#FFA15A",
           "#19d3f3",
           "#FF6692",
           "#B6E880",
           "#FF97FF",
           "#FECB52"
          ],
          "font": {
           "color": "#2a3f5f"
          },
          "geo": {
           "bgcolor": "white",
           "lakecolor": "white",
           "landcolor": "#E5ECF6",
           "showlakes": true,
           "showland": true,
           "subunitcolor": "white"
          },
          "hoverlabel": {
           "align": "left"
          },
          "hovermode": "closest",
          "mapbox": {
           "style": "light"
          },
          "paper_bgcolor": "white",
          "plot_bgcolor": "#E5ECF6",
          "polar": {
           "angularaxis": {
            "gridcolor": "white",
            "linecolor": "white",
            "ticks": ""
           },
           "bgcolor": "#E5ECF6",
           "radialaxis": {
            "gridcolor": "white",
            "linecolor": "white",
            "ticks": ""
           }
          },
          "scene": {
           "xaxis": {
            "backgroundcolor": "#E5ECF6",
            "gridcolor": "white",
            "gridwidth": 2,
            "linecolor": "white",
            "showbackground": true,
            "ticks": "",
            "zerolinecolor": "white"
           },
           "yaxis": {
            "backgroundcolor": "#E5ECF6",
            "gridcolor": "white",
            "gridwidth": 2,
            "linecolor": "white",
            "showbackground": true,
            "ticks": "",
            "zerolinecolor": "white"
           },
           "zaxis": {
            "backgroundcolor": "#E5ECF6",
            "gridcolor": "white",
            "gridwidth": 2,
            "linecolor": "white",
            "showbackground": true,
            "ticks": "",
            "zerolinecolor": "white"
           }
          },
          "shapedefaults": {
           "line": {
            "color": "#2a3f5f"
           }
          },
          "ternary": {
           "aaxis": {
            "gridcolor": "white",
            "linecolor": "white",
            "ticks": ""
           },
           "baxis": {
            "gridcolor": "white",
            "linecolor": "white",
            "ticks": ""
           },
           "bgcolor": "#E5ECF6",
           "caxis": {
            "gridcolor": "white",
            "linecolor": "white",
            "ticks": ""
           }
          },
          "title": {
           "x": 0.05
          },
          "xaxis": {
           "automargin": true,
           "gridcolor": "white",
           "linecolor": "white",
           "ticks": "",
           "title": {
            "standoff": 15
           },
           "zerolinecolor": "white",
           "zerolinewidth": 2
          },
          "yaxis": {
           "automargin": true,
           "gridcolor": "white",
           "linecolor": "white",
           "ticks": "",
           "title": {
            "standoff": 15
           },
           "zerolinecolor": "white",
           "zerolinewidth": 2
          }
         }
        },
        "title": {
         "text": "Intermediate Values Plot"
        },
        "xaxis": {
         "title": {
          "text": "Step"
         }
        },
        "yaxis": {
         "title": {
          "text": "Intermediate Value"
         }
        }
       }
      }
     },
     "metadata": {},
     "output_type": "display_data"
    },
    {
     "data": {
      "application/vnd.plotly.v1+json": {
       "config": {
        "plotlyServerURL": "https://plot.ly"
       },
       "data": [
        {
         "marker": {
          "color": [
           0,
           1
          ],
          "colorbar": {
           "title": {
            "text": "#Trials"
           }
          },
          "colorscale": [
           [
            0,
            "rgb(247,251,255)"
           ],
           [
            0.125,
            "rgb(222,235,247)"
           ],
           [
            0.25,
            "rgb(198,219,239)"
           ],
           [
            0.375,
            "rgb(158,202,225)"
           ],
           [
            0.5,
            "rgb(107,174,214)"
           ],
           [
            0.625,
            "rgb(66,146,198)"
           ],
           [
            0.75,
            "rgb(33,113,181)"
           ],
           [
            0.875,
            "rgb(8,81,156)"
           ],
           [
            1,
            "rgb(8,48,107)"
           ]
          ],
          "line": {
           "color": "Grey",
           "width": 0.5
          },
          "showscale": true
         },
         "mode": "markers",
         "showlegend": false,
         "type": "scatter",
         "x": [
          true,
          false
         ],
         "xaxis": "x",
         "y": [
          -0.3798076808452606,
          -0.625
         ],
         "yaxis": "y"
        },
        {
         "marker": {
          "color": [
           0,
           1
          ],
          "colorbar": {
           "title": {
            "text": "#Trials"
           }
          },
          "colorscale": [
           [
            0,
            "rgb(247,251,255)"
           ],
           [
            0.125,
            "rgb(222,235,247)"
           ],
           [
            0.25,
            "rgb(198,219,239)"
           ],
           [
            0.375,
            "rgb(158,202,225)"
           ],
           [
            0.5,
            "rgb(107,174,214)"
           ],
           [
            0.625,
            "rgb(66,146,198)"
           ],
           [
            0.75,
            "rgb(33,113,181)"
           ],
           [
            0.875,
            "rgb(8,81,156)"
           ],
           [
            1,
            "rgb(8,48,107)"
           ]
          ],
          "line": {
           "color": "Grey",
           "width": 0.5
          },
          "showscale": false
         },
         "mode": "markers",
         "showlegend": false,
         "type": "scatter",
         "x": [
          64,
          64
         ],
         "xaxis": "x2",
         "y": [
          -0.3798076808452606,
          -0.625
         ],
         "yaxis": "y2"
        },
        {
         "marker": {
          "color": [
           0,
           1
          ],
          "colorbar": {
           "title": {
            "text": "#Trials"
           }
          },
          "colorscale": [
           [
            0,
            "rgb(247,251,255)"
           ],
           [
            0.125,
            "rgb(222,235,247)"
           ],
           [
            0.25,
            "rgb(198,219,239)"
           ],
           [
            0.375,
            "rgb(158,202,225)"
           ],
           [
            0.5,
            "rgb(107,174,214)"
           ],
           [
            0.625,
            "rgb(66,146,198)"
           ],
           [
            0.75,
            "rgb(33,113,181)"
           ],
           [
            0.875,
            "rgb(8,81,156)"
           ],
           [
            1,
            "rgb(8,48,107)"
           ]
          ],
          "line": {
           "color": "Grey",
           "width": 0.5
          },
          "showscale": false
         },
         "mode": "markers",
         "showlegend": false,
         "type": "scatter",
         "x": [
          0.7573462327074572,
          0.9292811142151904
         ],
         "xaxis": "x3",
         "y": [
          -0.3798076808452606,
          -0.625
         ],
         "yaxis": "y3"
        },
        {
         "marker": {
          "color": [
           0,
           1
          ],
          "colorbar": {
           "title": {
            "text": "#Trials"
           }
          },
          "colorscale": [
           [
            0,
            "rgb(247,251,255)"
           ],
           [
            0.125,
            "rgb(222,235,247)"
           ],
           [
            0.25,
            "rgb(198,219,239)"
           ],
           [
            0.375,
            "rgb(158,202,225)"
           ],
           [
            0.5,
            "rgb(107,174,214)"
           ],
           [
            0.625,
            "rgb(66,146,198)"
           ],
           [
            0.75,
            "rgb(33,113,181)"
           ],
           [
            0.875,
            "rgb(8,81,156)"
           ],
           [
            1,
            "rgb(8,48,107)"
           ]
          ],
          "line": {
           "color": "Grey",
           "width": 0.5
          },
          "showscale": false
         },
         "mode": "markers",
         "showlegend": false,
         "type": "scatter",
         "x": [
          0.2777156317392936,
          0.4934688038730549
         ],
         "xaxis": "x4",
         "y": [
          -0.3798076808452606,
          -0.625
         ],
         "yaxis": "y4"
        },
        {
         "marker": {
          "color": [
           0,
           1
          ],
          "colorbar": {
           "title": {
            "text": "#Trials"
           }
          },
          "colorscale": [
           [
            0,
            "rgb(247,251,255)"
           ],
           [
            0.125,
            "rgb(222,235,247)"
           ],
           [
            0.25,
            "rgb(198,219,239)"
           ],
           [
            0.375,
            "rgb(158,202,225)"
           ],
           [
            0.5,
            "rgb(107,174,214)"
           ],
           [
            0.625,
            "rgb(66,146,198)"
           ],
           [
            0.75,
            "rgb(33,113,181)"
           ],
           [
            0.875,
            "rgb(8,81,156)"
           ],
           [
            1,
            "rgb(8,48,107)"
           ]
          ],
          "line": {
           "color": "Grey",
           "width": 0.5
          },
          "showscale": false
         },
         "mode": "markers",
         "showlegend": false,
         "type": "scatter",
         "x": [
          0.4319286909453611,
          0.8373025398621657
         ],
         "xaxis": "x5",
         "y": [
          -0.3798076808452606,
          -0.625
         ],
         "yaxis": "y5"
        },
        {
         "marker": {
          "color": [
           0
          ],
          "colorbar": {
           "title": {
            "text": "#Trials"
           }
          },
          "colorscale": [
           [
            0,
            "rgb(247,251,255)"
           ],
           [
            0.125,
            "rgb(222,235,247)"
           ],
           [
            0.25,
            "rgb(198,219,239)"
           ],
           [
            0.375,
            "rgb(158,202,225)"
           ],
           [
            0.5,
            "rgb(107,174,214)"
           ],
           [
            0.625,
            "rgb(66,146,198)"
           ],
           [
            0.75,
            "rgb(33,113,181)"
           ],
           [
            0.875,
            "rgb(8,81,156)"
           ],
           [
            1,
            "rgb(8,48,107)"
           ]
          ],
          "line": {
           "color": "Grey",
           "width": 0.5
          },
          "showscale": false
         },
         "mode": "markers",
         "showlegend": false,
         "type": "scatter",
         "x": [
          0.9252534962135638
         ],
         "xaxis": "x6",
         "y": [
          -0.3798076808452606
         ],
         "yaxis": "y6"
        },
        {
         "marker": {
          "color": [
           0,
           1
          ],
          "colorbar": {
           "title": {
            "text": "#Trials"
           }
          },
          "colorscale": [
           [
            0,
            "rgb(247,251,255)"
           ],
           [
            0.125,
            "rgb(222,235,247)"
           ],
           [
            0.25,
            "rgb(198,219,239)"
           ],
           [
            0.375,
            "rgb(158,202,225)"
           ],
           [
            0.5,
            "rgb(107,174,214)"
           ],
           [
            0.625,
            "rgb(66,146,198)"
           ],
           [
            0.75,
            "rgb(33,113,181)"
           ],
           [
            0.875,
            "rgb(8,81,156)"
           ],
           [
            1,
            "rgb(8,48,107)"
           ]
          ],
          "line": {
           "color": "Grey",
           "width": 0.5
          },
          "showscale": false
         },
         "mode": "markers",
         "showlegend": false,
         "type": "scatter",
         "x": [
          64,
          128
         ],
         "xaxis": "x7",
         "y": [
          -0.3798076808452606,
          -0.625
         ],
         "yaxis": "y7"
        },
        {
         "marker": {
          "color": [
           0,
           1
          ],
          "colorbar": {
           "title": {
            "text": "#Trials"
           }
          },
          "colorscale": [
           [
            0,
            "rgb(247,251,255)"
           ],
           [
            0.125,
            "rgb(222,235,247)"
           ],
           [
            0.25,
            "rgb(198,219,239)"
           ],
           [
            0.375,
            "rgb(158,202,225)"
           ],
           [
            0.5,
            "rgb(107,174,214)"
           ],
           [
            0.625,
            "rgb(66,146,198)"
           ],
           [
            0.75,
            "rgb(33,113,181)"
           ],
           [
            0.875,
            "rgb(8,81,156)"
           ],
           [
            1,
            "rgb(8,48,107)"
           ]
          ],
          "line": {
           "color": "Grey",
           "width": 0.5
          },
          "showscale": false
         },
         "mode": "markers",
         "showlegend": false,
         "type": "scatter",
         "x": [
          32,
          32
         ],
         "xaxis": "x8",
         "y": [
          -0.3798076808452606,
          -0.625
         ],
         "yaxis": "y8"
        },
        {
         "marker": {
          "color": [
           0,
           1
          ],
          "colorbar": {
           "title": {
            "text": "#Trials"
           }
          },
          "colorscale": [
           [
            0,
            "rgb(247,251,255)"
           ],
           [
            0.125,
            "rgb(222,235,247)"
           ],
           [
            0.25,
            "rgb(198,219,239)"
           ],
           [
            0.375,
            "rgb(158,202,225)"
           ],
           [
            0.5,
            "rgb(107,174,214)"
           ],
           [
            0.625,
            "rgb(66,146,198)"
           ],
           [
            0.75,
            "rgb(33,113,181)"
           ],
           [
            0.875,
            "rgb(8,81,156)"
           ],
           [
            1,
            "rgb(8,48,107)"
           ]
          ],
          "line": {
           "color": "Grey",
           "width": 0.5
          },
          "showscale": false
         },
         "mode": "markers",
         "showlegend": false,
         "type": "scatter",
         "x": [
          64,
          128
         ],
         "xaxis": "x9",
         "y": [
          -0.3798076808452606,
          -0.625
         ],
         "yaxis": "y9"
        },
        {
         "marker": {
          "color": [
           0
          ],
          "colorbar": {
           "title": {
            "text": "#Trials"
           }
          },
          "colorscale": [
           [
            0,
            "rgb(247,251,255)"
           ],
           [
            0.125,
            "rgb(222,235,247)"
           ],
           [
            0.25,
            "rgb(198,219,239)"
           ],
           [
            0.375,
            "rgb(158,202,225)"
           ],
           [
            0.5,
            "rgb(107,174,214)"
           ],
           [
            0.625,
            "rgb(66,146,198)"
           ],
           [
            0.75,
            "rgb(33,113,181)"
           ],
           [
            0.875,
            "rgb(8,81,156)"
           ],
           [
            1,
            "rgb(8,48,107)"
           ]
          ],
          "line": {
           "color": "Grey",
           "width": 0.5
          },
          "showscale": false
         },
         "mode": "markers",
         "showlegend": false,
         "type": "scatter",
         "x": [
          16
         ],
         "xaxis": "x10",
         "y": [
          -0.3798076808452606
         ],
         "yaxis": "y10"
        },
        {
         "marker": {
          "color": [
           0,
           1
          ],
          "colorbar": {
           "title": {
            "text": "#Trials"
           }
          },
          "colorscale": [
           [
            0,
            "rgb(247,251,255)"
           ],
           [
            0.125,
            "rgb(222,235,247)"
           ],
           [
            0.25,
            "rgb(198,219,239)"
           ],
           [
            0.375,
            "rgb(158,202,225)"
           ],
           [
            0.5,
            "rgb(107,174,214)"
           ],
           [
            0.625,
            "rgb(66,146,198)"
           ],
           [
            0.75,
            "rgb(33,113,181)"
           ],
           [
            0.875,
            "rgb(8,81,156)"
           ],
           [
            1,
            "rgb(8,48,107)"
           ]
          ],
          "line": {
           "color": "Grey",
           "width": 0.5
          },
          "showscale": false
         },
         "mode": "markers",
         "showlegend": false,
         "type": "scatter",
         "x": [
          3,
          4
         ],
         "xaxis": "x11",
         "y": [
          -0.3798076808452606,
          -0.625
         ],
         "yaxis": "y11"
        },
        {
         "marker": {
          "color": [
           0,
           1
          ],
          "colorbar": {
           "title": {
            "text": "#Trials"
           }
          },
          "colorscale": [
           [
            0,
            "rgb(247,251,255)"
           ],
           [
            0.125,
            "rgb(222,235,247)"
           ],
           [
            0.25,
            "rgb(198,219,239)"
           ],
           [
            0.375,
            "rgb(158,202,225)"
           ],
           [
            0.5,
            "rgb(107,174,214)"
           ],
           [
            0.625,
            "rgb(66,146,198)"
           ],
           [
            0.75,
            "rgb(33,113,181)"
           ],
           [
            0.875,
            "rgb(8,81,156)"
           ],
           [
            1,
            "rgb(8,48,107)"
           ]
          ],
          "line": {
           "color": "Grey",
           "width": 0.5
          },
          "showscale": false
         },
         "mode": "markers",
         "showlegend": false,
         "type": "scatter",
         "x": [
          3,
          4
         ],
         "xaxis": "x12",
         "y": [
          -0.3798076808452606,
          -0.625
         ],
         "yaxis": "y12"
        },
        {
         "marker": {
          "color": [
           0,
           1
          ],
          "colorbar": {
           "title": {
            "text": "#Trials"
           }
          },
          "colorscale": [
           [
            0,
            "rgb(247,251,255)"
           ],
           [
            0.125,
            "rgb(222,235,247)"
           ],
           [
            0.25,
            "rgb(198,219,239)"
           ],
           [
            0.375,
            "rgb(158,202,225)"
           ],
           [
            0.5,
            "rgb(107,174,214)"
           ],
           [
            0.625,
            "rgb(66,146,198)"
           ],
           [
            0.75,
            "rgb(33,113,181)"
           ],
           [
            0.875,
            "rgb(8,81,156)"
           ],
           [
            1,
            "rgb(8,48,107)"
           ]
          ],
          "line": {
           "color": "Grey",
           "width": 0.5
          },
          "showscale": false
         },
         "mode": "markers",
         "showlegend": false,
         "type": "scatter",
         "x": [
          3,
          2
         ],
         "xaxis": "x13",
         "y": [
          -0.3798076808452606,
          -0.625
         ],
         "yaxis": "y13"
        },
        {
         "marker": {
          "color": [
           0
          ],
          "colorbar": {
           "title": {
            "text": "#Trials"
           }
          },
          "colorscale": [
           [
            0,
            "rgb(247,251,255)"
           ],
           [
            0.125,
            "rgb(222,235,247)"
           ],
           [
            0.25,
            "rgb(198,219,239)"
           ],
           [
            0.375,
            "rgb(158,202,225)"
           ],
           [
            0.5,
            "rgb(107,174,214)"
           ],
           [
            0.625,
            "rgb(66,146,198)"
           ],
           [
            0.75,
            "rgb(33,113,181)"
           ],
           [
            0.875,
            "rgb(8,81,156)"
           ],
           [
            1,
            "rgb(8,48,107)"
           ]
          ],
          "line": {
           "color": "Grey",
           "width": 0.5
          },
          "showscale": false
         },
         "mode": "markers",
         "showlegend": false,
         "type": "scatter",
         "x": [
          2
         ],
         "xaxis": "x14",
         "y": [
          -0.3798076808452606
         ],
         "yaxis": "y14"
        }
       ],
       "layout": {
        "template": {
         "data": {
          "bar": [
           {
            "error_x": {
             "color": "#2a3f5f"
            },
            "error_y": {
             "color": "#2a3f5f"
            },
            "marker": {
             "line": {
              "color": "#E5ECF6",
              "width": 0.5
             }
            },
            "type": "bar"
           }
          ],
          "barpolar": [
           {
            "marker": {
             "line": {
              "color": "#E5ECF6",
              "width": 0.5
             }
            },
            "type": "barpolar"
           }
          ],
          "carpet": [
           {
            "aaxis": {
             "endlinecolor": "#2a3f5f",
             "gridcolor": "white",
             "linecolor": "white",
             "minorgridcolor": "white",
             "startlinecolor": "#2a3f5f"
            },
            "baxis": {
             "endlinecolor": "#2a3f5f",
             "gridcolor": "white",
             "linecolor": "white",
             "minorgridcolor": "white",
             "startlinecolor": "#2a3f5f"
            },
            "type": "carpet"
           }
          ],
          "choropleth": [
           {
            "colorbar": {
             "outlinewidth": 0,
             "ticks": ""
            },
            "type": "choropleth"
           }
          ],
          "contour": [
           {
            "colorbar": {
             "outlinewidth": 0,
             "ticks": ""
            },
            "colorscale": [
             [
              0,
              "#0d0887"
             ],
             [
              0.1111111111111111,
              "#46039f"
             ],
             [
              0.2222222222222222,
              "#7201a8"
             ],
             [
              0.3333333333333333,
              "#9c179e"
             ],
             [
              0.4444444444444444,
              "#bd3786"
             ],
             [
              0.5555555555555556,
              "#d8576b"
             ],
             [
              0.6666666666666666,
              "#ed7953"
             ],
             [
              0.7777777777777778,
              "#fb9f3a"
             ],
             [
              0.8888888888888888,
              "#fdca26"
             ],
             [
              1,
              "#f0f921"
             ]
            ],
            "type": "contour"
           }
          ],
          "contourcarpet": [
           {
            "colorbar": {
             "outlinewidth": 0,
             "ticks": ""
            },
            "type": "contourcarpet"
           }
          ],
          "heatmap": [
           {
            "colorbar": {
             "outlinewidth": 0,
             "ticks": ""
            },
            "colorscale": [
             [
              0,
              "#0d0887"
             ],
             [
              0.1111111111111111,
              "#46039f"
             ],
             [
              0.2222222222222222,
              "#7201a8"
             ],
             [
              0.3333333333333333,
              "#9c179e"
             ],
             [
              0.4444444444444444,
              "#bd3786"
             ],
             [
              0.5555555555555556,
              "#d8576b"
             ],
             [
              0.6666666666666666,
              "#ed7953"
             ],
             [
              0.7777777777777778,
              "#fb9f3a"
             ],
             [
              0.8888888888888888,
              "#fdca26"
             ],
             [
              1,
              "#f0f921"
             ]
            ],
            "type": "heatmap"
           }
          ],
          "heatmapgl": [
           {
            "colorbar": {
             "outlinewidth": 0,
             "ticks": ""
            },
            "colorscale": [
             [
              0,
              "#0d0887"
             ],
             [
              0.1111111111111111,
              "#46039f"
             ],
             [
              0.2222222222222222,
              "#7201a8"
             ],
             [
              0.3333333333333333,
              "#9c179e"
             ],
             [
              0.4444444444444444,
              "#bd3786"
             ],
             [
              0.5555555555555556,
              "#d8576b"
             ],
             [
              0.6666666666666666,
              "#ed7953"
             ],
             [
              0.7777777777777778,
              "#fb9f3a"
             ],
             [
              0.8888888888888888,
              "#fdca26"
             ],
             [
              1,
              "#f0f921"
             ]
            ],
            "type": "heatmapgl"
           }
          ],
          "histogram": [
           {
            "marker": {
             "colorbar": {
              "outlinewidth": 0,
              "ticks": ""
             }
            },
            "type": "histogram"
           }
          ],
          "histogram2d": [
           {
            "colorbar": {
             "outlinewidth": 0,
             "ticks": ""
            },
            "colorscale": [
             [
              0,
              "#0d0887"
             ],
             [
              0.1111111111111111,
              "#46039f"
             ],
             [
              0.2222222222222222,
              "#7201a8"
             ],
             [
              0.3333333333333333,
              "#9c179e"
             ],
             [
              0.4444444444444444,
              "#bd3786"
             ],
             [
              0.5555555555555556,
              "#d8576b"
             ],
             [
              0.6666666666666666,
              "#ed7953"
             ],
             [
              0.7777777777777778,
              "#fb9f3a"
             ],
             [
              0.8888888888888888,
              "#fdca26"
             ],
             [
              1,
              "#f0f921"
             ]
            ],
            "type": "histogram2d"
           }
          ],
          "histogram2dcontour": [
           {
            "colorbar": {
             "outlinewidth": 0,
             "ticks": ""
            },
            "colorscale": [
             [
              0,
              "#0d0887"
             ],
             [
              0.1111111111111111,
              "#46039f"
             ],
             [
              0.2222222222222222,
              "#7201a8"
             ],
             [
              0.3333333333333333,
              "#9c179e"
             ],
             [
              0.4444444444444444,
              "#bd3786"
             ],
             [
              0.5555555555555556,
              "#d8576b"
             ],
             [
              0.6666666666666666,
              "#ed7953"
             ],
             [
              0.7777777777777778,
              "#fb9f3a"
             ],
             [
              0.8888888888888888,
              "#fdca26"
             ],
             [
              1,
              "#f0f921"
             ]
            ],
            "type": "histogram2dcontour"
           }
          ],
          "mesh3d": [
           {
            "colorbar": {
             "outlinewidth": 0,
             "ticks": ""
            },
            "type": "mesh3d"
           }
          ],
          "parcoords": [
           {
            "line": {
             "colorbar": {
              "outlinewidth": 0,
              "ticks": ""
             }
            },
            "type": "parcoords"
           }
          ],
          "pie": [
           {
            "automargin": true,
            "type": "pie"
           }
          ],
          "scatter": [
           {
            "marker": {
             "colorbar": {
              "outlinewidth": 0,
              "ticks": ""
             }
            },
            "type": "scatter"
           }
          ],
          "scatter3d": [
           {
            "line": {
             "colorbar": {
              "outlinewidth": 0,
              "ticks": ""
             }
            },
            "marker": {
             "colorbar": {
              "outlinewidth": 0,
              "ticks": ""
             }
            },
            "type": "scatter3d"
           }
          ],
          "scattercarpet": [
           {
            "marker": {
             "colorbar": {
              "outlinewidth": 0,
              "ticks": ""
             }
            },
            "type": "scattercarpet"
           }
          ],
          "scattergeo": [
           {
            "marker": {
             "colorbar": {
              "outlinewidth": 0,
              "ticks": ""
             }
            },
            "type": "scattergeo"
           }
          ],
          "scattergl": [
           {
            "marker": {
             "colorbar": {
              "outlinewidth": 0,
              "ticks": ""
             }
            },
            "type": "scattergl"
           }
          ],
          "scattermapbox": [
           {
            "marker": {
             "colorbar": {
              "outlinewidth": 0,
              "ticks": ""
             }
            },
            "type": "scattermapbox"
           }
          ],
          "scatterpolar": [
           {
            "marker": {
             "colorbar": {
              "outlinewidth": 0,
              "ticks": ""
             }
            },
            "type": "scatterpolar"
           }
          ],
          "scatterpolargl": [
           {
            "marker": {
             "colorbar": {
              "outlinewidth": 0,
              "ticks": ""
             }
            },
            "type": "scatterpolargl"
           }
          ],
          "scatterternary": [
           {
            "marker": {
             "colorbar": {
              "outlinewidth": 0,
              "ticks": ""
             }
            },
            "type": "scatterternary"
           }
          ],
          "surface": [
           {
            "colorbar": {
             "outlinewidth": 0,
             "ticks": ""
            },
            "colorscale": [
             [
              0,
              "#0d0887"
             ],
             [
              0.1111111111111111,
              "#46039f"
             ],
             [
              0.2222222222222222,
              "#7201a8"
             ],
             [
              0.3333333333333333,
              "#9c179e"
             ],
             [
              0.4444444444444444,
              "#bd3786"
             ],
             [
              0.5555555555555556,
              "#d8576b"
             ],
             [
              0.6666666666666666,
              "#ed7953"
             ],
             [
              0.7777777777777778,
              "#fb9f3a"
             ],
             [
              0.8888888888888888,
              "#fdca26"
             ],
             [
              1,
              "#f0f921"
             ]
            ],
            "type": "surface"
           }
          ],
          "table": [
           {
            "cells": {
             "fill": {
              "color": "#EBF0F8"
             },
             "line": {
              "color": "white"
             }
            },
            "header": {
             "fill": {
              "color": "#C8D4E3"
             },
             "line": {
              "color": "white"
             }
            },
            "type": "table"
           }
          ]
         },
         "layout": {
          "annotationdefaults": {
           "arrowcolor": "#2a3f5f",
           "arrowhead": 0,
           "arrowwidth": 1
          },
          "coloraxis": {
           "colorbar": {
            "outlinewidth": 0,
            "ticks": ""
           }
          },
          "colorscale": {
           "diverging": [
            [
             0,
             "#8e0152"
            ],
            [
             0.1,
             "#c51b7d"
            ],
            [
             0.2,
             "#de77ae"
            ],
            [
             0.3,
             "#f1b6da"
            ],
            [
             0.4,
             "#fde0ef"
            ],
            [
             0.5,
             "#f7f7f7"
            ],
            [
             0.6,
             "#e6f5d0"
            ],
            [
             0.7,
             "#b8e186"
            ],
            [
             0.8,
             "#7fbc41"
            ],
            [
             0.9,
             "#4d9221"
            ],
            [
             1,
             "#276419"
            ]
           ],
           "sequential": [
            [
             0,
             "#0d0887"
            ],
            [
             0.1111111111111111,
             "#46039f"
            ],
            [
             0.2222222222222222,
             "#7201a8"
            ],
            [
             0.3333333333333333,
             "#9c179e"
            ],
            [
             0.4444444444444444,
             "#bd3786"
            ],
            [
             0.5555555555555556,
             "#d8576b"
            ],
            [
             0.6666666666666666,
             "#ed7953"
            ],
            [
             0.7777777777777778,
             "#fb9f3a"
            ],
            [
             0.8888888888888888,
             "#fdca26"
            ],
            [
             1,
             "#f0f921"
            ]
           ],
           "sequentialminus": [
            [
             0,
             "#0d0887"
            ],
            [
             0.1111111111111111,
             "#46039f"
            ],
            [
             0.2222222222222222,
             "#7201a8"
            ],
            [
             0.3333333333333333,
             "#9c179e"
            ],
            [
             0.4444444444444444,
             "#bd3786"
            ],
            [
             0.5555555555555556,
             "#d8576b"
            ],
            [
             0.6666666666666666,
             "#ed7953"
            ],
            [
             0.7777777777777778,
             "#fb9f3a"
            ],
            [
             0.8888888888888888,
             "#fdca26"
            ],
            [
             1,
             "#f0f921"
            ]
           ]
          },
          "colorway": [
           "#636efa",
           "#EF553B",
           "#00cc96",
           "#ab63fa",
           "#FFA15A",
           "#19d3f3",
           "#FF6692",
           "#B6E880",
           "#FF97FF",
           "#FECB52"
          ],
          "font": {
           "color": "#2a3f5f"
          },
          "geo": {
           "bgcolor": "white",
           "lakecolor": "white",
           "landcolor": "#E5ECF6",
           "showlakes": true,
           "showland": true,
           "subunitcolor": "white"
          },
          "hoverlabel": {
           "align": "left"
          },
          "hovermode": "closest",
          "mapbox": {
           "style": "light"
          },
          "paper_bgcolor": "white",
          "plot_bgcolor": "#E5ECF6",
          "polar": {
           "angularaxis": {
            "gridcolor": "white",
            "linecolor": "white",
            "ticks": ""
           },
           "bgcolor": "#E5ECF6",
           "radialaxis": {
            "gridcolor": "white",
            "linecolor": "white",
            "ticks": ""
           }
          },
          "scene": {
           "xaxis": {
            "backgroundcolor": "#E5ECF6",
            "gridcolor": "white",
            "gridwidth": 2,
            "linecolor": "white",
            "showbackground": true,
            "ticks": "",
            "zerolinecolor": "white"
           },
           "yaxis": {
            "backgroundcolor": "#E5ECF6",
            "gridcolor": "white",
            "gridwidth": 2,
            "linecolor": "white",
            "showbackground": true,
            "ticks": "",
            "zerolinecolor": "white"
           },
           "zaxis": {
            "backgroundcolor": "#E5ECF6",
            "gridcolor": "white",
            "gridwidth": 2,
            "linecolor": "white",
            "showbackground": true,
            "ticks": "",
            "zerolinecolor": "white"
           }
          },
          "shapedefaults": {
           "line": {
            "color": "#2a3f5f"
           }
          },
          "ternary": {
           "aaxis": {
            "gridcolor": "white",
            "linecolor": "white",
            "ticks": ""
           },
           "baxis": {
            "gridcolor": "white",
            "linecolor": "white",
            "ticks": ""
           },
           "bgcolor": "#E5ECF6",
           "caxis": {
            "gridcolor": "white",
            "linecolor": "white",
            "ticks": ""
           }
          },
          "title": {
           "x": 0.05
          },
          "xaxis": {
           "automargin": true,
           "gridcolor": "white",
           "linecolor": "white",
           "ticks": "",
           "title": {
            "standoff": 15
           },
           "zerolinecolor": "white",
           "zerolinewidth": 2
          },
          "yaxis": {
           "automargin": true,
           "gridcolor": "white",
           "linecolor": "white",
           "ticks": "",
           "title": {
            "standoff": 15
           },
           "zerolinecolor": "white",
           "zerolinewidth": 2
          }
         }
        },
        "title": {
         "text": "Slice Plot"
        },
        "xaxis": {
         "anchor": "y",
         "domain": [
          0,
          0.058163265306122446
         ],
         "title": {
          "text": "Fourth Layer"
         }
        },
        "xaxis10": {
         "anchor": "y10",
         "domain": [
          0.6520408163265305,
          0.710204081632653
         ],
         "title": {
          "text": "filters_4"
         }
        },
        "xaxis11": {
         "anchor": "y11",
         "domain": [
          0.7244897959183674,
          0.7826530612244899
         ],
         "title": {
          "text": "kernel_size_1"
         }
        },
        "xaxis12": {
         "anchor": "y12",
         "domain": [
          0.7969387755102041,
          0.8551020408163266
         ],
         "title": {
          "text": "kernel_size_2"
         }
        },
        "xaxis13": {
         "anchor": "y13",
         "domain": [
          0.8693877551020408,
          0.9275510204081633
         ],
         "title": {
          "text": "kernel_size_3"
         }
        },
        "xaxis14": {
         "anchor": "y14",
         "domain": [
          0.9418367346938776,
          1
         ],
         "title": {
          "text": "kernel_size_4"
         }
        },
        "xaxis2": {
         "anchor": "y2",
         "domain": [
          0.07244897959183673,
          0.13061224489795917
         ],
         "title": {
          "text": "dense_layer_nodes_1"
         }
        },
        "xaxis3": {
         "anchor": "y3",
         "domain": [
          0.14489795918367346,
          0.2030612244897959
         ],
         "title": {
          "text": "dropout_1"
         }
        },
        "xaxis4": {
         "anchor": "y4",
         "domain": [
          0.2173469387755102,
          0.2755102040816326
         ],
         "title": {
          "text": "dropout_2"
         }
        },
        "xaxis5": {
         "anchor": "y5",
         "domain": [
          0.2897959183673469,
          0.34795918367346934
         ],
         "title": {
          "text": "dropout_3"
         }
        },
        "xaxis6": {
         "anchor": "y6",
         "domain": [
          0.3622448979591837,
          0.4204081632653061
         ],
         "title": {
          "text": "dropout_4"
         }
        },
        "xaxis7": {
         "anchor": "y7",
         "domain": [
          0.4346938775510204,
          0.4928571428571428
         ],
         "title": {
          "text": "filters_1"
         }
        },
        "xaxis8": {
         "anchor": "y8",
         "domain": [
          0.5071428571428571,
          0.5653061224489796
         ],
         "title": {
          "text": "filters_2"
         }
        },
        "xaxis9": {
         "anchor": "y9",
         "domain": [
          0.5795918367346938,
          0.6377551020408163
         ],
         "title": {
          "text": "filters_3"
         }
        },
        "yaxis": {
         "anchor": "x",
         "domain": [
          0,
          1
         ],
         "title": {
          "text": "Objective Value"
         }
        },
        "yaxis10": {
         "anchor": "x10",
         "domain": [
          0,
          1
         ],
         "matches": "y",
         "showticklabels": false
        },
        "yaxis11": {
         "anchor": "x11",
         "domain": [
          0,
          1
         ],
         "matches": "y",
         "showticklabels": false
        },
        "yaxis12": {
         "anchor": "x12",
         "domain": [
          0,
          1
         ],
         "matches": "y",
         "showticklabels": false
        },
        "yaxis13": {
         "anchor": "x13",
         "domain": [
          0,
          1
         ],
         "matches": "y",
         "showticklabels": false
        },
        "yaxis14": {
         "anchor": "x14",
         "domain": [
          0,
          1
         ],
         "matches": "y",
         "showticklabels": false
        },
        "yaxis2": {
         "anchor": "x2",
         "domain": [
          0,
          1
         ],
         "matches": "y",
         "showticklabels": false
        },
        "yaxis3": {
         "anchor": "x3",
         "domain": [
          0,
          1
         ],
         "matches": "y",
         "showticklabels": false
        },
        "yaxis4": {
         "anchor": "x4",
         "domain": [
          0,
          1
         ],
         "matches": "y",
         "showticklabels": false
        },
        "yaxis5": {
         "anchor": "x5",
         "domain": [
          0,
          1
         ],
         "matches": "y",
         "showticklabels": false
        },
        "yaxis6": {
         "anchor": "x6",
         "domain": [
          0,
          1
         ],
         "matches": "y",
         "showticklabels": false
        },
        "yaxis7": {
         "anchor": "x7",
         "domain": [
          0,
          1
         ],
         "matches": "y",
         "showticklabels": false
        },
        "yaxis8": {
         "anchor": "x8",
         "domain": [
          0,
          1
         ],
         "matches": "y",
         "showticklabels": false
        },
        "yaxis9": {
         "anchor": "x9",
         "domain": [
          0,
          1
         ],
         "matches": "y",
         "showticklabels": false
        }
       }
      }
     },
     "metadata": {},
     "output_type": "display_data"
    },
    {
     "data": {
      "application/vnd.plotly.v1+json": {
       "config": {
        "plotlyServerURL": "https://plot.ly"
       },
       "data": [
        {
         "dimensions": [
          {
           "label": "Objective Value",
           "range": [
            -0.625,
            -0.3798076808452606
           ],
           "values": [
            -0.3798076808452606,
            -0.625
           ]
          },
          {
           "label": "Fourth Layer",
           "range": [
            false,
            true
           ],
           "values": [
            true,
            false
           ]
          },
          {
           "label": "dense_layer_nodes_1",
           "range": [
            64,
            64
           ],
           "values": [
            64,
            64
           ]
          },
          {
           "label": "dropout_1",
           "range": [
            0.7573462327074572,
            0.9292811142151904
           ],
           "values": [
            0.7573462327074572,
            0.9292811142151904
           ]
          },
          {
           "label": "dropout_2",
           "range": [
            0.2777156317392936,
            0.4934688038730549
           ],
           "values": [
            0.2777156317392936,
            0.4934688038730549
           ]
          },
          {
           "label": "dropout_3",
           "range": [
            0.4319286909453611,
            0.8373025398621657
           ],
           "values": [
            0.4319286909453611,
            0.8373025398621657
           ]
          },
          {
           "label": "dropout_4",
           "range": [
            0.9252534962135638,
            0.9252534962135638
           ],
           "values": [
            0.9252534962135638
           ]
          },
          {
           "label": "filters_1",
           "range": [
            64,
            128
           ],
           "values": [
            64,
            128
           ]
          },
          {
           "label": "filters_2",
           "range": [
            32,
            32
           ],
           "values": [
            32,
            32
           ]
          },
          {
           "label": "filters_3",
           "range": [
            64,
            128
           ],
           "values": [
            64,
            128
           ]
          },
          {
           "label": "filters_4",
           "range": [
            16,
            16
           ],
           "values": [
            16
           ]
          },
          {
           "label": "kernel_size_1",
           "range": [
            3,
            4
           ],
           "values": [
            3,
            4
           ]
          },
          {
           "label": "kernel_size_2",
           "range": [
            3,
            4
           ],
           "values": [
            3,
            4
           ]
          },
          {
           "label": "kernel_size_3",
           "range": [
            2,
            3
           ],
           "values": [
            3,
            2
           ]
          },
          {
           "label": "kernel_size_4",
           "range": [
            2,
            2
           ],
           "values": [
            2
           ]
          }
         ],
         "line": {
          "color": [
           -0.3798076808452606,
           -0.625
          ],
          "colorbar": {
           "title": {
            "text": "Objective Value"
           }
          },
          "colorscale": [
           [
            0,
            "rgb(247,251,255)"
           ],
           [
            0.125,
            "rgb(222,235,247)"
           ],
           [
            0.25,
            "rgb(198,219,239)"
           ],
           [
            0.375,
            "rgb(158,202,225)"
           ],
           [
            0.5,
            "rgb(107,174,214)"
           ],
           [
            0.625,
            "rgb(66,146,198)"
           ],
           [
            0.75,
            "rgb(33,113,181)"
           ],
           [
            0.875,
            "rgb(8,81,156)"
           ],
           [
            1,
            "rgb(8,48,107)"
           ]
          ],
          "reversescale": true,
          "showscale": true
         },
         "type": "parcoords"
        }
       ],
       "layout": {
        "template": {
         "data": {
          "bar": [
           {
            "error_x": {
             "color": "#2a3f5f"
            },
            "error_y": {
             "color": "#2a3f5f"
            },
            "marker": {
             "line": {
              "color": "#E5ECF6",
              "width": 0.5
             }
            },
            "type": "bar"
           }
          ],
          "barpolar": [
           {
            "marker": {
             "line": {
              "color": "#E5ECF6",
              "width": 0.5
             }
            },
            "type": "barpolar"
           }
          ],
          "carpet": [
           {
            "aaxis": {
             "endlinecolor": "#2a3f5f",
             "gridcolor": "white",
             "linecolor": "white",
             "minorgridcolor": "white",
             "startlinecolor": "#2a3f5f"
            },
            "baxis": {
             "endlinecolor": "#2a3f5f",
             "gridcolor": "white",
             "linecolor": "white",
             "minorgridcolor": "white",
             "startlinecolor": "#2a3f5f"
            },
            "type": "carpet"
           }
          ],
          "choropleth": [
           {
            "colorbar": {
             "outlinewidth": 0,
             "ticks": ""
            },
            "type": "choropleth"
           }
          ],
          "contour": [
           {
            "colorbar": {
             "outlinewidth": 0,
             "ticks": ""
            },
            "colorscale": [
             [
              0,
              "#0d0887"
             ],
             [
              0.1111111111111111,
              "#46039f"
             ],
             [
              0.2222222222222222,
              "#7201a8"
             ],
             [
              0.3333333333333333,
              "#9c179e"
             ],
             [
              0.4444444444444444,
              "#bd3786"
             ],
             [
              0.5555555555555556,
              "#d8576b"
             ],
             [
              0.6666666666666666,
              "#ed7953"
             ],
             [
              0.7777777777777778,
              "#fb9f3a"
             ],
             [
              0.8888888888888888,
              "#fdca26"
             ],
             [
              1,
              "#f0f921"
             ]
            ],
            "type": "contour"
           }
          ],
          "contourcarpet": [
           {
            "colorbar": {
             "outlinewidth": 0,
             "ticks": ""
            },
            "type": "contourcarpet"
           }
          ],
          "heatmap": [
           {
            "colorbar": {
             "outlinewidth": 0,
             "ticks": ""
            },
            "colorscale": [
             [
              0,
              "#0d0887"
             ],
             [
              0.1111111111111111,
              "#46039f"
             ],
             [
              0.2222222222222222,
              "#7201a8"
             ],
             [
              0.3333333333333333,
              "#9c179e"
             ],
             [
              0.4444444444444444,
              "#bd3786"
             ],
             [
              0.5555555555555556,
              "#d8576b"
             ],
             [
              0.6666666666666666,
              "#ed7953"
             ],
             [
              0.7777777777777778,
              "#fb9f3a"
             ],
             [
              0.8888888888888888,
              "#fdca26"
             ],
             [
              1,
              "#f0f921"
             ]
            ],
            "type": "heatmap"
           }
          ],
          "heatmapgl": [
           {
            "colorbar": {
             "outlinewidth": 0,
             "ticks": ""
            },
            "colorscale": [
             [
              0,
              "#0d0887"
             ],
             [
              0.1111111111111111,
              "#46039f"
             ],
             [
              0.2222222222222222,
              "#7201a8"
             ],
             [
              0.3333333333333333,
              "#9c179e"
             ],
             [
              0.4444444444444444,
              "#bd3786"
             ],
             [
              0.5555555555555556,
              "#d8576b"
             ],
             [
              0.6666666666666666,
              "#ed7953"
             ],
             [
              0.7777777777777778,
              "#fb9f3a"
             ],
             [
              0.8888888888888888,
              "#fdca26"
             ],
             [
              1,
              "#f0f921"
             ]
            ],
            "type": "heatmapgl"
           }
          ],
          "histogram": [
           {
            "marker": {
             "colorbar": {
              "outlinewidth": 0,
              "ticks": ""
             }
            },
            "type": "histogram"
           }
          ],
          "histogram2d": [
           {
            "colorbar": {
             "outlinewidth": 0,
             "ticks": ""
            },
            "colorscale": [
             [
              0,
              "#0d0887"
             ],
             [
              0.1111111111111111,
              "#46039f"
             ],
             [
              0.2222222222222222,
              "#7201a8"
             ],
             [
              0.3333333333333333,
              "#9c179e"
             ],
             [
              0.4444444444444444,
              "#bd3786"
             ],
             [
              0.5555555555555556,
              "#d8576b"
             ],
             [
              0.6666666666666666,
              "#ed7953"
             ],
             [
              0.7777777777777778,
              "#fb9f3a"
             ],
             [
              0.8888888888888888,
              "#fdca26"
             ],
             [
              1,
              "#f0f921"
             ]
            ],
            "type": "histogram2d"
           }
          ],
          "histogram2dcontour": [
           {
            "colorbar": {
             "outlinewidth": 0,
             "ticks": ""
            },
            "colorscale": [
             [
              0,
              "#0d0887"
             ],
             [
              0.1111111111111111,
              "#46039f"
             ],
             [
              0.2222222222222222,
              "#7201a8"
             ],
             [
              0.3333333333333333,
              "#9c179e"
             ],
             [
              0.4444444444444444,
              "#bd3786"
             ],
             [
              0.5555555555555556,
              "#d8576b"
             ],
             [
              0.6666666666666666,
              "#ed7953"
             ],
             [
              0.7777777777777778,
              "#fb9f3a"
             ],
             [
              0.8888888888888888,
              "#fdca26"
             ],
             [
              1,
              "#f0f921"
             ]
            ],
            "type": "histogram2dcontour"
           }
          ],
          "mesh3d": [
           {
            "colorbar": {
             "outlinewidth": 0,
             "ticks": ""
            },
            "type": "mesh3d"
           }
          ],
          "parcoords": [
           {
            "line": {
             "colorbar": {
              "outlinewidth": 0,
              "ticks": ""
             }
            },
            "type": "parcoords"
           }
          ],
          "pie": [
           {
            "automargin": true,
            "type": "pie"
           }
          ],
          "scatter": [
           {
            "marker": {
             "colorbar": {
              "outlinewidth": 0,
              "ticks": ""
             }
            },
            "type": "scatter"
           }
          ],
          "scatter3d": [
           {
            "line": {
             "colorbar": {
              "outlinewidth": 0,
              "ticks": ""
             }
            },
            "marker": {
             "colorbar": {
              "outlinewidth": 0,
              "ticks": ""
             }
            },
            "type": "scatter3d"
           }
          ],
          "scattercarpet": [
           {
            "marker": {
             "colorbar": {
              "outlinewidth": 0,
              "ticks": ""
             }
            },
            "type": "scattercarpet"
           }
          ],
          "scattergeo": [
           {
            "marker": {
             "colorbar": {
              "outlinewidth": 0,
              "ticks": ""
             }
            },
            "type": "scattergeo"
           }
          ],
          "scattergl": [
           {
            "marker": {
             "colorbar": {
              "outlinewidth": 0,
              "ticks": ""
             }
            },
            "type": "scattergl"
           }
          ],
          "scattermapbox": [
           {
            "marker": {
             "colorbar": {
              "outlinewidth": 0,
              "ticks": ""
             }
            },
            "type": "scattermapbox"
           }
          ],
          "scatterpolar": [
           {
            "marker": {
             "colorbar": {
              "outlinewidth": 0,
              "ticks": ""
             }
            },
            "type": "scatterpolar"
           }
          ],
          "scatterpolargl": [
           {
            "marker": {
             "colorbar": {
              "outlinewidth": 0,
              "ticks": ""
             }
            },
            "type": "scatterpolargl"
           }
          ],
          "scatterternary": [
           {
            "marker": {
             "colorbar": {
              "outlinewidth": 0,
              "ticks": ""
             }
            },
            "type": "scatterternary"
           }
          ],
          "surface": [
           {
            "colorbar": {
             "outlinewidth": 0,
             "ticks": ""
            },
            "colorscale": [
             [
              0,
              "#0d0887"
             ],
             [
              0.1111111111111111,
              "#46039f"
             ],
             [
              0.2222222222222222,
              "#7201a8"
             ],
             [
              0.3333333333333333,
              "#9c179e"
             ],
             [
              0.4444444444444444,
              "#bd3786"
             ],
             [
              0.5555555555555556,
              "#d8576b"
             ],
             [
              0.6666666666666666,
              "#ed7953"
             ],
             [
              0.7777777777777778,
              "#fb9f3a"
             ],
             [
              0.8888888888888888,
              "#fdca26"
             ],
             [
              1,
              "#f0f921"
             ]
            ],
            "type": "surface"
           }
          ],
          "table": [
           {
            "cells": {
             "fill": {
              "color": "#EBF0F8"
             },
             "line": {
              "color": "white"
             }
            },
            "header": {
             "fill": {
              "color": "#C8D4E3"
             },
             "line": {
              "color": "white"
             }
            },
            "type": "table"
           }
          ]
         },
         "layout": {
          "annotationdefaults": {
           "arrowcolor": "#2a3f5f",
           "arrowhead": 0,
           "arrowwidth": 1
          },
          "coloraxis": {
           "colorbar": {
            "outlinewidth": 0,
            "ticks": ""
           }
          },
          "colorscale": {
           "diverging": [
            [
             0,
             "#8e0152"
            ],
            [
             0.1,
             "#c51b7d"
            ],
            [
             0.2,
             "#de77ae"
            ],
            [
             0.3,
             "#f1b6da"
            ],
            [
             0.4,
             "#fde0ef"
            ],
            [
             0.5,
             "#f7f7f7"
            ],
            [
             0.6,
             "#e6f5d0"
            ],
            [
             0.7,
             "#b8e186"
            ],
            [
             0.8,
             "#7fbc41"
            ],
            [
             0.9,
             "#4d9221"
            ],
            [
             1,
             "#276419"
            ]
           ],
           "sequential": [
            [
             0,
             "#0d0887"
            ],
            [
             0.1111111111111111,
             "#46039f"
            ],
            [
             0.2222222222222222,
             "#7201a8"
            ],
            [
             0.3333333333333333,
             "#9c179e"
            ],
            [
             0.4444444444444444,
             "#bd3786"
            ],
            [
             0.5555555555555556,
             "#d8576b"
            ],
            [
             0.6666666666666666,
             "#ed7953"
            ],
            [
             0.7777777777777778,
             "#fb9f3a"
            ],
            [
             0.8888888888888888,
             "#fdca26"
            ],
            [
             1,
             "#f0f921"
            ]
           ],
           "sequentialminus": [
            [
             0,
             "#0d0887"
            ],
            [
             0.1111111111111111,
             "#46039f"
            ],
            [
             0.2222222222222222,
             "#7201a8"
            ],
            [
             0.3333333333333333,
             "#9c179e"
            ],
            [
             0.4444444444444444,
             "#bd3786"
            ],
            [
             0.5555555555555556,
             "#d8576b"
            ],
            [
             0.6666666666666666,
             "#ed7953"
            ],
            [
             0.7777777777777778,
             "#fb9f3a"
            ],
            [
             0.8888888888888888,
             "#fdca26"
            ],
            [
             1,
             "#f0f921"
            ]
           ]
          },
          "colorway": [
           "#636efa",
           "#EF553B",
           "#00cc96",
           "#ab63fa",
           "#FFA15A",
           "#19d3f3",
           "#FF6692",
           "#B6E880",
           "#FF97FF",
           "#FECB52"
          ],
          "font": {
           "color": "#2a3f5f"
          },
          "geo": {
           "bgcolor": "white",
           "lakecolor": "white",
           "landcolor": "#E5ECF6",
           "showlakes": true,
           "showland": true,
           "subunitcolor": "white"
          },
          "hoverlabel": {
           "align": "left"
          },
          "hovermode": "closest",
          "mapbox": {
           "style": "light"
          },
          "paper_bgcolor": "white",
          "plot_bgcolor": "#E5ECF6",
          "polar": {
           "angularaxis": {
            "gridcolor": "white",
            "linecolor": "white",
            "ticks": ""
           },
           "bgcolor": "#E5ECF6",
           "radialaxis": {
            "gridcolor": "white",
            "linecolor": "white",
            "ticks": ""
           }
          },
          "scene": {
           "xaxis": {
            "backgroundcolor": "#E5ECF6",
            "gridcolor": "white",
            "gridwidth": 2,
            "linecolor": "white",
            "showbackground": true,
            "ticks": "",
            "zerolinecolor": "white"
           },
           "yaxis": {
            "backgroundcolor": "#E5ECF6",
            "gridcolor": "white",
            "gridwidth": 2,
            "linecolor": "white",
            "showbackground": true,
            "ticks": "",
            "zerolinecolor": "white"
           },
           "zaxis": {
            "backgroundcolor": "#E5ECF6",
            "gridcolor": "white",
            "gridwidth": 2,
            "linecolor": "white",
            "showbackground": true,
            "ticks": "",
            "zerolinecolor": "white"
           }
          },
          "shapedefaults": {
           "line": {
            "color": "#2a3f5f"
           }
          },
          "ternary": {
           "aaxis": {
            "gridcolor": "white",
            "linecolor": "white",
            "ticks": ""
           },
           "baxis": {
            "gridcolor": "white",
            "linecolor": "white",
            "ticks": ""
           },
           "bgcolor": "#E5ECF6",
           "caxis": {
            "gridcolor": "white",
            "linecolor": "white",
            "ticks": ""
           }
          },
          "title": {
           "x": 0.05
          },
          "xaxis": {
           "automargin": true,
           "gridcolor": "white",
           "linecolor": "white",
           "ticks": "",
           "title": {
            "standoff": 15
           },
           "zerolinecolor": "white",
           "zerolinewidth": 2
          },
          "yaxis": {
           "automargin": true,
           "gridcolor": "white",
           "linecolor": "white",
           "ticks": "",
           "title": {
            "standoff": 15
           },
           "zerolinecolor": "white",
           "zerolinewidth": 2
          }
         }
        },
        "title": {
         "text": "Parallel Coordinate Plot"
        }
       }
      }
     },
     "metadata": {},
     "output_type": "display_data"
    }
   ],
   "source": [
    "study = optuna.create_study()\n",
    "study.optimize(objective, n_trials = 2)\n",
    "optuna.visualization.plot_optimization_history(study)\n",
    "optuna.visualization.plot_contour(study)\n",
    "optuna.visualization.plot_intermediate_values(study)\n",
    "optuna.visualization.plot_slice(study)\n",
    "optuna.visualization.plot_parallel_coordinate(study)"
   ]
  }
 ]
}